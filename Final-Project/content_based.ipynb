{
 "cells": [
  {
   "cell_type": "code",
   "execution_count": 1,
   "metadata": {},
   "outputs": [],
   "source": [
    "import pandas as pd\n",
    "import numpy as np\n",
    "import math\n",
    "\n",
    "Ratings=pd.read_csv(\"ml-latest/ratings.csv\")\n",
    "Movies=pd.read_csv(\"ml-latest/movies.csv\")\n",
    "Tags=pd.read_csv(\"ml-latest/tags.csv\")"
   ]
  },
  {
   "cell_type": "markdown",
   "metadata": {},
   "source": [
    "Calculating the TF value and IDF value and multiplying together to get TF-IDF value"
   ]
  },
  {
   "cell_type": "code",
   "execution_count": 4,
   "metadata": {},
   "outputs": [
    {
     "name": "stderr",
     "output_type": "stream",
     "text": [
      "C:\\Users\\lalwa\\Anaconda3\\lib\\site-packages\\ipykernel_launcher.py:19: SettingWithCopyWarning: \n",
      "A value is trying to be set on a copy of a slice from a DataFrame.\n",
      "Try using .loc[row_indexer,col_indexer] = value instead\n",
      "\n",
      "See the caveats in the documentation: http://pandas.pydata.org/pandas-docs/stable/indexing.html#indexing-view-versus-copy\n"
     ]
    }
   ],
   "source": [
    "TF= Tags.groupby(['movieId','tag'], as_index = False, sort = False).count().rename(columns = {'userId': 'tag_count_TF'})[['movieId','tag','tag_count_TF']]\n",
    "\n",
    "Tag_distinct = Tags[['tag','movieId']].drop_duplicates()\n",
    "\n",
    "DF =Tag_distinct.groupby(['tag'], as_index = False, sort = False).count().rename(columns = {'movieId': 'tag_count_DF'})[['tag','tag_count_DF']]\n",
    "\n",
    "a=math.log10(len(np.unique(Tags['movieId'])))\n",
    "\n",
    "DF['IDF']=a-np.log10(DF['tag_count_DF'])\n",
    "                                \n",
    "TF = pd.merge(TF,DF,on = 'tag', how = 'left', sort = False)\n",
    "                                \n",
    "TF['TF-IDF']=TF['tag_count_TF']*TF['IDF']\n",
    "                                \n",
    "#Calculating the unit length vector by dividing TF-IDF value with the vector length of a particular movie.\n",
    "\n",
    "Vect_len=TF[['movieId','TF-IDF']]\n",
    "                                \n",
    "Vect_len['TF-IDF-Sq']=Vect_len['TF-IDF']**2\n",
    "                                \n",
    "Vect_len =Vect_len.groupby(['movieId'], as_index = False, sort = False).sum().rename(columns = {'TF-IDF-Sq':'TF-IDF-Sq-sum'})[['movieId','TF-IDF-Sq-sum']]\n",
    "\n",
    "Vect_len['vect_len'] = np.sqrt(Vect_len[['TF-IDF-Sq-sum']].sum(axis=1))\n",
    "                                \n",
    "TF = pd.merge(TF,Vect_len,on = 'movieId', how = 'left', sort = False)\n",
    "                                \n",
    "TF['TAG_WT']=TF['TF-IDF']/TF['vect_len']\n"
   ]
  },
  {
   "cell_type": "markdown",
   "metadata": {},
   "source": [
    "Calculating the unit length vector by dividing TF-IDF value with the vector length of a particular movie."
   ]
  },
  {
   "cell_type": "code",
   "execution_count": 6,
   "metadata": {},
   "outputs": [
    {
     "name": "stderr",
     "output_type": "stream",
     "text": [
      "C:\\Users\\lalwa\\Anaconda3\\lib\\site-packages\\ipykernel_launcher.py:3: SettingWithCopyWarning: \n",
      "A value is trying to be set on a copy of a slice from a DataFrame.\n",
      "Try using .loc[row_indexer,col_indexer] = value instead\n",
      "\n",
      "See the caveats in the documentation: http://pandas.pydata.org/pandas-docs/stable/indexing.html#indexing-view-versus-copy\n",
      "  This is separate from the ipykernel package so we can avoid doing imports until\n"
     ]
    }
   ],
   "source": [
    "Vect_len = TF[['movieId','TF-IDF']]\n",
    "\n",
    "Vect_len['TF-IDF-Sq'] = Vect_len['TF-IDF']**2\n",
    "\n",
    "Vect_len = Vect_len.groupby(['movieId'], as_index = False, sort = False).sum().rename(columns = {'TF-IDF-Sq': 'TF-IDF-Sq-sum'})[['movieId','TF-IDF-Sq-sum']]\n",
    "\n",
    "Vect_len['vect_len'] = np.sqrt(Vect_len[['TF-IDF-Sq-sum']].sum(axis=1))\n",
    "\n",
    "TF = pd.merge(TF,Vect_len,on = 'movieId', how = 'left', sort = False)\n",
    "\n",
    "TF['TAG_WT'] = TF['TF-IDF']/TF['vect_len']\n",
    "\n"
   ]
  },
  {
   "cell_type": "markdown",
   "metadata": {},
   "source": [
    "In the first part of the assignment with unweighted user profile, the user profile should be the sum of the item-tag vectors of all items the user has rated positively (>= 3.5 stars). "
   ]
  },
  {
   "cell_type": "markdown",
   "metadata": {},
   "source": [
    "Implementing the same and calculate user profile for each user."
   ]
  },
  {
   "cell_type": "code",
   "execution_count": 75,
   "metadata": {},
   "outputs": [],
   "source": [
    "Ratings_filter = Ratings[Ratings['rating'] >= 3.5]\n",
    "\n",
    "distinct_users = np.unique(Ratings['userId'])\n",
    "\n",
    "user_tag_pref=pd.DataFrame()\n",
    "\n",
    "i=1\n",
    "\n",
    "for user in distinct_users[1:2]:\n",
    "    if i%30 ==0:     \n",
    "        print(\"user: \", i , \"out of: \", len(distinct_users))\n",
    "\n",
    "        user_data= Ratings_filter[Ratings_filter['userId']==user]\n",
    "\n",
    "        user_data = pd.merge(TF,user_data,on = 'movieId', how = 'inner', sort = False)\n",
    "        user_data1 = user_data.groupby(['tag'], as_index = False, sort = False).sum().rename(columns = {'TAG_WT': 'tag_pref'})[['tag','tag_pref']]\n",
    " \n",
    "        user_data1['user']=user\n",
    "    \n",
    "        user_tag_pref = user_tag_pref.append(user_data1, ignore_index=True)\n",
    "        print(user_tag_pref)\n",
    "        i=i+1\n",
    "            \n",
    "\n"
   ]
  },
  {
   "cell_type": "markdown",
   "metadata": {},
   "source": [
    "Now we are ready with both the user profile and item profile. Now the final step is to calculate the cosine similarity between the two vectors."
   ]
  },
  {
   "cell_type": "code",
   "execution_count": 63,
   "metadata": {},
   "outputs": [],
   "source": [
    "distinct_users = np.unique(Ratings_filter['userId'])\n",
    "\n",
    "tag_merge_all=pd.DataFrame()\n",
    "\n",
    "i=1\n",
    "\n",
    "for user in distinct_users[1:2]:\n",
    "    user_tag_pref_all = user_tag_pref[user_tag_pref['user'] == user]\n",
    "    distinct_movies = np.unique(TF['movieId'])\n",
    "    j=1\n",
    "    \n",
    "    for movie in distinct_movies:\n",
    "        if j%300==0:\n",
    " \n",
    "            print(\"movie: \", j , \"out of: \", len(distinct_movies) , \"with user: \", i , \"out of: \", len(distinct_users))\n",
    " \n",
    "            TF_Movie= TF[TF['movieId'] == movie]\n",
    "            tag_merge = pd.merge(TF_Movie,user_tag_pref_all,on = 'tag', how = 'left', sort = False)\n",
    "            tag_merge['tag_pref']=tag_merge['tag_pref'].fillna(0)\n",
    "            tag_merge['tag_value']=tag_merge['TAG_WT']*tag_merge['tag_pref']\n",
    " \n",
    "            TAG_WT_val=np.sqrt(np.sum(np.square(tag_merge['TAG_WT']), axis=0))\n",
    "            tag_pref_val=np.sqrt(np.sum(np.square(user_tag_pref_all['tag_pref']), axis=0))\n",
    " \n",
    "            tag_merge_final = tag_merge.groupby(['user','movieId'])[['tag_value']].sum().rename(columns = {'tag_value':'Rating'}).reset_index()\n",
    " \n",
    "            tag_merge_final['Rating']=tag_merge_final['Rating']/(TAG_WT_val*tag_pref_val)\n",
    "            tag_merge_all = tag_merge_all.append(tag_merge_final, ignore_index=True)\n",
    "            j=j+1\n",
    "            i=i+1\n",
    "            tag_merge_all=tag_merge_all.sort_index(by=['user','Rating']).reset_index()\n",
    "            print(tag_merge_all)"
   ]
  },
  {
   "cell_type": "code",
   "execution_count": 64,
   "metadata": {},
   "outputs": [
    {
     "name": "stdout",
     "output_type": "stream",
     "text": [
      "                                      tag  tag_pref  user\n",
      "0                                  sci-fi  1.042482     2\n",
      "1                             space opera  0.395627     2\n",
      "2                               mythology  0.006269     2\n",
      "3                                   nerdy  0.021201     2\n",
      "4                         space adventure  0.382588     2\n",
      "5                                 fantasy  0.277158     2\n",
      "6     the classic sci fi movie. must see.  0.022611     2\n",
      "7                          classic sci-fi  0.418305     2\n",
      "8                            clever names  0.002261     2\n",
      "9                                   geeky  0.011866     2\n",
      "10                             book-based  0.002261     2\n",
      "11                                  space  0.970338     2\n",
      "12                          sci-fi, space  0.014697     2\n",
      "13                           good vs evil  0.145414     2\n",
      "14                             futuristic  0.050056     2\n",
      "15                        Science Fiction  0.378804     2\n",
      "16                                 action -0.319883     2\n",
      "17                                  awful  0.001518     2\n",
      "18                             Bad acting  0.003607     2\n",
      "19                             lasersword  0.003392     2\n",
      "20                                  storm  0.000791     2\n",
      "21                         all time great  0.001131     2\n",
      "22                                 rogues  0.001131     2\n",
      "23                         Groundbreaking  0.007446     2\n",
      "24                             henry ford  0.001131     2\n",
      "25                                  drama  0.074121     2\n",
      "26                                  witty  0.000536     2\n",
      "27                           cult classic  0.075648     2\n",
      "28                                 aliens  0.445217     2\n",
      "29                            atmospheric  0.010097     2\n",
      "...                                   ...       ...   ...\n",
      "1552                             backdoor -0.145400     2\n",
      "1553                  defense contractors -0.290800     2\n",
      "1554                            parachute -0.270919     2\n",
      "1555                              treason -0.112379     2\n",
      "1556                Arnold Schwarzenegger -1.517264     2\n",
      "1557                           conspiracy -0.465632     2\n",
      "1558                              railgun -0.436200     2\n",
      "1559                  Vanessa L. Williams -0.541839     2\n",
      "1560                        Oscar Nominee -0.206348     2\n",
      "1561                           James Caan -0.112379     2\n",
      "1562                     realistic action -0.100434     2\n",
      "1563                        Chuck Russell -0.125519     2\n",
      "1564                                watch -0.095698     2\n",
      "1565                       George Clooney  0.629629     2\n",
      "1566                      Michael Hoffman  0.275276     2\n",
      "1567                         Alex D. Linz  0.297077     2\n",
      "1568                      Charles Durning  0.297077     2\n",
      "1569                          Mae Whitman  0.297077     2\n",
      "1570                    Michelle Pfeiffer  0.220263     2\n",
      "1571                        single father  0.238207     2\n",
      "1572                                mafia  0.468710     2\n",
      "1573                         Brian Gibson  0.786655     2\n",
      "1574                         16th century  0.000000     2\n",
      "1575                                India  0.000000     2\n",
      "1576                nudity (full frontal)  0.000000     2\n",
      "1577                              royalty  0.000000     2\n",
      "1578                            courtesan  0.000000     2\n",
      "1579      Nudity (Full Frontal - Notable)  0.000000     2\n",
      "1580                              DVD-RAM  0.000000     2\n",
      "1581                         Bill Bennett  0.832867     2\n",
      "\n",
      "[1582 rows x 3 columns]\n"
     ]
    },
    {
     "name": "stderr",
     "output_type": "stream",
     "text": [
      "C:\\Users\\lalwa\\Anaconda3\\lib\\site-packages\\ipykernel_launcher.py:11: SettingWithCopyWarning: \n",
      "A value is trying to be set on a copy of a slice from a DataFrame.\n",
      "Try using .loc[row_indexer,col_indexer] = value instead\n",
      "\n",
      "See the caveats in the documentation: http://pandas.pydata.org/pandas-docs/stable/indexing.html#indexing-view-versus-copy\n",
      "  # This is added back by InteractiveShellApp.init_path()\n"
     ]
    }
   ],
   "source": [
    "distinct_users = np.unique(Ratings['userId'])\n",
    "user_tag_pref = pd.DataFrame()\n",
    "i=1\n",
    "for user in distinct_users[1:2]:\n",
    "\n",
    "    if i%30==0:\n",
    "        print (\"user: \", i , \"out of: \", len(distinct_users))\n",
    " \n",
    "user_data = Ratings[Ratings['userId'] == user]\n",
    "               \n",
    "user_data['weight'] = user_data['rating']-user_data['rating'].drop_duplicates().mean()\n",
    "user_data1 = pd.merge(TF,user_data,on = 'movieId', how = 'inner', sort = False)\n",
    "user_data1['TAG_WT_WTD'] = user_data1['TAG_WT']*user_data1['weight']\n",
    "user_data2 = user_data1.groupby(['tag'], as_index = False, sort = False).sum().rename(columns = {'TAG_WT_WTD':'tag_pref'})[['tag','tag_pref']]\n",
    "user_data2['user'] = user\n",
    "user_tag_pref = user_tag_pref.append(user_data2, ignore_index=True)\n",
    "i=i+1\n",
    "print(user_tag_pref)"
   ]
  },
  {
   "cell_type": "markdown",
   "metadata": {},
   "source": [
    "Again calculating cosine similarity between the two vectors"
   ]
  },
  {
   "cell_type": "code",
   "execution_count": 61,
   "metadata": {},
   "outputs": [
    {
     "name": "stdout",
     "output_type": "stream",
     "text": [
      "   index  user  movieId  Rating\n",
      "0      0   2.0   176279     0.0\n"
     ]
    },
    {
     "name": "stderr",
     "output_type": "stream",
     "text": [
      "C:\\Users\\lalwa\\Anaconda3\\lib\\site-packages\\ipykernel_launcher.py:35: FutureWarning: by argument to sort_index is deprecated, please use .sort_values(by=...)\n"
     ]
    }
   ],
   "source": [
    "distinct_users=np.unique(Ratings['userId'])\n",
    "\n",
    "tag_merge_all=pd.DataFrame()\n",
    "\n",
    "i=1\n",
    "\n",
    "for user in distinct_users[1:2]:\n",
    " \n",
    "    user_tag_pref_all= user_tag_pref[user_tag_pref['user']==user]\n",
    "    distinct_movies = np.unique(TF['movieId'])\n",
    "    j=1\n",
    "    for movie in distinct_movies:\n",
    "         if j%300==0:\n",
    "            print(\"movie: \", j , \"out of: \", len(distinct_movies) , \"with user: \", i , \"out of: \", len(distinct_users))\n",
    " \n",
    "TF_Movie= TF[TF['movieId'] == movie]\n",
    "tag_merge = pd.merge(TF_Movie,user_tag_pref_all,on = 'tag', how = 'left', sort = False)\n",
    "\n",
    "tag_merge['tag_pref']=tag_merge['tag_pref'].fillna(0)\n",
    "\n",
    "tag_merge['tag_value']=tag_merge['TAG_WT']*tag_merge['tag_pref']\n",
    " \n",
    "TAG_WT_val=np.sqrt(np.sum(np.square(tag_merge['TAG_WT']), axis=0))\n",
    "\n",
    "tag_pref_val=np.sqrt(np.sum(np.square(user_tag_pref_all['tag_pref']), axis=0))\n",
    " \n",
    "tag_merge_final = tag_merge.groupby(['user','movieId'])[['tag_value']].sum().rename(columns = {'tag_value': 'Rating'}).reset_index()\n",
    " \n",
    "tag_merge_final['Rating']=tag_merge_final['Rating']/(TAG_WT_val*tag_pref_val)\n",
    " \n",
    "tag_merge_all = tag_merge_all.append(tag_merge_final, ignore_index=True)\n",
    "\n",
    "j=j+1\n",
    "i=i+1\n",
    "tag_merge_all=tag_merge_all.sort_index(by=['user','Rating']).reset_index()\n",
    "\n",
    "print(tag_merge_all)"
   ]
  },
  {
   "cell_type": "code",
   "execution_count": null,
   "metadata": {},
   "outputs": [],
   "source": []
  }
 ],
 "metadata": {
  "kernelspec": {
   "display_name": "Python 3",
   "language": "python",
   "name": "python3"
  },
  "language_info": {
   "codemirror_mode": {
    "name": "ipython",
    "version": 3
   },
   "file_extension": ".py",
   "mimetype": "text/x-python",
   "name": "python",
   "nbconvert_exporter": "python",
   "pygments_lexer": "ipython3",
   "version": "3.6.4"
  }
 },
 "nbformat": 4,
 "nbformat_minor": 2
}
