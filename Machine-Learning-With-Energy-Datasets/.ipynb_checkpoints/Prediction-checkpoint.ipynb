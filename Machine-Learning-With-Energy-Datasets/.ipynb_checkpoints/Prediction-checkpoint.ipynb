{
 "cells": [
  {
   "cell_type": "code",
   "execution_count": 105,
   "metadata": {
    "collapsed": true
   },
   "outputs": [],
   "source": [
    "import pandas as pd\n",
    "import numpy as np\n",
    "import operator\n",
    "from math import sqrt\n",
    "from sklearn.model_selection import train_test_split, cross_val_score\n",
    "from sklearn.metrics import mean_squared_error, mean_absolute_error, r2_score\n",
    "from matplotlib import pyplot as plt\n",
    "from sklearn.feature_selection import RFE\n",
    "from sklearn.ensemble import GradientBoostingRegressor  \n",
    "from sklearn import cross_validation, metrics   \n",
    "from sklearn.grid_search import GridSearchCV\n",
    "from sklearn.cross_validation import LeaveOneLabelOut\n",
    "from sklearn.preprocessing import StandardScaler\n",
    "from sklearn.ensemble import RandomForestRegressor\n",
    "from sklearn.linear_model import LinearRegression\n",
    "from sklearn.neural_network import MLPRegressor \n",
    "import pandas_profiling\n",
    "import datetime\n"
   ]
  },
  {
   "cell_type": "markdown",
   "metadata": {},
   "source": [
    "## IMPORTING DATASET"
   ]
  },
  {
   "cell_type": "code",
   "execution_count": 3,
   "metadata": {
    "collapsed": true
   },
   "outputs": [],
   "source": [
    "df = pd.read_csv(\"energydata_complete.csv\")"
   ]
  },
  {
   "cell_type": "code",
   "execution_count": null,
   "metadata": {
    "collapsed": true
   },
   "outputs": [],
   "source": [
    "df.apply(lambda x: sum(x.isnull()))"
   ]
  },
  {
   "cell_type": "code",
   "execution_count": null,
   "metadata": {
    "collapsed": true
   },
   "outputs": [],
   "source": [
    "pandas_profiling.ProfileReport(df)"
   ]
  },
  {
   "cell_type": "markdown",
   "metadata": {},
   "source": [
    "## ONE HOT ENCODING"
   ]
  },
  {
   "cell_type": "code",
   "execution_count": 4,
   "metadata": {
    "collapsed": true
   },
   "outputs": [],
   "source": [
    "df['date'] = pd.to_datetime(df.date)\n",
    "\n",
    "df['weekday'] = df['date'].dt.strftime('%A')\n",
    "\n",
    "df['Month'] = df['date'].dt.strftime('%m').astype('int64')\n",
    "\n",
    "df['Week_no'] = df['date'].dt.strftime('%W').astype('int64')\n",
    "\n",
    "df['Hour_of_the_day'] = df['date'].dt.strftime('%H').astype('int64')\n",
    "\n",
    "df['NSM'] = df['date'].dt.strftime('%H:%M:%S')\n",
    "df['NSM'] = df['NSM'].str.split(':').apply(lambda x: int(x[0]) * 3600 + int(x[1]) *60 + int(x[2]))\n",
    "\n",
    "df['WeekStatus'] = (df['date'].dt.strftime('%w').astype(int) < 5).astype('int64')\n",
    "\n",
    "df['date'] = df['date'].dt.strftime('%Y-%m-%d %H:%M:%S')\n",
    "\n",
    "W_Status = pd.get_dummies(df.WeekStatus,prefix='W_Status').astype('int64')\n",
    "Day_W = pd.get_dummies(df.weekday, prefix = 'Dy_w').astype('int64')\n",
    "\n",
    "df = pd.concat([df,W_Status,Day_W],axis=1)\n"
   ]
  },
  {
   "cell_type": "code",
   "execution_count": 5,
   "metadata": {
    "collapsed": true
   },
   "outputs": [],
   "source": [
    "featureColumns = ['Appliances','NSM','lights','T1','RH_1','T2','RH_2','T3','RH_3','T4','RH_4','T5','RH_5','T6','RH_6',\n",
    "                  'T7','RH_7','T8','RH_8','T9','RH_9','T_out','RH_out','Visibility','Windspeed','Tdewpoint',\n",
    "                  'Press_mm_hg','W_Status_1','W_Status_0',\n",
    "                  'Dy_w_Monday','Dy_w_Tuesday','Dy_w_Wednesday','Dy_w_Thursday',\n",
    "                  'Dy_w_Friday','Dy_w_Saturday','Dy_w_Sunday']"
   ]
  },
  {
   "cell_type": "code",
   "execution_count": 6,
   "metadata": {
    "collapsed": true
   },
   "outputs": [],
   "source": [
    "df = df[featureColumns]"
   ]
  },
  {
   "cell_type": "markdown",
   "metadata": {},
   "source": [
    "## TEST TRAIN SPLIT"
   ]
  },
  {
   "cell_type": "code",
   "execution_count": 7,
   "metadata": {
    "collapsed": true
   },
   "outputs": [],
   "source": [
    "X = df.drop(['Appliances'],axis=1)\n",
    "y = df['Appliances']\n",
    "\n",
    "X_train, X_test, y_train, y_test = train_test_split(X, y, test_size=0.25, random_state=42) "
   ]
  },
  {
   "cell_type": "markdown",
   "metadata": {},
   "source": [
    "## RFE USING RANDOM FOREST"
   ]
  },
  {
   "cell_type": "code",
   "execution_count": 142,
   "metadata": {},
   "outputs": [
    {
     "name": "stdout",
     "output_type": "stream",
     "text": [
      "[ True False False  True False  True  True  True  True  True False  True\n",
      "  True  True False  True  True  True False  True False  True False False\n",
      "  True  True False False False False False False False False False]\n",
      "[ 1  6  7  1  3  1  1  1  1  1  2  1  1  1  4  1  1  1  9  1  5  1 10  8\n",
      "  1  1 11 12 13 16 19 18 14 15 17]\n",
      "17\n"
     ]
    },
    {
     "data": {
      "text/plain": [
       "0.9450390588493636"
      ]
     },
     "execution_count": 142,
     "metadata": {},
     "output_type": "execute_result"
    }
   ],
   "source": [
    "model = RandomForestRegressor(n_estimators=300, max_features = 11)\n",
    "    # create the RFE model and select 3 attributes\n",
    "rfe = RFE(model)\n",
    "rfe = rfe.fit(X_train, y_train)\n",
    "    # summarize the selection of the attributes\n",
    "print(rfe.support_)\n",
    "print(rfe.ranking_)\n",
    "print(rfe.n_features_)\n",
    "    #Check the accuracy of the model\n",
    "rfe.score(X_train, y_train)"
   ]
  },
  {
   "cell_type": "code",
   "execution_count": 100,
   "metadata": {
    "collapsed": true
   },
   "outputs": [],
   "source": [
    "from sklearn.preprocessing import MinMaxScaler\n",
    "min_max=MinMaxScaler()"
   ]
  },
  {
   "cell_type": "code",
   "execution_count": null,
   "metadata": {
    "collapsed": true
   },
   "outputs": [],
   "source": [
    "X_train_minmax = min_max.fit_transform(X_train)"
   ]
  },
  {
   "cell_type": "code",
   "execution_count": null,
   "metadata": {
    "collapsed": true
   },
   "outputs": [],
   "source": [
    "X_test_minmax=min_max.fit_transform(X_test)"
   ]
  },
  {
   "cell_type": "markdown",
   "metadata": {},
   "source": [
    "## SCALING THE DATA"
   ]
  },
  {
   "cell_type": "code",
   "execution_count": null,
   "metadata": {
    "collapsed": true
   },
   "outputs": [],
   "source": [
    "scaler = StandardScaler()"
   ]
  },
  {
   "cell_type": "code",
   "execution_count": null,
   "metadata": {
    "collapsed": true
   },
   "outputs": [],
   "source": [
    "X_train_scale=scaler.fit_transform(X_train)"
   ]
  },
  {
   "cell_type": "code",
   "execution_count": null,
   "metadata": {
    "collapsed": true
   },
   "outputs": [],
   "source": [
    "X_test_scale=scaler.fit_transform(X_test)"
   ]
  },
  {
   "cell_type": "markdown",
   "metadata": {},
   "source": [
    "## ERROR METRICS"
   ]
  },
  {
   "cell_type": "code",
   "execution_count": 8,
   "metadata": {
    "collapsed": true
   },
   "outputs": [],
   "source": [
    "error_metric = pd.DataFrame({'r2_train': [],\n",
    "                            'r2_test': [],\n",
    "                             'rms_train':[], \n",
    "                            'rms_test': [],\n",
    "                            'mae_train': [],\n",
    "                            'mae_test':[],\n",
    "                            'mape_train':[],\n",
    "                            'mape_test':[]})\n",
    "    \n",
    "rmse_dict = {}    \n",
    "        \n",
    "def calc_error_metric(modelname, model, X_train_scale, y_train, X_test_scale, y_test):\n",
    "    global error_metric\n",
    "    y_train_predicted = model.predict(X_train)\n",
    "    y_test_predicted = model.predict(X_test)\n",
    "        \n",
    "    #MAE, RMS, MAPE, R2\n",
    "    \n",
    "    r2_train = r2_score(y_train, y_train_predicted)\n",
    "    r2_test = r2_score(y_test, y_test_predicted)\n",
    "    \n",
    "    rms_train = sqrt(mean_squared_error(y_train, y_train_predicted))\n",
    "    rms_test = sqrt(mean_squared_error(y_test, y_test_predicted))\n",
    "        \n",
    "    mae_train = mean_absolute_error(y_train, y_train_predicted)\n",
    "    mae_test = mean_absolute_error(y_test, y_test_predicted)\n",
    "        \n",
    "    mape_train = np.mean(np.abs((y_train - y_train_predicted) / y_train)) * 100\n",
    "    mape_test = np.mean(np.abs((y_test - y_test_predicted) / y_test)) * 100\n",
    "        \n",
    "    rmse_dict[modelname] = rms_test\n",
    "        \n",
    "    df_local = pd.DataFrame({'Model':[modelname],\n",
    "                            'r2_train': [r2_train],\n",
    "                            'r2_test': [r2_test],\n",
    "                            'rms_train':[rms_train], \n",
    "                            'rms_test': [rms_test],\n",
    "                            'mae_train': [mae_train],\n",
    "                            'mae_test': [mae_test],\n",
    "                            'mape_train':[mape_train],\n",
    "                            'mape_test':[mape_test]})\n",
    "        \n",
    "    error_metric = pd.concat([error_metric, df_local])\n",
    "    return error_metric"
   ]
  },
  {
   "cell_type": "markdown",
   "metadata": {},
   "source": [
    "## PREDICTION MODELS"
   ]
  },
  {
   "cell_type": "code",
   "execution_count": 9,
   "metadata": {},
   "outputs": [
    {
     "name": "stdout",
     "output_type": "stream",
     "text": [
      "Regression completed\n",
      "RandomForest completed\n",
      "Neural Network completed\n",
      "Best Model is  RandomForest\n"
     ]
    }
   ],
   "source": [
    "# Regression\n",
    "clf = LinearRegression()\n",
    "clf.fit(X_train, y_train)\n",
    "calc_error_metric('Regression', clf, X_train, y_train, X_test, y_test)\n",
    "print('Regression completed')\n",
    "\n",
    "# Random Forest\n",
    "rf = RandomForestRegressor(n_estimators=100, max_depth=7)\n",
    "rf.fit(X_train, y_train)\n",
    "calc_error_metric('RandomForest', rf, X_train, y_train, X_test, y_test)\n",
    "print('RandomForest completed')\n",
    "    \n",
    "# Neural network\n",
    "nn = MLPRegressor()\n",
    "nn.fit(X_train, y_train)\n",
    "calc_error_metric('Nueral Network', nn, X_train, y_train, X_test, y_test)\n",
    "print('Neural Network completed')\n",
    "    \n",
    "#### Calculate best model\n",
    "best_model =  min(rmse_dict.items(),key=operator.itemgetter(1))[0]\n",
    "print('Best Model is ', best_model)\n",
    "    \n",
    "#### Write the error\n",
    "error_metric.to_csv('Error_metrics.csv')"
   ]
  },
  {
   "cell_type": "code",
   "execution_count": 10,
   "metadata": {},
   "outputs": [
    {
     "data": {
      "text/html": [
       "<div>\n",
       "<style scoped>\n",
       "    .dataframe tbody tr th:only-of-type {\n",
       "        vertical-align: middle;\n",
       "    }\n",
       "\n",
       "    .dataframe tbody tr th {\n",
       "        vertical-align: top;\n",
       "    }\n",
       "\n",
       "    .dataframe thead th {\n",
       "        text-align: right;\n",
       "    }\n",
       "</style>\n",
       "<table border=\"1\" class=\"dataframe\">\n",
       "  <thead>\n",
       "    <tr style=\"text-align: right;\">\n",
       "      <th></th>\n",
       "      <th>Model</th>\n",
       "      <th>mae_test</th>\n",
       "      <th>mae_train</th>\n",
       "      <th>mape_test</th>\n",
       "      <th>mape_train</th>\n",
       "      <th>r2_test</th>\n",
       "      <th>r2_train</th>\n",
       "      <th>rms_test</th>\n",
       "      <th>rms_train</th>\n",
       "    </tr>\n",
       "  </thead>\n",
       "  <tbody>\n",
       "    <tr>\n",
       "      <th>0</th>\n",
       "      <td>Regression</td>\n",
       "      <td>52.954546</td>\n",
       "      <td>53.124709</td>\n",
       "      <td>63.023106</td>\n",
       "      <td>61.001825</td>\n",
       "      <td>0.163900</td>\n",
       "      <td>0.176196</td>\n",
       "      <td>91.135629</td>\n",
       "      <td>93.898834</td>\n",
       "    </tr>\n",
       "    <tr>\n",
       "      <th>0</th>\n",
       "      <td>RandomForest</td>\n",
       "      <td>45.709159</td>\n",
       "      <td>44.140042</td>\n",
       "      <td>51.185778</td>\n",
       "      <td>47.452082</td>\n",
       "      <td>0.278565</td>\n",
       "      <td>0.368285</td>\n",
       "      <td>84.655961</td>\n",
       "      <td>82.225930</td>\n",
       "    </tr>\n",
       "    <tr>\n",
       "      <th>0</th>\n",
       "      <td>Nueral Network</td>\n",
       "      <td>48.285386</td>\n",
       "      <td>48.933215</td>\n",
       "      <td>49.540432</td>\n",
       "      <td>47.747880</td>\n",
       "      <td>0.081774</td>\n",
       "      <td>0.077038</td>\n",
       "      <td>95.506707</td>\n",
       "      <td>99.389427</td>\n",
       "    </tr>\n",
       "  </tbody>\n",
       "</table>\n",
       "</div>"
      ],
      "text/plain": [
       "            Model   mae_test  mae_train  mape_test  mape_train   r2_test  \\\n",
       "0      Regression  52.954546  53.124709  63.023106   61.001825  0.163900   \n",
       "0    RandomForest  45.709159  44.140042  51.185778   47.452082  0.278565   \n",
       "0  Nueral Network  48.285386  48.933215  49.540432   47.747880  0.081774   \n",
       "\n",
       "   r2_train   rms_test  rms_train  \n",
       "0  0.176196  91.135629  93.898834  \n",
       "0  0.368285  84.655961  82.225930  \n",
       "0  0.077038  95.506707  99.389427  "
      ]
     },
     "execution_count": 10,
     "metadata": {},
     "output_type": "execute_result"
    }
   ],
   "source": [
    "error_metric"
   ]
  },
  {
   "cell_type": "code",
   "execution_count": 18,
   "metadata": {},
   "outputs": [
    {
     "name": "stdout",
     "output_type": "stream",
     "text": [
      "Regression completed\n",
      "RandomForest completed\n",
      "Neural Network completed\n",
      "Best Model is  RandomForest\n"
     ]
    }
   ],
   "source": [
    "# Regression\n",
    "clf = LinearRegression(n_jobs = -1)\n",
    "clf.fit(X_train, y_train)\n",
    "calc_error_metric('Regression', clf, X_train, y_train, X_test, y_test)\n",
    "print('Regression completed')\n",
    "\n",
    "# Random Forest\n",
    "rf = RandomForestRegressor(n_estimators=115,max_features=6)\n",
    "rf.fit(X_train, y_train)\n",
    "calc_error_metric('RandomForest', rf, X_train, y_train, X_test, y_test)\n",
    "print('RandomForest completed')\n",
    "     \n",
    "# Neural network\n",
    "nn = MLPRegressor(activation='logistic',learning_rate='adaptive',alpha=0.3)\n",
    "nn.fit(X_train, y_train)\n",
    "calc_error_metric('Neural Network', nn, X_train, y_train, X_test, y_test)\n",
    "print('Neural Network completed')\n",
    "    \n",
    "#### Calculate best model\n",
    "best_model =  min(rmse_dict.items(),key=operator.itemgetter(1))[0]\n",
    "print('Best Model is ', best_model)\n"
   ]
  },
  {
   "cell_type": "code",
   "execution_count": 20,
   "metadata": {},
   "outputs": [
    {
     "data": {
      "text/plain": [
       "array([0.10434549, 0.03015097, 0.02969856, 0.04577533, 0.03457809,\n",
       "       0.04069588, 0.04081093, 0.04032002, 0.03060556, 0.03437905,\n",
       "       0.03070807, 0.040131  , 0.03633315, 0.03550157, 0.03133311,\n",
       "       0.03773268, 0.0349445 , 0.03879394, 0.02675803, 0.0346964 ,\n",
       "       0.03300138, 0.03634332, 0.01978572, 0.02903358, 0.03527542,\n",
       "       0.0409935 , 0.00364892, 0.00508123, 0.00529359, 0.00183934,\n",
       "       0.00160757, 0.00133822, 0.00373347, 0.00257539, 0.00215702])"
      ]
     },
     "execution_count": 20,
     "metadata": {},
     "output_type": "execute_result"
    }
   ],
   "source": [
    "rf.feature_importances_"
   ]
  },
  {
   "cell_type": "markdown",
   "metadata": {},
   "source": [
    "## RF FEATURE IMPORTANCE PLOT"
   ]
  },
  {
   "cell_type": "code",
   "execution_count": 21,
   "metadata": {},
   "outputs": [
    {
     "data": {
      "text/plain": [
       "Text(0,0.5,'Feature Importance Score')"
      ]
     },
     "execution_count": 21,
     "metadata": {},
     "output_type": "execute_result"
    },
    {
     "data": {
      "image/png": "[encoded data removed]",
      "text/plain": [
       "<matplotlib.figure.Figure at 0x19f51dff630>"
      ]
     },
     "metadata": {},
     "output_type": "display_data"
    }
   ],
   "source": [
    "feat_imp = pd.Series(rf.feature_importances_,X_train.columns).sort_values(ascending=False)\n",
    "feat_imp.plot(kind='bar', title='Feature Importances',figsize = (15,8))\n",
    "plt.ylabel('Feature Importance Score')"
   ]
  },
  {
   "cell_type": "markdown",
   "metadata": {},
   "source": [
    "## GBM"
   ]
  },
  {
   "cell_type": "code",
   "execution_count": null,
   "metadata": {
    "collapsed": true
   },
   "outputs": [],
   "source": [
    "gbrt=GradientBoostingRegressor(n_estimators= 300,learning_rate = 1.0, max_features= 'sqrt') \n",
    "\n",
    "gbrt.fit(X_train, y_train)\n",
    "y_pred=gbrt.predict(X_test) \n",
    "\n",
    "print (\"Feature Importances\" )\n",
    "print (gbrt.feature_importances_)\n",
    "       \n",
    "\n",
    "print (\"R-squared for Train: %.2f\" %gbrt.score(X_train, y_train))\n",
    "print (\"R-squared for Test: %.2f\" %gbrt.score(X_test, y_test))\n",
    "       "
   ]
  },
  {
   "cell_type": "markdown",
   "metadata": {},
   "source": [
    "## GBM WITH GRID SEARCH CV"
   ]
  },
  {
   "cell_type": "code",
   "execution_count": null,
   "metadata": {
    "collapsed": true
   },
   "outputs": [],
   "source": [
    "def GradientBooster(param_grid, n_jobs): \n",
    "    estimator = GradientBoostingRegressor()\n",
    "    cv = LeaveOneLabelOut(X_train.shape)\n",
    "    classifier = GridSearchCV(estimator=estimator, cv=cv, param_grid=param_grid, n_jobs=n_jobs) \n",
    "    classifier.fit(X_train, y_train)\n",
    "    print(\"Best Estimator learned through GridSearch\" )\n",
    "    classifier.best_estimator_ \n",
    "    return classifier.best_estimator_ "
   ]
  },
  {
   "cell_type": "code",
   "execution_count": null,
   "metadata": {
    "collapsed": true,
    "scrolled": true
   },
   "outputs": [],
   "source": [
    "param_grid={'n_estimators':[300], \n",
    "            'learning_rate': [0.1],# 0.05, 0.02, 0.01], \n",
    "            'max_depth':[6],#4,6], \n",
    "            'min_samples_leaf':[5],#,5,9,17], \n",
    "            'max_features':[1.0] #,0.3]#,0.1]\n",
    "           } \n",
    "n_jobs = 7 \n",
    "best_est=GradientBooster(param_grid, n_jobs)"
   ]
  },
  {
   "cell_type": "code",
   "execution_count": null,
   "metadata": {
    "collapsed": true,
    "scrolled": true
   },
   "outputs": [],
   "source": [
    "print(\"Best Estimator Parameters\") \n",
    "print(\"---------------------------\")\n",
    "print(\"n_estimators: %d\" %best_est.n_estimators)\n",
    "print(\"max_depth: %d\" %best_est.max_depth)\n",
    "print(\"Learning Rate: %.1f\" %best_est.learning_rate)\n",
    "print(\"min_samples_leaf: %d\" %best_est.min_samples_leaf)\n",
    "print(\"max_features: %.1f\" %best_est.max_features) \n",
    "print(\"Train R-squared: %.2f\" %best_est.score(X_train,y_train))\n",
    "print(\"Test R-squared: %.2f\" %best_est.score(X_test,y_test))\n",
    "print(\"Train RMSE : %.2f\"%sqrt(mean_squared_error(y_train, best_est.predict(X_train))))\n",
    "print(\"Test RMSE : %.2f \"%sqrt(mean_squared_error(y_test, best_est.predict(X_test))))\n",
    "\n"
   ]
  },
  {
   "cell_type": "code",
   "execution_count": null,
   "metadata": {
    "collapsed": true
   },
   "outputs": [],
   "source": [
    "feat_imp = pd.Series(best_est.feature_importances_,X_train.columns).sort_values(ascending=False)\n",
    "feat_imp.plot(kind='bar', title='Feature Importances',figsize = (15,8))\n",
    "plt.ylabel('Feature Importance Score')"
   ]
  },
  {
   "cell_type": "markdown",
   "metadata": {},
   "source": [
    "## GBM no lights"
   ]
  },
  {
   "cell_type": "code",
   "execution_count": 13,
   "metadata": {
    "collapsed": true
   },
   "outputs": [],
   "source": [
    "nolights = ['NSM','T1','RH_1','T2','RH_2','T3','RH_3','T4','RH_4','T5','RH_5',\n",
    "                  'T6','RH_6','T7','RH_7','T8','RH_8','T9','RH_9','T_out','RH_out','Visibility',\n",
    "                  'Windspeed','Tdewpoint','Press_mm_hg','W_Status_0','W_Status_1',\n",
    "                  'Dy_w_Monday','Dy_w_Tuesday','Dy_w_Wednesday',\n",
    "                  'Dy_w_Thursday','Dy_w_Friday','Dy_w_Saturday','Dy_w_Sunday']"
   ]
  },
  {
   "cell_type": "code",
   "execution_count": 47,
   "metadata": {},
   "outputs": [
    {
     "data": {
      "text/plain": [
       "(0.9430184756034223, 0.6165235977476502)"
      ]
     },
     "execution_count": 47,
     "metadata": {},
     "output_type": "execute_result"
    }
   ],
   "source": [
    "# Random Forest\n",
    "r2_train,r2_test"
   ]
  },
  {
   "cell_type": "markdown",
   "metadata": {},
   "source": [
    "## GBM no lights and weather data"
   ]
  },
  {
   "cell_type": "code",
   "execution_count": 44,
   "metadata": {
    "collapsed": true
   },
   "outputs": [],
   "source": [
    "nolightsWeather = ['NSM','T1','RH_1','T2','RH_2','T3','RH_3','T4','RH_4','T5','RH_5',\n",
    "                  'T6','RH_6','T7','RH_7','T8','RH_8','T9','RH_9','W_Status_0','W_Status_1',\n",
    "                  'Dy_w_Monday','Dy_w_Tuesday','Dy_w_Wednesday',\n",
    "                  'Dy_w_Thursday','Dy_w_Friday','Dy_w_Saturday','Dy_w_Sunday']"
   ]
  },
  {
   "cell_type": "code",
   "execution_count": 14,
   "metadata": {
    "collapsed": true
   },
   "outputs": [],
   "source": [
    "XtrainNew = X_train[nolights]\n",
    "XtestNew = X_test[nolights]"
   ]
  },
  {
   "cell_type": "code",
   "execution_count": 46,
   "metadata": {
    "collapsed": true
   },
   "outputs": [],
   "source": [
    "r2_train = r2_score(y_train, rf.predict(XtrainNew))\n",
    "r2_test = r2_score(y_test, rf.predict(XtestNew))"
   ]
  },
  {
   "cell_type": "code",
   "execution_count": 28,
   "metadata": {},
   "outputs": [
    {
     "data": {
      "text/plain": [
       "(0.9439163486683397, 0.6159343064715533)"
      ]
     },
     "execution_count": 28,
     "metadata": {},
     "output_type": "execute_result"
    }
   ],
   "source": [
    "r2_train,r2_test"
   ]
  },
  {
   "cell_type": "markdown",
   "metadata": {},
   "source": [
    "## GBM no Temperature and Humidity inside house"
   ]
  },
  {
   "cell_type": "code",
   "execution_count": 30,
   "metadata": {
    "collapsed": true
   },
   "outputs": [],
   "source": [
    "notempHumididty = ['NSM','T_out','RH_out','Visibility',\n",
    "                  'Windspeed','Tdewpoint','Press_mm_hg','W_Status_0','W_Status_1',\n",
    "                  'Dy_w_Monday','Dy_w_Tuesday','Dy_w_Wednesday',\n",
    "                  'Dy_w_Thursday','Dy_w_Friday','Dy_w_Saturday','Dy_w_Sunday']"
   ]
  },
  {
   "cell_type": "code",
   "execution_count": 33,
   "metadata": {},
   "outputs": [
    {
     "data": {
      "text/plain": [
       "(0.9453388624801595, 0.6282233942936921)"
      ]
     },
     "execution_count": 33,
     "metadata": {},
     "output_type": "execute_result"
    }
   ],
   "source": [
    "# Random Forest\n",
    "r2_train,r2_test"
   ]
  },
  {
   "cell_type": "markdown",
   "metadata": {},
   "source": [
    "## GBM only weather and time information"
   ]
  },
  {
   "cell_type": "code",
   "execution_count": 37,
   "metadata": {
    "collapsed": true
   },
   "outputs": [],
   "source": [
    "timeweather = ['NSM','T_out','RH_out','Visibility',\n",
    "                  'Windspeed','Tdewpoint','Press_mm_hg','W_Status_0','W_Status_1',\n",
    "                  'Dy_w_Monday','Dy_w_Tuesday','Dy_w_Wednesday',\n",
    "                  'Dy_w_Thursday','Dy_w_Friday','Dy_w_Saturday','Dy_w_Sunday']"
   ]
  },
  {
   "cell_type": "code",
   "execution_count": 40,
   "metadata": {},
   "outputs": [
    {
     "data": {
      "text/plain": [
       "(0.9457172642124286, 0.6337133052024879)"
      ]
     },
     "execution_count": 40,
     "metadata": {},
     "output_type": "execute_result"
    }
   ],
   "source": [
    "# Random Forest\n",
    "r2_train,r2_test"
   ]
  },
  {
   "cell_type": "code",
   "execution_count": null,
   "metadata": {
    "collapsed": true
   },
   "outputs": [],
   "source": [
    "X_train_m = min_max.fit_transform(XtrainNew)\n",
    "X_test_m = min_max.fit_transform(XtestNew)"
   ]
  },
  {
   "cell_type": "code",
   "execution_count": null,
   "metadata": {
    "collapsed": true
   },
   "outputs": [],
   "source": [
    "def GradientBoost(param_grid, n_jobs): \n",
    "    estimator = GradientBoostingRegressor()\n",
    "    #cv = LeaveOneLabelOut(X_train.shape)\n",
    "    classifier = GridSearchCV(estimator=estimator, cv=10, param_grid=param_grid, n_jobs=n_jobs) \n",
    "    classifier.fit(XtrainNew, y_train)\n",
    "    print(\"Best Estimator learned through GridSearch\" )\n",
    "    classifier.best_estimator_ \n",
    "    return classifier.best_estimator_ \n",
    "\n",
    "best_estimator=GradientBoost(param_grid, n_jobs)"
   ]
  },
  {
   "cell_type": "code",
   "execution_count": null,
   "metadata": {
    "collapsed": true
   },
   "outputs": [],
   "source": [
    "print(\"Best Estimator Parameters\") \n",
    "print(\"---------------------------\")\n",
    "print(\"n_estimators: %d\" %best_estimator.n_estimators)\n",
    "print(\"max_depth: %d\" %best_estimator.max_depth)\n",
    "print(\"Learning Rate: %.1f\" %best_estimator.learning_rate)\n",
    "print(\"min_samples_leaf: %d\" %best_estimator.min_samples_leaf)\n",
    "print(\"max_features: %.1f\" %best_estimator.max_features) \n",
    "print(\"Train R-squared: %.2f\" %best_estimator.score(XtrainNew,y_train))\n",
    "print(\"Test R-squared: %.2f\" %best_estimator.score(XtestNew,y_test))\n",
    "print(\"Train RMSE : %.2f\"%sqrt(mean_squared_error(y_train, best_estimator.predict(XtrainNew))))\n",
    "print(\"Test RMSE : %.2f \"%sqrt(mean_squared_error(y_test, best_estimator.predict(XtestNew))))"
   ]
  },
  {
   "cell_type": "code",
   "execution_count": null,
   "metadata": {
    "collapsed": true
   },
   "outputs": [],
   "source": [
    "feat_imp = pd.Series(best_estimator.feature_importances_,XtrainNew.columns).sort_values(ascending=False)\n",
    "feat_imp.plot(kind='bar', title='Feature Importances',figsize = (15,8))\n",
    "plt.ylabel('Feature Importance Score')"
   ]
  },
  {
   "cell_type": "code",
   "execution_count": null,
   "metadata": {
    "collapsed": true
   },
   "outputs": [],
   "source": [
    "random_grid = {'n_estimators': [100,200,300],\n",
    "            'max_features': np.arange(0.05, 1.01, 0.05),\n",
    "            'min_samples_split': range(2, 21),\n",
    "            'min_samples_leaf': range(1, 21),\n",
    "            'bootstrap': [True, False]}\n",
    "\n",
    "rf_random = RandomizedSearchCV(estimator = rf, param_distributions = random_grid, n_iter = 100, cv = 3, verbose=2, random_state=42, n_jobs = -1)\n"
   ]
  },
  {
   "cell_type": "markdown",
   "metadata": {},
   "source": [
    "## Random Forest with Grid Search CV"
   ]
  },
  {
   "cell_type": "code",
   "execution_count": 28,
   "metadata": {
    "collapsed": true
   },
   "outputs": [],
   "source": [
    "from sklearn.model_selection import GridSearchCV\n",
    "# Create the parameter grid based on the results of random search \n",
    "param_grid1 = {\n",
    "    'bootstrap': [True],\n",
    "    'max_features': [4,6,11],\n",
    "    'n_estimators': [300]\n",
    "}\n",
    "\n",
    "# Create a based model\n",
    "rfr = RandomForestRegressor()\n",
    "\n",
    "# Instantiate the grid search model\n",
    "grid_search = GridSearchCV(estimator = rfr, param_grid = param_grid1, \n",
    "                          cv = 5, n_jobs = -1, verbose = 3)\n",
    "grid_search.fit(XtrainNew,y_train)\n",
    "\n",
    "#BEst Estimator\n",
    "best_grid = grid_search.best_estimator_\n",
    "best_grid.feature_importances_\n",
    "\n",
    "#Finding R2\n",
    "r2_train = r2_score(y_train, grid_search.predict(XtrainNew))\n",
    "r2_test = r2_score(y_test, grid_search.predict(XtestNew))\n",
    "r2_train, r2_test\n",
    "\n",
    "\n",
    "#Plotting graph \n",
    "feat_imp = pd.Series(best_grid.feature_importances_,XtrainNew.columns).sort_values(ascending=False)\n",
    "feat_imp.plot(kind='bar', title='Feature Importances',figsize = (15,8))\n",
    "plt.ylabel('Feature Importance Score')"
   ]
  },
  {
   "cell_type": "markdown",
   "metadata": {},
   "source": [
    "## TPOT"
   ]
  },
  {
   "cell_type": "code",
   "execution_count": 50,
   "metadata": {},
   "outputs": [
    {
     "name": "stderr",
     "output_type": "stream",
     "text": [
      "C:\\Users\\lalwa\\Anaconda3\\lib\\site-packages\\deap\\tools\\_hypervolume\\pyhv.py:33: ImportWarning: Falling back to the python version of hypervolume module. Expect this to be very slow.\n",
      "  \"module. Expect this to be very slow.\", ImportWarning)\n",
      "C:\\Users\\lalwa\\Anaconda3\\lib\\importlib\\_bootstrap.py:219: ImportWarning: can't resolve package from __spec__ or __package__, falling back on __name__ and __path__\n",
      "  return f(*args, **kwds)\n"
     ]
    }
   ],
   "source": [
    "from tpot import TPOTRegressor\n",
    "\n",
    "tpot = TPOTRegressor(generations=10, population_size=10,offspring_size=None, mutation_rate=0.9, verbosity=3)\n",
    "tpot.fit(X_train, y_train)\n",
    "print(tpot.score(X_test, y_test))\n",
    "tpot.export('tpot_pipeline.py')"
   ]
  },
  {
   "cell_type": "code",
   "execution_count": 143,
   "metadata": {},
   "outputs": [
    {
     "data": {
      "text/plain": [
       "Ridge(alpha=1.0, copy_X=True, fit_intercept=True, max_iter=None,\n",
       "   normalize=False, random_state=None, solver='auto', tol=0.001)"
      ]
     },
     "execution_count": 143,
     "metadata": {},
     "output_type": "execute_result"
    }
   ],
   "source": [
    "from sklearn.linear_model import Ridge\n",
    "clf = Ridge(alpha=1.0)\n",
    "clf.fit(X_train, y_train) "
   ]
  },
  {
   "cell_type": "code",
   "execution_count": 144,
   "metadata": {},
   "outputs": [
    {
     "data": {
      "text/plain": [
       "array([ 86.3300561 ,  75.836746  , 126.83439213, ...,  47.65649514,\n",
       "        96.57910959, 102.30418823])"
      ]
     },
     "execution_count": 144,
     "metadata": {},
     "output_type": "execute_result"
    }
   ],
   "source": [
    "clf.predict(X_train)"
   ]
  },
  {
   "cell_type": "code",
   "execution_count": 145,
   "metadata": {},
   "outputs": [
    {
     "data": {
      "text/plain": [
       "0.17619574436360919"
      ]
     },
     "execution_count": 145,
     "metadata": {},
     "output_type": "execute_result"
    }
   ],
   "source": [
    "clf.score(X_train, y_train)"
   ]
  },
  {
   "cell_type": "code",
   "execution_count": 146,
   "metadata": {},
   "outputs": [
    {
     "data": {
      "text/plain": [
       "ElasticNetCV(alphas=None, copy_X=True, cv=5, eps=0.001, fit_intercept=True,\n",
       "       l1_ratio=0.5, max_iter=1000, n_alphas=100, n_jobs=1,\n",
       "       normalize=False, positive=False, precompute='auto', random_state=0,\n",
       "       selection='cyclic', tol=0.0001, verbose=0)"
      ]
     },
     "execution_count": 146,
     "metadata": {},
     "output_type": "execute_result"
    }
   ],
   "source": [
    "from sklearn.linear_model import ElasticNetCV\n",
    "\n",
    "regr = ElasticNetCV(cv=5, random_state=0)\n",
    "regr.fit(X_train, y_train)"
   ]
  },
  {
   "cell_type": "code",
   "execution_count": 147,
   "metadata": {},
   "outputs": [
    {
     "data": {
      "text/plain": [
       "array([132.72564216,  85.86350325,  61.62446589, ...,  70.24279028,\n",
       "       112.25712172,  90.17266545])"
      ]
     },
     "execution_count": 147,
     "metadata": {},
     "output_type": "execute_result"
    }
   ],
   "source": [
    "regr.predict(X_train)"
   ]
  },
  {
   "cell_type": "code",
   "execution_count": 148,
   "metadata": {},
   "outputs": [
    {
     "data": {
      "text/plain": [
       "0.04707331875691556"
      ]
     },
     "execution_count": 148,
     "metadata": {},
     "output_type": "execute_result"
    }
   ],
   "source": [
    "regr.score(X_train, y_train)"
   ]
  },
  {
   "cell_type": "code",
   "execution_count": null,
   "metadata": {
    "collapsed": true
   },
   "outputs": [],
   "source": []
  }
 ],
 "metadata": {
  "kernelspec": {
   "display_name": "Python 3",
   "language": "python",
   "name": "python3"
  },
  "language_info": {
   "codemirror_mode": {
    "name": "ipython",
    "version": 3
   },
   "file_extension": ".py",
   "mimetype": "text/x-python",
   "name": "python",
   "nbconvert_exporter": "python",
   "pygments_lexer": "ipython3",
   "version": "3.6.3"
  }
 },
 "nbformat": 4,
 "nbformat_minor": 2
}
