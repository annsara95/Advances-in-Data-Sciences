{
 "cells": [
  {
   "cell_type": "code",
   "execution_count": 121,
   "metadata": {},
   "outputs": [],
   "source": [
    "%matplotlib inline\n",
    "%config InlineBackend.figure_format='retina'\n",
    "import matplotlib.pyplot as plt\n",
    "import pandas as pd\n",
    "import numpy as np\n",
    "import seaborn as sns\n",
    "from datetime import date\n",
    "import calendar\n",
    "from sklearn.metrics import r2_score\n",
    "from sklearn.metrics import mean_squared_error,mean_absolute_error\n",
    "from sklearn.model_selection import train_test_split\n",
    "import operator\n",
    "from sklearn.ensemble import GradientBoostingRegressor  \n",
    "from sklearn.grid_search import GridSearchCV\n",
    "from sklearn.cross_validation import LeaveOneLabelOut\n",
    "from sklearn import cross_validation \n",
    "from math import sqrt"
   ]
  },
  {
   "cell_type": "code",
   "execution_count": 122,
   "metadata": {
    "collapsed": true
   },
   "outputs": [],
   "source": [
    "df=pd.read_csv('../Data/energydata_complete.csv',index_col='date',header=0)\n",
    "df['datetime'] = df.index\n",
    "df['datetime'] = pd.to_datetime(df['datetime'])\n",
    "df['day_of_week']=df['datetime'].dt.strftime('%w').astype('int64')\n",
    "df['month']=df['datetime'].dt.strftime('%m').astype('int64')\n",
    "df['hour']=df['datetime'].dt.hour\n",
    "df['day_number']=df['datetime'].dt.day\n",
    "df['Week_no'] = df['datetime'].dt.strftime('%W').astype('int64')\n",
    "df['min'] = df['datetime'].dt.minute\n",
    "df['day_of_week']=df['day_of_week'].apply(str)\n",
    "df['hour']=df['hour'].apply(str)\n",
    "df['min']=df['min'].apply(str)\n",
    "df['period']=df[['day_of_week','hour','min']].apply(lambda x:''.join(x),axis=1)\n"
   ]
  },
  {
   "cell_type": "code",
   "execution_count": 123,
   "metadata": {
    "collapsed": true
   },
   "outputs": [],
   "source": [
    "phase = df.groupby(['date','month','day_of_week','hour','day_number','min','datetime','period']).mean()\n",
    "phase[\"Total\"]=phase[\"Appliances\"] + phase[\"lights\"]\n",
    "phase = phase.reset_index()\n",
    "phase.set_index('date', inplace=True)\n",
    "phase['datetime'] = df.index\n",
    "phase['datetime'] = pd.to_datetime(phase['datetime'])\n",
    "phase['day_of_week']=phase['day_of_week'].apply(int)\n",
    "phase['hour']=phase['hour'].apply(int)\n",
    "phase['min']=phase['min'].apply(int)\n",
    "phase['period']=phase['period'].apply(int)\n",
    "phase['Press_mm_hg'] = np.log(phase['Press_mm_hg'])\n",
    "phase['Visibility'] = np.log(phase['Visibility'])"
   ]
  },
  {
   "cell_type": "code",
   "execution_count": 124,
   "metadata": {
    "collapsed": true
   },
   "outputs": [],
   "source": [
    "phase1 = phase\n",
    "phase1.drop(['datetime','Total','rv1','rv2'],axis=1,inplace=True)\n",
    "y = phase1[\"Appliances\"]\n",
    "X=phase1.drop(\"Appliances\",axis=1)"
   ]
  },
  {
   "cell_type": "markdown",
   "metadata": {},
   "source": [
    "# 1.1 Features Selected Using EDA"
   ]
  },
  {
   "cell_type": "markdown",
   "metadata": {},
   "source": [
    "## 1.1.1 RMSE,MAPE,R2,MAE calculation"
   ]
  },
  {
   "cell_type": "code",
   "execution_count": 125,
   "metadata": {
    "collapsed": true
   },
   "outputs": [],
   "source": [
    "rmse_dict = {}    \n",
    "def rmse(correct,estimated):\n",
    "    rmse_val = np.sqrt(mean_squared_error(correct,estimated)) \n",
    "    return rmse_val\n",
    "\n",
    "def calc_error_metric(name,modelname, model, X_train, y_train, X_test, y_test):\n",
    "    \n",
    "    y_train_predicted = model.predict(X_train)\n",
    "    y_test_predicted = model.predict(X_test)\n",
    "        \n",
    "    #MAE, RMS, MAPE, R2\n",
    "    \n",
    "    r2_train = r2_score(y_train, y_train_predicted)\n",
    "    r2_test = r2_score(y_test, y_test_predicted)\n",
    "    \n",
    "    rms_train = rmse(y_train, y_train_predicted)\n",
    "    rms_test = rmse(y_test, y_test_predicted)\n",
    "        \n",
    "    mae_train = mean_absolute_error(y_train, y_train_predicted)\n",
    "    mae_test = mean_absolute_error(y_test, y_test_predicted)\n",
    "        \n",
    "    mape_train = np.mean(np.abs((y_train - y_train_predicted) / y_train)) * 100\n",
    "    mape_test = np.mean(np.abs((y_test - y_test_predicted) / y_test)) * 100\n",
    "    \n",
    "    rmse_dict[modelname] = rms_test\n",
    "        \n",
    "    df_local = pd.DataFrame({'Model':[name],\n",
    "                            'ModelType':[modelname],\n",
    "                            'r2_train': [r2_train],\n",
    "                            'r2_test': [r2_test],\n",
    "                            'rms_train':[rms_train], \n",
    "                            'rms_test': [rms_test],\n",
    "                            'mae_train': [mae_train],\n",
    "                            'mae_test': [mae_test],\n",
    "                            'mape_train':[mape_train],\n",
    "                            'mape_test':[mape_test]})\n",
    "\n",
    "    error_metric = pd.concat([df_local])\n",
    " \n",
    "    return error_metric"
   ]
  },
  {
   "cell_type": "markdown",
   "metadata": {},
   "source": [
    "## 1.1.2 RandomForest,LinearRegression,NeuralNetwork "
   ]
  },
  {
   "cell_type": "code",
   "execution_count": 126,
   "metadata": {
    "collapsed": true
   },
   "outputs": [],
   "source": [
    "from sklearn import linear_model\n",
    "from sklearn.ensemble import RandomForestRegressor\n",
    "from sklearn.neural_network import MLPRegressor\n",
    "\n",
    "metric = pd.DataFrame({'Model':[],\n",
    "                            'ModelType':[],\n",
    "                            'r2_train': [],\n",
    "                            'r2_test': [],\n",
    "                            'rms_train':[], \n",
    "                            'rms_test': [],\n",
    "                            'mae_train': [],\n",
    "                            'mae_test': [],\n",
    "                            'mape_train':[],\n",
    "                            'mape_test':[]})\n",
    "\n",
    "\n",
    "def models(name,X_train, y_train, X_test, y_test):\n",
    "    global metric\n",
    "    n = name\n",
    "\n",
    "    # Linear Regression\n",
    "    lm = linear_model.LinearRegression()\n",
    "    modellinear = lm.fit(X_train,y_train)\n",
    "    linear = calc_error_metric(n ,modellinear,lm, X_train, y_train, X_test, y_test)\n",
    "    print(\"LINEAR\")\n",
    "    print(linear)\n",
    "    \n",
    "    # Random Forest\n",
    "    rf = RandomForestRegressor(n_estimators =500, random_state = 1)\n",
    "    modelrandomforest = rf.fit(X_train,y_train)\n",
    "    randomforest = calc_error_metric(name,modelrandomforest,rf, X_train, y_train, X_test, y_test)\n",
    "\n",
    "    # Neural Network\n",
    "    nn = MLPRegressor(activation='relu',learning_rate='adaptive',alpha=0.55)\n",
    "    modelneuralnetwork = nn.fit(X_train, y_train)\n",
    "    neuralnetwork = calc_error_metric(name,modelneuralnetwork, nn, X_train, y_train, X_test, y_test)\n",
    "    \n",
    "    \n",
    "    metric = pd.concat([metric,linear,randomforest,neuralnetwork])\n",
    "    return metric"
   ]
  },
  {
   "cell_type": "markdown",
   "metadata": {},
   "source": [
    "## 1.1.3 Training Testing split"
   ]
  },
  {
   "cell_type": "markdown",
   "metadata": {},
   "source": [
    "#### 1.1.3.1  Selected Features from Exploratory Data Analysis"
   ]
  },
  {
   "cell_type": "code",
   "execution_count": 127,
   "metadata": {
    "collapsed": true
   },
   "outputs": [],
   "source": [
    "X = phase[['lights','hour','T1','RH_1','RH_5','RH_6','RH_8','T_out','Windspeed','Visibility','Tdewpoint']]\n",
    "y = phase['Appliances']"
   ]
  },
  {
   "cell_type": "code",
   "execution_count": 128,
   "metadata": {
    "collapsed": true
   },
   "outputs": [],
   "source": [
    "# Test and Train Split\n",
    "X_train, X_test, y_train, y_test = train_test_split(X, y, test_size=0.30, random_state=42)"
   ]
  },
  {
   "cell_type": "code",
   "execution_count": 129,
   "metadata": {},
   "outputs": [
    {
     "name": "stdout",
     "output_type": "stream",
     "text": [
      "LINEAR\n",
      "  Model                                          ModelType   mae_test  \\\n",
      "0   EDA  LinearRegression(copy_X=True, fit_intercept=Tr...  54.738137   \n",
      "\n",
      "   mae_train  mape_test  mape_train   r2_test  r2_train   rms_test  rms_train  \n",
      "0  54.655463  64.403084   62.843287  0.108627  0.109353  95.830482   97.16432  \n"
     ]
    }
   ],
   "source": [
    "teston = models('EDA',X_train, y_train, X_test, y_test)"
   ]
  },
  {
   "cell_type": "code",
   "execution_count": 130,
   "metadata": {},
   "outputs": [
    {
     "data": {
      "text/html": [
       "<div>\n",
       "<style scoped>\n",
       "    .dataframe tbody tr th:only-of-type {\n",
       "        vertical-align: middle;\n",
       "    }\n",
       "\n",
       "    .dataframe tbody tr th {\n",
       "        vertical-align: top;\n",
       "    }\n",
       "\n",
       "    .dataframe thead th {\n",
       "        text-align: right;\n",
       "    }\n",
       "</style>\n",
       "<table border=\"1\" class=\"dataframe\">\n",
       "  <thead>\n",
       "    <tr style=\"text-align: right;\">\n",
       "      <th></th>\n",
       "      <th>Model</th>\n",
       "      <th>ModelType</th>\n",
       "      <th>mae_test</th>\n",
       "      <th>mae_train</th>\n",
       "      <th>mape_test</th>\n",
       "      <th>mape_train</th>\n",
       "      <th>r2_test</th>\n",
       "      <th>r2_train</th>\n",
       "      <th>rms_test</th>\n",
       "      <th>rms_train</th>\n",
       "    </tr>\n",
       "  </thead>\n",
       "  <tbody>\n",
       "    <tr>\n",
       "      <th>0</th>\n",
       "      <td>EDA</td>\n",
       "      <td>LinearRegression(copy_X=True, fit_intercept=Tr...</td>\n",
       "      <td>54.738137</td>\n",
       "      <td>54.655463</td>\n",
       "      <td>64.403084</td>\n",
       "      <td>62.843287</td>\n",
       "      <td>0.108627</td>\n",
       "      <td>0.109353</td>\n",
       "      <td>95.830482</td>\n",
       "      <td>97.164320</td>\n",
       "    </tr>\n",
       "    <tr>\n",
       "      <th>0</th>\n",
       "      <td>EDA</td>\n",
       "      <td>(DecisionTreeRegressor(criterion='mse', max_de...</td>\n",
       "      <td>33.896720</td>\n",
       "      <td>12.718226</td>\n",
       "      <td>34.569303</td>\n",
       "      <td>12.628072</td>\n",
       "      <td>0.529036</td>\n",
       "      <td>0.933345</td>\n",
       "      <td>69.657464</td>\n",
       "      <td>26.580979</td>\n",
       "    </tr>\n",
       "    <tr>\n",
       "      <th>0</th>\n",
       "      <td>EDA</td>\n",
       "      <td>MLPRegressor(activation='relu', alpha=0.55, ba...</td>\n",
       "      <td>55.150150</td>\n",
       "      <td>54.747871</td>\n",
       "      <td>66.840664</td>\n",
       "      <td>64.481153</td>\n",
       "      <td>0.166364</td>\n",
       "      <td>0.173413</td>\n",
       "      <td>92.674915</td>\n",
       "      <td>93.604872</td>\n",
       "    </tr>\n",
       "  </tbody>\n",
       "</table>\n",
       "</div>"
      ],
      "text/plain": [
       "  Model                                          ModelType   mae_test  \\\n",
       "0   EDA  LinearRegression(copy_X=True, fit_intercept=Tr...  54.738137   \n",
       "0   EDA  (DecisionTreeRegressor(criterion='mse', max_de...  33.896720   \n",
       "0   EDA  MLPRegressor(activation='relu', alpha=0.55, ba...  55.150150   \n",
       "\n",
       "   mae_train  mape_test  mape_train   r2_test  r2_train   rms_test  rms_train  \n",
       "0  54.655463  64.403084   62.843287  0.108627  0.109353  95.830482  97.164320  \n",
       "0  12.718226  34.569303   12.628072  0.529036  0.933345  69.657464  26.580979  \n",
       "0  54.747871  66.840664   64.481153  0.166364  0.173413  92.674915  93.604872  "
      ]
     },
     "execution_count": 130,
     "metadata": {},
     "output_type": "execute_result"
    }
   ],
   "source": [
    "teston"
   ]
  },
  {
   "cell_type": "markdown",
   "metadata": {},
   "source": [
    "#### 1.1.3.2 Selecting Features After Scaling"
   ]
  },
  {
   "cell_type": "code",
   "execution_count": 12,
   "metadata": {
    "collapsed": true
   },
   "outputs": [],
   "source": [
    "from sklearn.preprocessing import StandardScaler\n",
    "scaler = StandardScaler()\n",
    "# Fit only to the training data\n",
    "scaler.fit(X_train)\n",
    "# Now apply the transformations to the data:\n",
    "X_train = scaler.transform(X_train)\n",
    "X_test = scaler.transform(X_test)"
   ]
  },
  {
   "cell_type": "code",
   "execution_count": 13,
   "metadata": {},
   "outputs": [
    {
     "name": "stdout",
     "output_type": "stream",
     "text": [
      "LINEAR\n",
      "           Model                                          ModelType  \\\n",
      "0  After Scaling  LinearRegression(copy_X=True, fit_intercept=Tr...   \n",
      "\n",
      "    mae_test  mae_train  mape_test  mape_train   r2_test  r2_train   rms_test  \\\n",
      "0  54.738137  54.655463  64.403084   62.843287  0.108627  0.109353  95.830482   \n",
      "\n",
      "   rms_train  \n",
      "0   97.16432  \n"
     ]
    },
    {
     "name": "stderr",
     "output_type": "stream",
     "text": [
      "/Users/rishabhjain/anaconda3/lib/python3.6/site-packages/sklearn/neural_network/multilayer_perceptron.py:564: ConvergenceWarning: Stochastic Optimizer: Maximum iterations (200) reached and the optimization hasn't converged yet.\n",
      "  % self.max_iter, ConvergenceWarning)\n"
     ]
    }
   ],
   "source": [
    "teston = models('After Scaling',X_train, y_train, X_test, y_test)"
   ]
  },
  {
   "cell_type": "code",
   "execution_count": 14,
   "metadata": {},
   "outputs": [
    {
     "data": {
      "text/html": [
       "<div>\n",
       "<style scoped>\n",
       "    .dataframe tbody tr th:only-of-type {\n",
       "        vertical-align: middle;\n",
       "    }\n",
       "\n",
       "    .dataframe tbody tr th {\n",
       "        vertical-align: top;\n",
       "    }\n",
       "\n",
       "    .dataframe thead th {\n",
       "        text-align: right;\n",
       "    }\n",
       "</style>\n",
       "<table border=\"1\" class=\"dataframe\">\n",
       "  <thead>\n",
       "    <tr style=\"text-align: right;\">\n",
       "      <th></th>\n",
       "      <th>Model</th>\n",
       "      <th>ModelType</th>\n",
       "      <th>mae_test</th>\n",
       "      <th>mae_train</th>\n",
       "      <th>mape_test</th>\n",
       "      <th>mape_train</th>\n",
       "      <th>r2_test</th>\n",
       "      <th>r2_train</th>\n",
       "      <th>rms_test</th>\n",
       "      <th>rms_train</th>\n",
       "    </tr>\n",
       "  </thead>\n",
       "  <tbody>\n",
       "    <tr>\n",
       "      <th>0</th>\n",
       "      <td>EDA</td>\n",
       "      <td>LinearRegression(copy_X=True, fit_intercept=Tr...</td>\n",
       "      <td>54.738137</td>\n",
       "      <td>54.655463</td>\n",
       "      <td>64.403084</td>\n",
       "      <td>62.843287</td>\n",
       "      <td>0.108627</td>\n",
       "      <td>0.109353</td>\n",
       "      <td>95.830482</td>\n",
       "      <td>97.164320</td>\n",
       "    </tr>\n",
       "    <tr>\n",
       "      <th>0</th>\n",
       "      <td>EDA</td>\n",
       "      <td>(DecisionTreeRegressor(criterion='mse', max_de...</td>\n",
       "      <td>33.896720</td>\n",
       "      <td>12.718226</td>\n",
       "      <td>34.569303</td>\n",
       "      <td>12.628072</td>\n",
       "      <td>0.529036</td>\n",
       "      <td>0.933345</td>\n",
       "      <td>69.657464</td>\n",
       "      <td>26.580979</td>\n",
       "    </tr>\n",
       "    <tr>\n",
       "      <th>0</th>\n",
       "      <td>EDA</td>\n",
       "      <td>MLPRegressor(activation='relu', alpha=0.55, ba...</td>\n",
       "      <td>53.791953</td>\n",
       "      <td>53.608378</td>\n",
       "      <td>63.918038</td>\n",
       "      <td>62.004389</td>\n",
       "      <td>0.154167</td>\n",
       "      <td>0.157050</td>\n",
       "      <td>93.350404</td>\n",
       "      <td>94.526821</td>\n",
       "    </tr>\n",
       "    <tr>\n",
       "      <th>0</th>\n",
       "      <td>After Scaling</td>\n",
       "      <td>LinearRegression(copy_X=True, fit_intercept=Tr...</td>\n",
       "      <td>54.738137</td>\n",
       "      <td>54.655463</td>\n",
       "      <td>64.403084</td>\n",
       "      <td>62.843287</td>\n",
       "      <td>0.108627</td>\n",
       "      <td>0.109353</td>\n",
       "      <td>95.830482</td>\n",
       "      <td>97.164320</td>\n",
       "    </tr>\n",
       "    <tr>\n",
       "      <th>0</th>\n",
       "      <td>After Scaling</td>\n",
       "      <td>(DecisionTreeRegressor(criterion='mse', max_de...</td>\n",
       "      <td>33.912640</td>\n",
       "      <td>12.717627</td>\n",
       "      <td>34.588777</td>\n",
       "      <td>12.635847</td>\n",
       "      <td>0.528682</td>\n",
       "      <td>0.933351</td>\n",
       "      <td>69.683667</td>\n",
       "      <td>26.579837</td>\n",
       "    </tr>\n",
       "    <tr>\n",
       "      <th>0</th>\n",
       "      <td>After Scaling</td>\n",
       "      <td>MLPRegressor(activation='relu', alpha=0.55, ba...</td>\n",
       "      <td>51.867077</td>\n",
       "      <td>51.153189</td>\n",
       "      <td>59.559731</td>\n",
       "      <td>57.088052</td>\n",
       "      <td>0.191979</td>\n",
       "      <td>0.210790</td>\n",
       "      <td>91.239981</td>\n",
       "      <td>91.464063</td>\n",
       "    </tr>\n",
       "  </tbody>\n",
       "</table>\n",
       "</div>"
      ],
      "text/plain": [
       "           Model                                          ModelType  \\\n",
       "0            EDA  LinearRegression(copy_X=True, fit_intercept=Tr...   \n",
       "0            EDA  (DecisionTreeRegressor(criterion='mse', max_de...   \n",
       "0            EDA  MLPRegressor(activation='relu', alpha=0.55, ba...   \n",
       "0  After Scaling  LinearRegression(copy_X=True, fit_intercept=Tr...   \n",
       "0  After Scaling  (DecisionTreeRegressor(criterion='mse', max_de...   \n",
       "0  After Scaling  MLPRegressor(activation='relu', alpha=0.55, ba...   \n",
       "\n",
       "    mae_test  mae_train  mape_test  mape_train   r2_test  r2_train   rms_test  \\\n",
       "0  54.738137  54.655463  64.403084   62.843287  0.108627  0.109353  95.830482   \n",
       "0  33.896720  12.718226  34.569303   12.628072  0.529036  0.933345  69.657464   \n",
       "0  53.791953  53.608378  63.918038   62.004389  0.154167  0.157050  93.350404   \n",
       "0  54.738137  54.655463  64.403084   62.843287  0.108627  0.109353  95.830482   \n",
       "0  33.912640  12.717627  34.588777   12.635847  0.528682  0.933351  69.683667   \n",
       "0  51.867077  51.153189  59.559731   57.088052  0.191979  0.210790  91.239981   \n",
       "\n",
       "   rms_train  \n",
       "0  97.164320  \n",
       "0  26.580979  \n",
       "0  94.526821  \n",
       "0  97.164320  \n",
       "0  26.579837  \n",
       "0  91.464063  "
      ]
     },
     "execution_count": 14,
     "metadata": {},
     "output_type": "execute_result"
    }
   ],
   "source": [
    "teston"
   ]
  },
  {
   "cell_type": "markdown",
   "metadata": {},
   "source": [
    "## 1.1.4 Best Model"
   ]
  },
  {
   "cell_type": "code",
   "execution_count": 15,
   "metadata": {},
   "outputs": [
    {
     "name": "stdout",
     "output_type": "stream",
     "text": [
      "Best Model is  RandomForestRegressor(bootstrap=True, criterion='mse', max_depth=None,\n",
      "           max_features='auto', max_leaf_nodes=None,\n",
      "           min_impurity_decrease=0.0, min_impurity_split=None,\n",
      "           min_samples_leaf=1, min_samples_split=2,\n",
      "           min_weight_fraction_leaf=0.0, n_estimators=500, n_jobs=1,\n",
      "           oob_score=False, random_state=1, verbose=0, warm_start=False)\n"
     ]
    }
   ],
   "source": [
    "best_model =  min(rmse_dict.items(),key=operator.itemgetter(1))[0]\n",
    "print('Best Model is ', best_model)"
   ]
  },
  {
   "cell_type": "markdown",
   "metadata": {},
   "source": [
    "# Feature Selection"
   ]
  },
  {
   "cell_type": "markdown",
   "metadata": {},
   "source": [
    "# 1.2 Using Boruto Python Package"
   ]
  },
  {
   "cell_type": "code",
   "execution_count": 7,
   "metadata": {
    "collapsed": true
   },
   "outputs": [],
   "source": [
    "X_boruta = phase1\n",
    "X_boruta = X_boruta.drop(['Appliances'],axis=1)\n",
    "X_boruta = X_boruta.values"
   ]
  },
  {
   "cell_type": "code",
   "execution_count": 8,
   "metadata": {
    "collapsed": true
   },
   "outputs": [],
   "source": [
    "y_boruta = phase1\n",
    "y_boruta = y_boruta['Appliances']\n",
    "y_boruta = y.values"
   ]
  },
  {
   "cell_type": "code",
   "execution_count": null,
   "metadata": {},
   "outputs": [
    {
     "name": "stdout",
     "output_type": "stream",
     "text": [
      "Iteration: \t1 / 100\n",
      "Confirmed: \t0\n",
      "Tentative: \t32\n",
      "Rejected: \t0\n",
      "Iteration: \t2 / 100\n",
      "Confirmed: \t0\n",
      "Tentative: \t32\n",
      "Rejected: \t0\n",
      "Iteration: \t3 / 100\n",
      "Confirmed: \t0\n",
      "Tentative: \t32\n",
      "Rejected: \t0\n",
      "Iteration: \t4 / 100\n",
      "Confirmed: \t0\n",
      "Tentative: \t32\n",
      "Rejected: \t0\n",
      "Iteration: \t5 / 100\n",
      "Confirmed: \t0\n",
      "Tentative: \t32\n",
      "Rejected: \t0\n",
      "Iteration: \t6 / 100\n",
      "Confirmed: \t0\n",
      "Tentative: \t32\n",
      "Rejected: \t0\n",
      "Iteration: \t7 / 100\n",
      "Confirmed: \t0\n",
      "Tentative: \t32\n",
      "Rejected: \t0\n",
      "Iteration: \t8 / 100\n",
      "Confirmed: \t11\n",
      "Tentative: \t10\n",
      "Rejected: \t11\n"
     ]
    },
    {
     "name": "stderr",
     "output_type": "stream",
     "text": [
      "/Users/rishabhjain/anaconda3/lib/python3.6/site-packages/boruta/boruta_py.py:418: RuntimeWarning: invalid value encountered in greater\n",
      "  hits = np.where(cur_imp[0] > imp_sha_max)[0]\n"
     ]
    },
    {
     "name": "stdout",
     "output_type": "stream",
     "text": [
      "Iteration: \t9 / 100\n",
      "Confirmed: \t11\n",
      "Tentative: \t10\n",
      "Rejected: \t11\n"
     ]
    },
    {
     "name": "stderr",
     "output_type": "stream",
     "text": [
      "/Users/rishabhjain/anaconda3/lib/python3.6/site-packages/boruta/boruta_py.py:418: RuntimeWarning: invalid value encountered in greater\n",
      "  hits = np.where(cur_imp[0] > imp_sha_max)[0]\n"
     ]
    },
    {
     "name": "stdout",
     "output_type": "stream",
     "text": [
      "Iteration: \t10 / 100\n",
      "Confirmed: \t11\n",
      "Tentative: \t10\n",
      "Rejected: \t11\n"
     ]
    },
    {
     "name": "stderr",
     "output_type": "stream",
     "text": [
      "/Users/rishabhjain/anaconda3/lib/python3.6/site-packages/boruta/boruta_py.py:418: RuntimeWarning: invalid value encountered in greater\n",
      "  hits = np.where(cur_imp[0] > imp_sha_max)[0]\n"
     ]
    },
    {
     "name": "stdout",
     "output_type": "stream",
     "text": [
      "Iteration: \t11 / 100\n",
      "Confirmed: \t11\n",
      "Tentative: \t10\n",
      "Rejected: \t11\n"
     ]
    },
    {
     "name": "stderr",
     "output_type": "stream",
     "text": [
      "/Users/rishabhjain/anaconda3/lib/python3.6/site-packages/boruta/boruta_py.py:418: RuntimeWarning: invalid value encountered in greater\n",
      "  hits = np.where(cur_imp[0] > imp_sha_max)[0]\n"
     ]
    },
    {
     "name": "stdout",
     "output_type": "stream",
     "text": [
      "Iteration: \t12 / 100\n",
      "Confirmed: \t12\n",
      "Tentative: \t9\n",
      "Rejected: \t11\n"
     ]
    },
    {
     "name": "stderr",
     "output_type": "stream",
     "text": [
      "/Users/rishabhjain/anaconda3/lib/python3.6/site-packages/boruta/boruta_py.py:418: RuntimeWarning: invalid value encountered in greater\n",
      "  hits = np.where(cur_imp[0] > imp_sha_max)[0]\n"
     ]
    },
    {
     "name": "stdout",
     "output_type": "stream",
     "text": [
      "Iteration: \t13 / 100\n",
      "Confirmed: \t12\n",
      "Tentative: \t9\n",
      "Rejected: \t11\n"
     ]
    },
    {
     "name": "stderr",
     "output_type": "stream",
     "text": [
      "/Users/rishabhjain/anaconda3/lib/python3.6/site-packages/boruta/boruta_py.py:418: RuntimeWarning: invalid value encountered in greater\n",
      "  hits = np.where(cur_imp[0] > imp_sha_max)[0]\n"
     ]
    },
    {
     "name": "stdout",
     "output_type": "stream",
     "text": [
      "Iteration: \t14 / 100\n",
      "Confirmed: \t12\n",
      "Tentative: \t9\n",
      "Rejected: \t11\n"
     ]
    },
    {
     "name": "stderr",
     "output_type": "stream",
     "text": [
      "/Users/rishabhjain/anaconda3/lib/python3.6/site-packages/boruta/boruta_py.py:418: RuntimeWarning: invalid value encountered in greater\n",
      "  hits = np.where(cur_imp[0] > imp_sha_max)[0]\n"
     ]
    },
    {
     "name": "stdout",
     "output_type": "stream",
     "text": [
      "Iteration: \t15 / 100\n",
      "Confirmed: \t12\n",
      "Tentative: \t9\n",
      "Rejected: \t11\n"
     ]
    },
    {
     "name": "stderr",
     "output_type": "stream",
     "text": [
      "/Users/rishabhjain/anaconda3/lib/python3.6/site-packages/boruta/boruta_py.py:418: RuntimeWarning: invalid value encountered in greater\n",
      "  hits = np.where(cur_imp[0] > imp_sha_max)[0]\n"
     ]
    },
    {
     "name": "stdout",
     "output_type": "stream",
     "text": [
      "Iteration: \t16 / 100\n",
      "Confirmed: \t13\n",
      "Tentative: \t8\n",
      "Rejected: \t11\n"
     ]
    },
    {
     "name": "stderr",
     "output_type": "stream",
     "text": [
      "/Users/rishabhjain/anaconda3/lib/python3.6/site-packages/boruta/boruta_py.py:418: RuntimeWarning: invalid value encountered in greater\n",
      "  hits = np.where(cur_imp[0] > imp_sha_max)[0]\n"
     ]
    },
    {
     "name": "stdout",
     "output_type": "stream",
     "text": [
      "Iteration: \t17 / 100\n",
      "Confirmed: \t13\n",
      "Tentative: \t8\n",
      "Rejected: \t11\n"
     ]
    },
    {
     "name": "stderr",
     "output_type": "stream",
     "text": [
      "/Users/rishabhjain/anaconda3/lib/python3.6/site-packages/boruta/boruta_py.py:418: RuntimeWarning: invalid value encountered in greater\n",
      "  hits = np.where(cur_imp[0] > imp_sha_max)[0]\n"
     ]
    },
    {
     "name": "stdout",
     "output_type": "stream",
     "text": [
      "Iteration: \t18 / 100\n",
      "Confirmed: \t13\n",
      "Tentative: \t8\n",
      "Rejected: \t11\n"
     ]
    },
    {
     "name": "stderr",
     "output_type": "stream",
     "text": [
      "/Users/rishabhjain/anaconda3/lib/python3.6/site-packages/boruta/boruta_py.py:418: RuntimeWarning: invalid value encountered in greater\n",
      "  hits = np.where(cur_imp[0] > imp_sha_max)[0]\n"
     ]
    },
    {
     "name": "stdout",
     "output_type": "stream",
     "text": [
      "Iteration: \t19 / 100\n",
      "Confirmed: \t13\n",
      "Tentative: \t7\n",
      "Rejected: \t12\n"
     ]
    },
    {
     "name": "stderr",
     "output_type": "stream",
     "text": [
      "/Users/rishabhjain/anaconda3/lib/python3.6/site-packages/boruta/boruta_py.py:418: RuntimeWarning: invalid value encountered in greater\n",
      "  hits = np.where(cur_imp[0] > imp_sha_max)[0]\n"
     ]
    },
    {
     "name": "stdout",
     "output_type": "stream",
     "text": [
      "Iteration: \t20 / 100\n",
      "Confirmed: \t13\n",
      "Tentative: \t7\n",
      "Rejected: \t12\n"
     ]
    },
    {
     "name": "stderr",
     "output_type": "stream",
     "text": [
      "/Users/rishabhjain/anaconda3/lib/python3.6/site-packages/boruta/boruta_py.py:418: RuntimeWarning: invalid value encountered in greater\n",
      "  hits = np.where(cur_imp[0] > imp_sha_max)[0]\n"
     ]
    },
    {
     "name": "stdout",
     "output_type": "stream",
     "text": [
      "Iteration: \t21 / 100\n",
      "Confirmed: \t13\n",
      "Tentative: \t7\n",
      "Rejected: \t12\n"
     ]
    },
    {
     "name": "stderr",
     "output_type": "stream",
     "text": [
      "/Users/rishabhjain/anaconda3/lib/python3.6/site-packages/boruta/boruta_py.py:418: RuntimeWarning: invalid value encountered in greater\n",
      "  hits = np.where(cur_imp[0] > imp_sha_max)[0]\n"
     ]
    },
    {
     "name": "stdout",
     "output_type": "stream",
     "text": [
      "Iteration: \t22 / 100\n",
      "Confirmed: \t13\n",
      "Tentative: \t7\n",
      "Rejected: \t12\n"
     ]
    }
   ],
   "source": [
    "import pandas as pd\n",
    "#from sklearn.ensemble import RandomForestClassifier\n",
    "from sklearn.ensemble import RandomForestRegressor\n",
    "from boruta import BorutaPy\n",
    "\n",
    "# NOTE BorutaPy accepts numpy arrays only, hence the .values attribute\n",
    "y_boruta = y_boruta.ravel()\n",
    "\n",
    "# define random forest classifier, with utilising all cores and\n",
    "# sampling in proportion to y labels\n",
    "rf1 = RandomForestRegressor(n_jobs=-1, max_depth=5)\n",
    "\n",
    "# define Boruta feature selection method\n",
    "feat_selector = BorutaPy(rf1, n_estimators='auto', verbose=5, random_state=1)\n",
    "\n",
    "# find all relevant features - 5 features should be selected\n",
    "feat_selector.fit(X_boruta,y_boruta)\n",
    "\n",
    "# check selected features - first 5 features are selected\n",
    "feat_selector.support_\n",
    "\n",
    "# check ranking of features\n",
    "feat_selector.ranking_\n",
    "\n",
    "# call transform() on X to filter it down to selected features\n",
    "#X_filtered = feat_selector.transform(X)"
   ]
  },
  {
   "cell_type": "code",
   "execution_count": null,
   "metadata": {
    "collapsed": true
   },
   "outputs": [],
   "source": [
    "print(feat_selector.ranking_)"
   ]
  },
  {
   "cell_type": "code",
   "execution_count": null,
   "metadata": {
    "collapsed": true
   },
   "outputs": [],
   "source": [
    "phase.dtypes"
   ]
  },
  {
   "cell_type": "code",
   "execution_count": null,
   "metadata": {
    "collapsed": true
   },
   "outputs": [],
   "source": [
    "5->lights\n",
    "4->T1\n",
    "1->RH_2\n",
    "8->RH_3\n",
    "2->RH_4\n",
    "5->T5\n",
    "7->Press_mm_hg\n",
    "3->Visibility"
   ]
  },
  {
   "cell_type": "markdown",
   "metadata": {},
   "source": [
    "### 1.2.1 Feature Selected "
   ]
  },
  {
   "cell_type": "markdown",
   "metadata": {},
   "source": [
    "#### 12.1.1 Training Testing Spliting"
   ]
  },
  {
   "cell_type": "code",
   "execution_count": 17,
   "metadata": {
    "collapsed": true
   },
   "outputs": [],
   "source": [
    "X = phase1[['lights','T1','RH_2','RH_3','RH_4','T5','Press_mm_hg','Visibility']]\n",
    "y = phase1['Appliances']"
   ]
  },
  {
   "cell_type": "code",
   "execution_count": 18,
   "metadata": {
    "collapsed": true
   },
   "outputs": [],
   "source": [
    "# Test and Train Split\n",
    "X_train, X_test, y_train, y_test = train_test_split(X, y, test_size=0.3, random_state=42)"
   ]
  },
  {
   "cell_type": "code",
   "execution_count": 19,
   "metadata": {},
   "outputs": [
    {
     "name": "stdout",
     "output_type": "stream",
     "text": [
      "LINEAR\n",
      "    Model                                          ModelType  mae_test  \\\n",
      "0  Boruta  LinearRegression(copy_X=True, fit_intercept=Tr...  57.71063   \n",
      "\n",
      "   mae_train  mape_test  mape_train   r2_test  r2_train   rms_test   rms_train  \n",
      "0  57.757545  70.214249    68.73021  0.058925  0.054655  98.465907  100.103478  \n"
     ]
    }
   ],
   "source": [
    "teston = models('Boruta',X_train, y_train, X_test, y_test)"
   ]
  },
  {
   "cell_type": "code",
   "execution_count": 20,
   "metadata": {},
   "outputs": [
    {
     "data": {
      "text/html": [
       "<div>\n",
       "<style scoped>\n",
       "    .dataframe tbody tr th:only-of-type {\n",
       "        vertical-align: middle;\n",
       "    }\n",
       "\n",
       "    .dataframe tbody tr th {\n",
       "        vertical-align: top;\n",
       "    }\n",
       "\n",
       "    .dataframe thead th {\n",
       "        text-align: right;\n",
       "    }\n",
       "</style>\n",
       "<table border=\"1\" class=\"dataframe\">\n",
       "  <thead>\n",
       "    <tr style=\"text-align: right;\">\n",
       "      <th></th>\n",
       "      <th>Model</th>\n",
       "      <th>ModelType</th>\n",
       "      <th>mae_test</th>\n",
       "      <th>mae_train</th>\n",
       "      <th>mape_test</th>\n",
       "      <th>mape_train</th>\n",
       "      <th>r2_test</th>\n",
       "      <th>r2_train</th>\n",
       "      <th>rms_test</th>\n",
       "      <th>rms_train</th>\n",
       "    </tr>\n",
       "  </thead>\n",
       "  <tbody>\n",
       "    <tr>\n",
       "      <th>0</th>\n",
       "      <td>EDA</td>\n",
       "      <td>LinearRegression(copy_X=True, fit_intercept=Tr...</td>\n",
       "      <td>54.738137</td>\n",
       "      <td>54.655463</td>\n",
       "      <td>64.403084</td>\n",
       "      <td>62.843287</td>\n",
       "      <td>0.108627</td>\n",
       "      <td>0.109353</td>\n",
       "      <td>95.830482</td>\n",
       "      <td>97.164320</td>\n",
       "    </tr>\n",
       "    <tr>\n",
       "      <th>0</th>\n",
       "      <td>EDA</td>\n",
       "      <td>(DecisionTreeRegressor(criterion='mse', max_de...</td>\n",
       "      <td>33.896720</td>\n",
       "      <td>12.718226</td>\n",
       "      <td>34.569303</td>\n",
       "      <td>12.628072</td>\n",
       "      <td>0.529036</td>\n",
       "      <td>0.933345</td>\n",
       "      <td>69.657464</td>\n",
       "      <td>26.580979</td>\n",
       "    </tr>\n",
       "    <tr>\n",
       "      <th>0</th>\n",
       "      <td>EDA</td>\n",
       "      <td>MLPRegressor(activation='relu', alpha=0.55, ba...</td>\n",
       "      <td>53.791953</td>\n",
       "      <td>53.608378</td>\n",
       "      <td>63.918038</td>\n",
       "      <td>62.004389</td>\n",
       "      <td>0.154167</td>\n",
       "      <td>0.157050</td>\n",
       "      <td>93.350404</td>\n",
       "      <td>94.526821</td>\n",
       "    </tr>\n",
       "    <tr>\n",
       "      <th>0</th>\n",
       "      <td>After Scaling</td>\n",
       "      <td>LinearRegression(copy_X=True, fit_intercept=Tr...</td>\n",
       "      <td>54.738137</td>\n",
       "      <td>54.655463</td>\n",
       "      <td>64.403084</td>\n",
       "      <td>62.843287</td>\n",
       "      <td>0.108627</td>\n",
       "      <td>0.109353</td>\n",
       "      <td>95.830482</td>\n",
       "      <td>97.164320</td>\n",
       "    </tr>\n",
       "    <tr>\n",
       "      <th>0</th>\n",
       "      <td>After Scaling</td>\n",
       "      <td>(DecisionTreeRegressor(criterion='mse', max_de...</td>\n",
       "      <td>33.912640</td>\n",
       "      <td>12.717627</td>\n",
       "      <td>34.588777</td>\n",
       "      <td>12.635847</td>\n",
       "      <td>0.528682</td>\n",
       "      <td>0.933351</td>\n",
       "      <td>69.683667</td>\n",
       "      <td>26.579837</td>\n",
       "    </tr>\n",
       "    <tr>\n",
       "      <th>0</th>\n",
       "      <td>After Scaling</td>\n",
       "      <td>MLPRegressor(activation='relu', alpha=0.55, ba...</td>\n",
       "      <td>51.867077</td>\n",
       "      <td>51.153189</td>\n",
       "      <td>59.559731</td>\n",
       "      <td>57.088052</td>\n",
       "      <td>0.191979</td>\n",
       "      <td>0.210790</td>\n",
       "      <td>91.239981</td>\n",
       "      <td>91.464063</td>\n",
       "    </tr>\n",
       "    <tr>\n",
       "      <th>0</th>\n",
       "      <td>Boruta</td>\n",
       "      <td>LinearRegression(copy_X=True, fit_intercept=Tr...</td>\n",
       "      <td>57.710630</td>\n",
       "      <td>57.757545</td>\n",
       "      <td>70.214249</td>\n",
       "      <td>68.730210</td>\n",
       "      <td>0.058925</td>\n",
       "      <td>0.054655</td>\n",
       "      <td>98.465907</td>\n",
       "      <td>100.103478</td>\n",
       "    </tr>\n",
       "    <tr>\n",
       "      <th>0</th>\n",
       "      <td>Boruta</td>\n",
       "      <td>(DecisionTreeRegressor(criterion='mse', max_de...</td>\n",
       "      <td>34.833664</td>\n",
       "      <td>13.288502</td>\n",
       "      <td>35.772812</td>\n",
       "      <td>13.517528</td>\n",
       "      <td>0.497772</td>\n",
       "      <td>0.927404</td>\n",
       "      <td>71.932358</td>\n",
       "      <td>27.740307</td>\n",
       "    </tr>\n",
       "    <tr>\n",
       "      <th>0</th>\n",
       "      <td>Boruta</td>\n",
       "      <td>MLPRegressor(activation='relu', alpha=0.55, ba...</td>\n",
       "      <td>58.130616</td>\n",
       "      <td>58.178617</td>\n",
       "      <td>71.304127</td>\n",
       "      <td>69.786942</td>\n",
       "      <td>0.064542</td>\n",
       "      <td>0.060126</td>\n",
       "      <td>98.171656</td>\n",
       "      <td>99.813398</td>\n",
       "    </tr>\n",
       "  </tbody>\n",
       "</table>\n",
       "</div>"
      ],
      "text/plain": [
       "           Model                                          ModelType  \\\n",
       "0            EDA  LinearRegression(copy_X=True, fit_intercept=Tr...   \n",
       "0            EDA  (DecisionTreeRegressor(criterion='mse', max_de...   \n",
       "0            EDA  MLPRegressor(activation='relu', alpha=0.55, ba...   \n",
       "0  After Scaling  LinearRegression(copy_X=True, fit_intercept=Tr...   \n",
       "0  After Scaling  (DecisionTreeRegressor(criterion='mse', max_de...   \n",
       "0  After Scaling  MLPRegressor(activation='relu', alpha=0.55, ba...   \n",
       "0         Boruta  LinearRegression(copy_X=True, fit_intercept=Tr...   \n",
       "0         Boruta  (DecisionTreeRegressor(criterion='mse', max_de...   \n",
       "0         Boruta  MLPRegressor(activation='relu', alpha=0.55, ba...   \n",
       "\n",
       "    mae_test  mae_train  mape_test  mape_train   r2_test  r2_train   rms_test  \\\n",
       "0  54.738137  54.655463  64.403084   62.843287  0.108627  0.109353  95.830482   \n",
       "0  33.896720  12.718226  34.569303   12.628072  0.529036  0.933345  69.657464   \n",
       "0  53.791953  53.608378  63.918038   62.004389  0.154167  0.157050  93.350404   \n",
       "0  54.738137  54.655463  64.403084   62.843287  0.108627  0.109353  95.830482   \n",
       "0  33.912640  12.717627  34.588777   12.635847  0.528682  0.933351  69.683667   \n",
       "0  51.867077  51.153189  59.559731   57.088052  0.191979  0.210790  91.239981   \n",
       "0  57.710630  57.757545  70.214249   68.730210  0.058925  0.054655  98.465907   \n",
       "0  34.833664  13.288502  35.772812   13.517528  0.497772  0.927404  71.932358   \n",
       "0  58.130616  58.178617  71.304127   69.786942  0.064542  0.060126  98.171656   \n",
       "\n",
       "    rms_train  \n",
       "0   97.164320  \n",
       "0   26.580979  \n",
       "0   94.526821  \n",
       "0   97.164320  \n",
       "0   26.579837  \n",
       "0   91.464063  \n",
       "0  100.103478  \n",
       "0   27.740307  \n",
       "0   99.813398  "
      ]
     },
     "execution_count": 20,
     "metadata": {},
     "output_type": "execute_result"
    }
   ],
   "source": [
    "teston"
   ]
  },
  {
   "cell_type": "code",
   "execution_count": 21,
   "metadata": {},
   "outputs": [
    {
     "name": "stdout",
     "output_type": "stream",
     "text": [
      "LINEAR\n",
      "                  Model                                          ModelType  \\\n",
      "0  After Scaling_boruta  LinearRegression(copy_X=True, fit_intercept=Tr...   \n",
      "\n",
      "   mae_test  mae_train  mape_test  mape_train   r2_test  r2_train   rms_test  \\\n",
      "0  57.71063  57.757545  70.214249    68.73021  0.058925  0.054655  98.465907   \n",
      "\n",
      "    rms_train  \n",
      "0  100.103478  \n"
     ]
    },
    {
     "name": "stderr",
     "output_type": "stream",
     "text": [
      "/Users/rishabhjain/anaconda3/lib/python3.6/site-packages/sklearn/neural_network/multilayer_perceptron.py:564: ConvergenceWarning: Stochastic Optimizer: Maximum iterations (200) reached and the optimization hasn't converged yet.\n",
      "  % self.max_iter, ConvergenceWarning)\n"
     ]
    }
   ],
   "source": [
    "#### After scaling boruta\n",
    "\n",
    "from sklearn.preprocessing import StandardScaler\n",
    "scaler = StandardScaler()\n",
    "# Fit only to the training data\n",
    "scaler.fit(X_train)\n",
    "# Now apply the transformations to the data:\n",
    "X_train = scaler.transform(X_train)\n",
    "X_test = scaler.transform(X_test)\n",
    "\n",
    "teston = models('After Scaling_boruta',X_train, y_train, X_test, y_test)\n"
   ]
  },
  {
   "cell_type": "code",
   "execution_count": 22,
   "metadata": {},
   "outputs": [
    {
     "data": {
      "text/html": [
       "<div>\n",
       "<style scoped>\n",
       "    .dataframe tbody tr th:only-of-type {\n",
       "        vertical-align: middle;\n",
       "    }\n",
       "\n",
       "    .dataframe tbody tr th {\n",
       "        vertical-align: top;\n",
       "    }\n",
       "\n",
       "    .dataframe thead th {\n",
       "        text-align: right;\n",
       "    }\n",
       "</style>\n",
       "<table border=\"1\" class=\"dataframe\">\n",
       "  <thead>\n",
       "    <tr style=\"text-align: right;\">\n",
       "      <th></th>\n",
       "      <th>Model</th>\n",
       "      <th>ModelType</th>\n",
       "      <th>mae_test</th>\n",
       "      <th>mae_train</th>\n",
       "      <th>mape_test</th>\n",
       "      <th>mape_train</th>\n",
       "      <th>r2_test</th>\n",
       "      <th>r2_train</th>\n",
       "      <th>rms_test</th>\n",
       "      <th>rms_train</th>\n",
       "    </tr>\n",
       "  </thead>\n",
       "  <tbody>\n",
       "    <tr>\n",
       "      <th>0</th>\n",
       "      <td>EDA</td>\n",
       "      <td>LinearRegression(copy_X=True, fit_intercept=Tr...</td>\n",
       "      <td>54.738137</td>\n",
       "      <td>54.655463</td>\n",
       "      <td>64.403084</td>\n",
       "      <td>62.843287</td>\n",
       "      <td>0.108627</td>\n",
       "      <td>0.109353</td>\n",
       "      <td>95.830482</td>\n",
       "      <td>97.164320</td>\n",
       "    </tr>\n",
       "    <tr>\n",
       "      <th>0</th>\n",
       "      <td>EDA</td>\n",
       "      <td>(DecisionTreeRegressor(criterion='mse', max_de...</td>\n",
       "      <td>33.896720</td>\n",
       "      <td>12.718226</td>\n",
       "      <td>34.569303</td>\n",
       "      <td>12.628072</td>\n",
       "      <td>0.529036</td>\n",
       "      <td>0.933345</td>\n",
       "      <td>69.657464</td>\n",
       "      <td>26.580979</td>\n",
       "    </tr>\n",
       "    <tr>\n",
       "      <th>0</th>\n",
       "      <td>EDA</td>\n",
       "      <td>MLPRegressor(activation='relu', alpha=0.55, ba...</td>\n",
       "      <td>53.791953</td>\n",
       "      <td>53.608378</td>\n",
       "      <td>63.918038</td>\n",
       "      <td>62.004389</td>\n",
       "      <td>0.154167</td>\n",
       "      <td>0.157050</td>\n",
       "      <td>93.350404</td>\n",
       "      <td>94.526821</td>\n",
       "    </tr>\n",
       "    <tr>\n",
       "      <th>0</th>\n",
       "      <td>After Scaling</td>\n",
       "      <td>LinearRegression(copy_X=True, fit_intercept=Tr...</td>\n",
       "      <td>54.738137</td>\n",
       "      <td>54.655463</td>\n",
       "      <td>64.403084</td>\n",
       "      <td>62.843287</td>\n",
       "      <td>0.108627</td>\n",
       "      <td>0.109353</td>\n",
       "      <td>95.830482</td>\n",
       "      <td>97.164320</td>\n",
       "    </tr>\n",
       "    <tr>\n",
       "      <th>0</th>\n",
       "      <td>After Scaling</td>\n",
       "      <td>(DecisionTreeRegressor(criterion='mse', max_de...</td>\n",
       "      <td>33.912640</td>\n",
       "      <td>12.717627</td>\n",
       "      <td>34.588777</td>\n",
       "      <td>12.635847</td>\n",
       "      <td>0.528682</td>\n",
       "      <td>0.933351</td>\n",
       "      <td>69.683667</td>\n",
       "      <td>26.579837</td>\n",
       "    </tr>\n",
       "    <tr>\n",
       "      <th>0</th>\n",
       "      <td>After Scaling</td>\n",
       "      <td>MLPRegressor(activation='relu', alpha=0.55, ba...</td>\n",
       "      <td>51.867077</td>\n",
       "      <td>51.153189</td>\n",
       "      <td>59.559731</td>\n",
       "      <td>57.088052</td>\n",
       "      <td>0.191979</td>\n",
       "      <td>0.210790</td>\n",
       "      <td>91.239981</td>\n",
       "      <td>91.464063</td>\n",
       "    </tr>\n",
       "    <tr>\n",
       "      <th>0</th>\n",
       "      <td>Boruta</td>\n",
       "      <td>LinearRegression(copy_X=True, fit_intercept=Tr...</td>\n",
       "      <td>57.710630</td>\n",
       "      <td>57.757545</td>\n",
       "      <td>70.214249</td>\n",
       "      <td>68.730210</td>\n",
       "      <td>0.058925</td>\n",
       "      <td>0.054655</td>\n",
       "      <td>98.465907</td>\n",
       "      <td>100.103478</td>\n",
       "    </tr>\n",
       "    <tr>\n",
       "      <th>0</th>\n",
       "      <td>Boruta</td>\n",
       "      <td>(DecisionTreeRegressor(criterion='mse', max_de...</td>\n",
       "      <td>34.833664</td>\n",
       "      <td>13.288502</td>\n",
       "      <td>35.772812</td>\n",
       "      <td>13.517528</td>\n",
       "      <td>0.497772</td>\n",
       "      <td>0.927404</td>\n",
       "      <td>71.932358</td>\n",
       "      <td>27.740307</td>\n",
       "    </tr>\n",
       "    <tr>\n",
       "      <th>0</th>\n",
       "      <td>Boruta</td>\n",
       "      <td>MLPRegressor(activation='relu', alpha=0.55, ba...</td>\n",
       "      <td>58.130616</td>\n",
       "      <td>58.178617</td>\n",
       "      <td>71.304127</td>\n",
       "      <td>69.786942</td>\n",
       "      <td>0.064542</td>\n",
       "      <td>0.060126</td>\n",
       "      <td>98.171656</td>\n",
       "      <td>99.813398</td>\n",
       "    </tr>\n",
       "    <tr>\n",
       "      <th>0</th>\n",
       "      <td>After Scaling_boruta</td>\n",
       "      <td>LinearRegression(copy_X=True, fit_intercept=Tr...</td>\n",
       "      <td>57.710630</td>\n",
       "      <td>57.757545</td>\n",
       "      <td>70.214249</td>\n",
       "      <td>68.730210</td>\n",
       "      <td>0.058925</td>\n",
       "      <td>0.054655</td>\n",
       "      <td>98.465907</td>\n",
       "      <td>100.103478</td>\n",
       "    </tr>\n",
       "    <tr>\n",
       "      <th>0</th>\n",
       "      <td>After Scaling_boruta</td>\n",
       "      <td>(DecisionTreeRegressor(criterion='mse', max_de...</td>\n",
       "      <td>34.909132</td>\n",
       "      <td>13.289384</td>\n",
       "      <td>35.803314</td>\n",
       "      <td>13.527163</td>\n",
       "      <td>0.496523</td>\n",
       "      <td>0.927539</td>\n",
       "      <td>72.021787</td>\n",
       "      <td>27.714417</td>\n",
       "    </tr>\n",
       "    <tr>\n",
       "      <th>0</th>\n",
       "      <td>After Scaling_boruta</td>\n",
       "      <td>MLPRegressor(activation='relu', alpha=0.55, ba...</td>\n",
       "      <td>54.734040</td>\n",
       "      <td>54.639563</td>\n",
       "      <td>64.876258</td>\n",
       "      <td>63.778195</td>\n",
       "      <td>0.121140</td>\n",
       "      <td>0.131178</td>\n",
       "      <td>95.155445</td>\n",
       "      <td>95.966445</td>\n",
       "    </tr>\n",
       "  </tbody>\n",
       "</table>\n",
       "</div>"
      ],
      "text/plain": [
       "                  Model                                          ModelType  \\\n",
       "0                   EDA  LinearRegression(copy_X=True, fit_intercept=Tr...   \n",
       "0                   EDA  (DecisionTreeRegressor(criterion='mse', max_de...   \n",
       "0                   EDA  MLPRegressor(activation='relu', alpha=0.55, ba...   \n",
       "0         After Scaling  LinearRegression(copy_X=True, fit_intercept=Tr...   \n",
       "0         After Scaling  (DecisionTreeRegressor(criterion='mse', max_de...   \n",
       "0         After Scaling  MLPRegressor(activation='relu', alpha=0.55, ba...   \n",
       "0                Boruta  LinearRegression(copy_X=True, fit_intercept=Tr...   \n",
       "0                Boruta  (DecisionTreeRegressor(criterion='mse', max_de...   \n",
       "0                Boruta  MLPRegressor(activation='relu', alpha=0.55, ba...   \n",
       "0  After Scaling_boruta  LinearRegression(copy_X=True, fit_intercept=Tr...   \n",
       "0  After Scaling_boruta  (DecisionTreeRegressor(criterion='mse', max_de...   \n",
       "0  After Scaling_boruta  MLPRegressor(activation='relu', alpha=0.55, ba...   \n",
       "\n",
       "    mae_test  mae_train  mape_test  mape_train   r2_test  r2_train   rms_test  \\\n",
       "0  54.738137  54.655463  64.403084   62.843287  0.108627  0.109353  95.830482   \n",
       "0  33.896720  12.718226  34.569303   12.628072  0.529036  0.933345  69.657464   \n",
       "0  53.791953  53.608378  63.918038   62.004389  0.154167  0.157050  93.350404   \n",
       "0  54.738137  54.655463  64.403084   62.843287  0.108627  0.109353  95.830482   \n",
       "0  33.912640  12.717627  34.588777   12.635847  0.528682  0.933351  69.683667   \n",
       "0  51.867077  51.153189  59.559731   57.088052  0.191979  0.210790  91.239981   \n",
       "0  57.710630  57.757545  70.214249   68.730210  0.058925  0.054655  98.465907   \n",
       "0  34.833664  13.288502  35.772812   13.517528  0.497772  0.927404  71.932358   \n",
       "0  58.130616  58.178617  71.304127   69.786942  0.064542  0.060126  98.171656   \n",
       "0  57.710630  57.757545  70.214249   68.730210  0.058925  0.054655  98.465907   \n",
       "0  34.909132  13.289384  35.803314   13.527163  0.496523  0.927539  72.021787   \n",
       "0  54.734040  54.639563  64.876258   63.778195  0.121140  0.131178  95.155445   \n",
       "\n",
       "    rms_train  \n",
       "0   97.164320  \n",
       "0   26.580979  \n",
       "0   94.526821  \n",
       "0   97.164320  \n",
       "0   26.579837  \n",
       "0   91.464063  \n",
       "0  100.103478  \n",
       "0   27.740307  \n",
       "0   99.813398  \n",
       "0  100.103478  \n",
       "0   27.714417  \n",
       "0   95.966445  "
      ]
     },
     "execution_count": 22,
     "metadata": {},
     "output_type": "execute_result"
    }
   ],
   "source": [
    "teston"
   ]
  },
  {
   "cell_type": "markdown",
   "metadata": {},
   "source": [
    "## 1.3 Using featuretools\n",
    "### It is a framework to perform automated feature engineering. It excels at transforming transactional and relational datasets into feature matrices for machine learning."
   ]
  },
  {
   "cell_type": "code",
   "execution_count": 131,
   "metadata": {
    "collapsed": true
   },
   "outputs": [],
   "source": [
    "import featuretools as ft"
   ]
  },
  {
   "cell_type": "code",
   "execution_count": 132,
   "metadata": {
    "collapsed": true
   },
   "outputs": [],
   "source": [
    "phase_featuretools = df.groupby(['date','month','day_of_week','hour','day_number','min','period']).mean()\n",
    "phase_featuretools = phase_featuretools.reset_index()\n",
    "phase_featuretools['day_of_week']=phase_featuretools['day_of_week'].apply(int)\n",
    "phase_featuretools['hour']=phase_featuretools['hour'].apply(int)\n",
    "phase_featuretools['min']=phase_featuretools['min'].apply(int)\n",
    "phase_featuretools['period']=phase_featuretools['period'].apply(int)\n",
    "phase_featuretools['date'] = pd.to_datetime(phase_featuretools['date'])\n",
    "phase_featuretools['Press_mm_hg'] = np.log(phase_featuretools['Press_mm_hg'])\n",
    "phase_featuretools['Visibility'] = np.log(phase_featuretools['Visibility'])\n",
    "phase_featuretools = phase_featuretools.drop(['rv1','rv2'],axis=1)"
   ]
  },
  {
   "cell_type": "code",
   "execution_count": 133,
   "metadata": {
    "collapsed": true
   },
   "outputs": [],
   "source": [
    "y_featuretools = phase_featuretools[['date','Appliances']]\n",
    "X_featuretools = phase_featuretools.drop(['Appliances'],axis=1)\n",
    "entities ={\"appliances\" :(y_featuretools,\"date\"),\n",
    "          \"rest\" :(X_featuretools,\"date\")}\n",
    "relationships = [(\"appliances\",\"date\",\"rest\",\"date\")]"
   ]
  },
  {
   "cell_type": "code",
   "execution_count": 135,
   "metadata": {},
   "outputs": [],
   "source": [
    "feature_matrix_app,features_defs = ft.dfs(entities=entities,relationships=relationships,target_entity=\"appliances\")"
   ]
  },
  {
   "cell_type": "code",
   "execution_count": 136,
   "metadata": {
    "collapsed": true
   },
   "outputs": [],
   "source": [
    "feature_matrix_app1 = feature_matrix_app"
   ]
  },
  {
   "cell_type": "code",
   "execution_count": 137,
   "metadata": {},
   "outputs": [
    {
     "data": {
      "text/plain": [
       "Appliances                  int64\n",
       "SUM(rest.month)             int64\n",
       "SUM(rest.day_of_week)       int64\n",
       "SUM(rest.hour)              int64\n",
       "SUM(rest.day_number)        int64\n",
       "SUM(rest.min)               int64\n",
       "SUM(rest.period)            int64\n",
       "SUM(rest.lights)            int64\n",
       "SUM(rest.T1)              float64\n",
       "SUM(rest.RH_1)            float64\n",
       "SUM(rest.T2)              float64\n",
       "SUM(rest.RH_2)            float64\n",
       "SUM(rest.T3)              float64\n",
       "SUM(rest.RH_3)            float64\n",
       "SUM(rest.T4)              float64\n",
       "SUM(rest.RH_4)            float64\n",
       "SUM(rest.T5)              float64\n",
       "SUM(rest.RH_5)            float64\n",
       "SUM(rest.T6)              float64\n",
       "SUM(rest.RH_6)            float64\n",
       "SUM(rest.T7)              float64\n",
       "SUM(rest.RH_7)            float64\n",
       "SUM(rest.T8)              float64\n",
       "SUM(rest.RH_8)            float64\n",
       "SUM(rest.T9)              float64\n",
       "SUM(rest.RH_9)            float64\n",
       "SUM(rest.T_out)           float64\n",
       "SUM(rest.Press_mm_hg)     float64\n",
       "SUM(rest.RH_out)          float64\n",
       "SUM(rest.Windspeed)       float64\n",
       "                           ...   \n",
       "MEAN(rest.hour)             int64\n",
       "MEAN(rest.day_number)       int64\n",
       "MEAN(rest.min)              int64\n",
       "MEAN(rest.period)           int64\n",
       "MEAN(rest.lights)           int64\n",
       "MEAN(rest.T1)             float64\n",
       "MEAN(rest.RH_1)           float64\n",
       "MEAN(rest.T2)             float64\n",
       "MEAN(rest.RH_2)           float64\n",
       "MEAN(rest.T3)             float64\n",
       "MEAN(rest.RH_3)           float64\n",
       "MEAN(rest.T4)             float64\n",
       "MEAN(rest.RH_4)           float64\n",
       "MEAN(rest.T5)             float64\n",
       "MEAN(rest.RH_5)           float64\n",
       "MEAN(rest.T6)             float64\n",
       "MEAN(rest.RH_6)           float64\n",
       "MEAN(rest.T7)             float64\n",
       "MEAN(rest.RH_7)           float64\n",
       "MEAN(rest.T8)             float64\n",
       "MEAN(rest.RH_8)           float64\n",
       "MEAN(rest.T9)             float64\n",
       "MEAN(rest.RH_9)           float64\n",
       "MEAN(rest.T_out)          float64\n",
       "MEAN(rest.Press_mm_hg)    float64\n",
       "MEAN(rest.RH_out)         float64\n",
       "MEAN(rest.Windspeed)      float64\n",
       "MEAN(rest.Visibility)     float64\n",
       "MEAN(rest.Tdewpoint)      float64\n",
       "MEAN(rest.Week_no)          int64\n",
       "Length: 193, dtype: object"
      ]
     },
     "execution_count": 137,
     "metadata": {},
     "output_type": "execute_result"
    }
   ],
   "source": [
    "feature_matrix_app1.dtypes"
   ]
  },
  {
   "cell_type": "markdown",
   "metadata": {
    "collapsed": true
   },
   "source": [
    "#### 1.3.1 Test Train Split"
   ]
  },
  {
   "cell_type": "code",
   "execution_count": null,
   "metadata": {
    "collapsed": true
   },
   "outputs": [],
   "source": [
    "y_featuretools = y_featuretools.drop('date',axis=1)\n",
    "y_featuretools = y_featuretools.values"
   ]
  },
  {
   "cell_type": "code",
   "execution_count": null,
   "metadata": {
    "collapsed": true
   },
   "outputs": [],
   "source": [
    "X_train, X_test, y_train, y_test = train_test_split(feature_matrix_app1, y_featuretools, test_size=0.30, random_state=42)"
   ]
  },
  {
   "cell_type": "code",
   "execution_count": null,
   "metadata": {},
   "outputs": [],
   "source": [
    "teston = models('featuretools',X_train, y_train, X_test, y_test)"
   ]
  },
  {
   "cell_type": "code",
   "execution_count": null,
   "metadata": {
    "collapsed": true
   },
   "outputs": [],
   "source": [
    "teston"
   ]
  },
  {
   "cell_type": "markdown",
   "metadata": {
    "collapsed": true
   },
   "source": [
    "#### 1.3.2 After scaling featuretools"
   ]
  },
  {
   "cell_type": "code",
   "execution_count": null,
   "metadata": {
    "collapsed": true
   },
   "outputs": [],
   "source": [
    "from sklearn.preprocessing import StandardScaler\n",
    "scaler = StandardScaler()\n",
    "# Fit only to the training data\n",
    "scaler.fit(X_train)\n",
    "# Now apply the transformations to the data:\n",
    "X_train = scaler.transform(X_train)\n",
    "X_test = scaler.transform(X_test)"
   ]
  },
  {
   "cell_type": "code",
   "execution_count": null,
   "metadata": {
    "collapsed": true
   },
   "outputs": [],
   "source": [
    "teston = models('After Scaling_featuretools',X_train, y_train, X_test, y_test)"
   ]
  },
  {
   "cell_type": "code",
   "execution_count": null,
   "metadata": {
    "collapsed": true
   },
   "outputs": [],
   "source": [
    "teston"
   ]
  },
  {
   "cell_type": "markdown",
   "metadata": {},
   "source": [
    "## 1.4 Using tsfresh"
   ]
  },
  {
   "cell_type": "code",
   "execution_count": 10,
   "metadata": {
    "collapsed": true
   },
   "outputs": [],
   "source": [
    "phase_tsfresh = phase_featuretools"
   ]
  },
  {
   "cell_type": "code",
   "execution_count": 11,
   "metadata": {},
   "outputs": [
    {
     "name": "stderr",
     "output_type": "stream",
     "text": [
      "/Users/rishabhjain/anaconda3/lib/python3.6/site-packages/statsmodels/compat/pandas.py:56: FutureWarning: The pandas.core.datetools module is deprecated and will be removed in a future version. Please use the pandas.tseries module instead.\n",
      "  from pandas.core import datetools\n"
     ]
    }
   ],
   "source": [
    "from tsfresh import extract_features"
   ]
  },
  {
   "cell_type": "code",
   "execution_count": 12,
   "metadata": {
    "collapsed": true
   },
   "outputs": [],
   "source": [
    "X_tsfresh = phase_tsfresh.drop('Appliances',axis=1)\n",
    "y_tsfresh = phase_tsfresh['Appliances']"
   ]
  },
  {
   "cell_type": "code",
   "execution_count": 13,
   "metadata": {
    "collapsed": true
   },
   "outputs": [],
   "source": [
    "from tsfresh import extract_features\n",
    "from tsfresh import select_features\n",
    "from tsfresh.utilities.dataframe_functions import impute\n",
    "\n",
    "\n"
   ]
  },
  {
   "cell_type": "code",
   "execution_count": 14,
   "metadata": {
    "collapsed": true
   },
   "outputs": [],
   "source": [
    "p = phase_featuretools.drop('Appliances',axis=1)"
   ]
  },
  {
   "cell_type": "code",
   "execution_count": 15,
   "metadata": {},
   "outputs": [
    {
     "name": "stderr",
     "output_type": "stream",
     "text": [
      "Feature Extraction: 100%|██████████| 20/20 [00:56<00:00,  2.84s/it]\n"
     ]
    }
   ],
   "source": [
    "# For Extracing Minimal Features\n",
    "from tsfresh.feature_extraction import MinimalFCParameters\n",
    "extracted_features = extract_features(p, column_id=\"date\", column_sort=\"period\",show_warnings=False, default_fc_parameters=MinimalFCParameters())"
   ]
  },
  {
   "cell_type": "code",
   "execution_count": 16,
   "metadata": {},
   "outputs": [
    {
     "name": "stderr",
     "output_type": "stream",
     "text": [
      "WARNING:tsfresh.feature_selection.relevance:Infered classification as machine learning task\n",
      "WARNING:tsfresh.feature_selection.relevance:[test_feature_significance] Feature Press_mm_hg__length is constant\n",
      "WARNING:tsfresh.feature_selection.relevance:[test_feature_significance] Feature Press_mm_hg__standard_deviation is constant\n",
      "WARNING:tsfresh.feature_selection.relevance:[test_feature_significance] Feature Press_mm_hg__variance is constant\n",
      "WARNING:tsfresh.feature_selection.relevance:[test_feature_significance] Feature RH_2__length is constant\n",
      "WARNING:tsfresh.feature_selection.relevance:[test_feature_significance] Feature RH_1__length is constant\n",
      "WARNING:tsfresh.feature_selection.relevance:[test_feature_significance] Feature RH_2__standard_deviation is constant\n",
      "WARNING:tsfresh.feature_selection.relevance:[test_feature_significance] Feature RH_4__length is constant\n",
      "WARNING:tsfresh.feature_selection.relevance:[test_feature_significance] Feature RH_1__standard_deviation is constant\n",
      "WARNING:tsfresh.feature_selection.relevance:[test_feature_significance] Feature RH_2__variance is constant\n",
      "WARNING:tsfresh.feature_selection.relevance:[test_feature_significance] Feature RH_3__length is constant\n",
      "WARNING:tsfresh.feature_selection.relevance:[test_feature_significance] Feature RH_1__variance is constant\n",
      "WARNING:tsfresh.feature_selection.relevance:[test_feature_significance] Feature RH_4__standard_deviation is constant\n",
      "WARNING:tsfresh.feature_selection.relevance:[test_feature_significance] Feature RH_5__length is constant\n",
      "WARNING:tsfresh.feature_selection.relevance:[test_feature_significance] Feature RH_3__standard_deviation is constant\n",
      "WARNING:tsfresh.feature_selection.relevance:[test_feature_significance] Feature RH_4__variance is constant\n",
      "WARNING:tsfresh.feature_selection.relevance:[test_feature_significance] Feature RH_3__variance is constant\n",
      "WARNING:tsfresh.feature_selection.relevance:[test_feature_significance] Feature RH_6__length is constant\n",
      "WARNING:tsfresh.feature_selection.relevance:[test_feature_significance] Feature RH_5__variance is constant\n",
      "WARNING:tsfresh.feature_selection.relevance:[test_feature_significance] Feature RH_8__length is constant\n",
      "WARNING:tsfresh.feature_selection.relevance:[test_feature_significance] Feature RH_5__standard_deviation is constant\n",
      "WARNING:tsfresh.feature_selection.relevance:[test_feature_significance] Feature RH_6__standard_deviation is constant\n",
      "WARNING:tsfresh.feature_selection.relevance:[test_feature_significance] Feature RH_8__standard_deviation is constant\n",
      "WARNING:tsfresh.feature_selection.relevance:[test_feature_significance] Feature RH_9__length is constant\n",
      "WARNING:tsfresh.feature_selection.relevance:[test_feature_significance] Feature RH_6__variance is constant\n",
      "WARNING:tsfresh.feature_selection.relevance:[test_feature_significance] Feature RH_7__length is constant\n",
      "WARNING:tsfresh.feature_selection.relevance:[test_feature_significance] Feature RH_8__variance is constant\n",
      "WARNING:tsfresh.feature_selection.relevance:[test_feature_significance] Feature RH_out__length is constant\n",
      "WARNING:tsfresh.feature_selection.relevance:[test_feature_significance] Feature RH_7__standard_deviation is constant\n",
      "WARNING:tsfresh.feature_selection.relevance:[test_feature_significance] Feature RH_9__variance is constant\n",
      "WARNING:tsfresh.feature_selection.relevance:[test_feature_significance] Feature RH_out__standard_deviation is constant\n",
      "WARNING:tsfresh.feature_selection.relevance:[test_feature_significance] Feature RH_7__variance is constant\n",
      "WARNING:tsfresh.feature_selection.relevance:[test_feature_significance] Feature RH_9__standard_deviation is constant\n",
      "WARNING:tsfresh.feature_selection.relevance:[test_feature_significance] Feature T2__length is constant\n",
      "WARNING:tsfresh.feature_selection.relevance:[test_feature_significance] Feature RH_out__variance is constant\n",
      "WARNING:tsfresh.feature_selection.relevance:[test_feature_significance] Feature T1__length is constant\n",
      "WARNING:tsfresh.feature_selection.relevance:[test_feature_significance] Feature T2__standard_deviation is constant\n",
      "WARNING:tsfresh.feature_selection.relevance:[test_feature_significance] Feature T3__length is constant\n",
      "WARNING:tsfresh.feature_selection.relevance:[test_feature_significance] Feature T1__standard_deviation is constant\n",
      "WARNING:tsfresh.feature_selection.relevance:[test_feature_significance] Feature T4__length is constant\n",
      "WARNING:tsfresh.feature_selection.relevance:[test_feature_significance] Feature T2__variance is constant\n",
      "WARNING:tsfresh.feature_selection.relevance:[test_feature_significance] Feature T1__variance is constant\n",
      "WARNING:tsfresh.feature_selection.relevance:[test_feature_significance] Feature T4__standard_deviation is constant\n",
      "WARNING:tsfresh.feature_selection.relevance:[test_feature_significance] Feature T5__length is constant\n",
      "WARNING:tsfresh.feature_selection.relevance:[test_feature_significance] Feature T3__standard_deviation is constant\n",
      "WARNING:tsfresh.feature_selection.relevance:[test_feature_significance] Feature T4__variance is constant\n",
      "WARNING:tsfresh.feature_selection.relevance:[test_feature_significance] Feature T6__length is constant\n",
      "WARNING:tsfresh.feature_selection.relevance:[test_feature_significance] Feature T3__variance is constant\n",
      "WARNING:tsfresh.feature_selection.relevance:[test_feature_significance] Feature T6__standard_deviation is constant\n",
      "WARNING:tsfresh.feature_selection.relevance:[test_feature_significance] Feature T7__length is constant\n",
      "WARNING:tsfresh.feature_selection.relevance:[test_feature_significance] Feature T5__standard_deviation is constant\n",
      "WARNING:tsfresh.feature_selection.relevance:[test_feature_significance] Feature T6__variance is constant\n",
      "WARNING:tsfresh.feature_selection.relevance:[test_feature_significance] Feature T8__length is constant\n",
      "WARNING:tsfresh.feature_selection.relevance:[test_feature_significance] Feature T5__variance is constant\n",
      "WARNING:tsfresh.feature_selection.relevance:[test_feature_significance] Feature T8__standard_deviation is constant\n",
      "WARNING:tsfresh.feature_selection.relevance:[test_feature_significance] Feature T9__length is constant\n",
      "WARNING:tsfresh.feature_selection.relevance:[test_feature_significance] Feature T7__standard_deviation is constant\n",
      "WARNING:tsfresh.feature_selection.relevance:[test_feature_significance] Feature T8__variance is constant\n",
      "WARNING:tsfresh.feature_selection.relevance:[test_feature_significance] Feature T_out__length is constant\n",
      "WARNING:tsfresh.feature_selection.relevance:[test_feature_significance] Feature T7__variance is constant\n",
      "WARNING:tsfresh.feature_selection.relevance:[test_feature_significance] Feature T_out__standard_deviation is constant\n",
      "WARNING:tsfresh.feature_selection.relevance:[test_feature_significance] Feature T9__standard_deviation is constant\n",
      "WARNING:tsfresh.feature_selection.relevance:[test_feature_significance] Feature T9__variance is constant\n",
      "WARNING:tsfresh.feature_selection.relevance:[test_feature_significance] Feature Tdewpoint__length is constant\n",
      "WARNING:tsfresh.feature_selection.relevance:[test_feature_significance] Feature T_out__variance is constant\n",
      "WARNING:tsfresh.feature_selection.relevance:[test_feature_significance] Feature Visibility__length is constant\n",
      "WARNING:tsfresh.feature_selection.relevance:[test_feature_significance] Feature Visibility__standard_deviation is constant\n",
      "WARNING:tsfresh.feature_selection.relevance:[test_feature_significance] Feature Windspeed__length is constant\n",
      "WARNING:tsfresh.feature_selection.relevance:[test_feature_significance] Feature Tdewpoint__standard_deviation is constant\n",
      "WARNING:tsfresh.feature_selection.relevance:[test_feature_significance] Feature Visibility__variance is constant\n",
      "WARNING:tsfresh.feature_selection.relevance:[test_feature_significance] Feature Tdewpoint__variance is constant\n",
      "WARNING:tsfresh.feature_selection.relevance:[test_feature_significance] Feature Week_no__length is constant\n",
      "WARNING:tsfresh.feature_selection.relevance:[test_feature_significance] Feature Week_no__standard_deviation is constant\n",
      "WARNING:tsfresh.feature_selection.relevance:[test_feature_significance] Feature Windspeed__standard_deviation is constant\n",
      "WARNING:tsfresh.feature_selection.relevance:[test_feature_significance] Feature Week_no__variance is constant\n"
     ]
    },
    {
     "name": "stderr",
     "output_type": "stream",
     "text": [
      "WARNING:tsfresh.feature_selection.relevance:[test_feature_significance] Feature day_number__standard_deviation is constant\n",
      "WARNING:tsfresh.feature_selection.relevance:[test_feature_significance] Feature Windspeed__variance is constant\n",
      "WARNING:tsfresh.feature_selection.relevance:[test_feature_significance] Feature day_number__length is constant\n",
      "WARNING:tsfresh.feature_selection.relevance:[test_feature_significance] Feature day_of_week__length is constant\n",
      "WARNING:tsfresh.feature_selection.relevance:[test_feature_significance] Feature day_of_week__standard_deviation is constant\n",
      "WARNING:tsfresh.feature_selection.relevance:[test_feature_significance] Feature day_number__variance is constant\n",
      "WARNING:tsfresh.feature_selection.relevance:[test_feature_significance] Feature hour__length is constant\n",
      "WARNING:tsfresh.feature_selection.relevance:[test_feature_significance] Feature day_of_week__variance is constant\n",
      "WARNING:tsfresh.feature_selection.relevance:[test_feature_significance] Feature lights__length is constant\n",
      "WARNING:tsfresh.feature_selection.relevance:[test_feature_significance] Feature month__length is constant\n",
      "WARNING:tsfresh.feature_selection.relevance:[test_feature_significance] Feature hour__standard_deviation is constant\n",
      "WARNING:tsfresh.feature_selection.relevance:[test_feature_significance] Feature lights__standard_deviation is constant\n",
      "WARNING:tsfresh.feature_selection.relevance:[test_feature_significance] Feature lights__variance is constant\n",
      "WARNING:tsfresh.feature_selection.relevance:[test_feature_significance] Feature hour__variance is constant\n",
      "WARNING:tsfresh.feature_selection.relevance:[test_feature_significance] Feature month__standard_deviation is constant\n",
      "WARNING:tsfresh.feature_selection.relevance:[test_feature_significance] Feature min__length is constant\n",
      "WARNING:tsfresh.feature_selection.relevance:[test_feature_significance] Feature month__variance is constant\n",
      "WARNING:tsfresh.feature_selection.relevance:[test_feature_significance] Feature min__standard_deviation is constant\n",
      "WARNING:tsfresh.feature_selection.relevance:[test_feature_significance] Feature min__variance is constant\n"
     ]
    }
   ],
   "source": [
    "from tsfresh import select_features\n",
    "from tsfresh.utilities.dataframe_functions import impute\n",
    "# for extracting relevant features\n",
    "impute(extracted_features)\n",
    "features_filtered = select_features(extracted_features, y)"
   ]
  },
  {
   "cell_type": "markdown",
   "metadata": {},
   "source": [
    "#### 1.4.1 Test and Train Split"
   ]
  },
  {
   "cell_type": "code",
   "execution_count": 17,
   "metadata": {
    "collapsed": true
   },
   "outputs": [],
   "source": [
    "X_train, X_test, y_train, y_test = train_test_split(features_filtered, y, test_size=0.30, random_state=42)"
   ]
  },
  {
   "cell_type": "code",
   "execution_count": 18,
   "metadata": {},
   "outputs": [
    {
     "name": "stdout",
     "output_type": "stream",
     "text": [
      "LINEAR\n",
      "     Model                                          ModelType  mae_test  \\\n",
      "0  tsfresh  LinearRegression(copy_X=True, fit_intercept=Tr...  53.02121   \n",
      "\n",
      "   mae_train  mape_test  mape_train   r2_test  r2_train   rms_test  rms_train  \n",
      "0  52.843056  62.392016   60.635439  0.168859  0.171669  92.536131  93.703534  \n"
     ]
    }
   ],
   "source": [
    "tsfresh = models('tsfresh',X_train, y_train, X_test, y_test)"
   ]
  },
  {
   "cell_type": "code",
   "execution_count": 19,
   "metadata": {},
   "outputs": [
    {
     "data": {
      "text/html": [
       "<div>\n",
       "<style scoped>\n",
       "    .dataframe tbody tr th:only-of-type {\n",
       "        vertical-align: middle;\n",
       "    }\n",
       "\n",
       "    .dataframe tbody tr th {\n",
       "        vertical-align: top;\n",
       "    }\n",
       "\n",
       "    .dataframe thead th {\n",
       "        text-align: right;\n",
       "    }\n",
       "</style>\n",
       "<table border=\"1\" class=\"dataframe\">\n",
       "  <thead>\n",
       "    <tr style=\"text-align: right;\">\n",
       "      <th></th>\n",
       "      <th>Model</th>\n",
       "      <th>ModelType</th>\n",
       "      <th>mae_test</th>\n",
       "      <th>mae_train</th>\n",
       "      <th>mape_test</th>\n",
       "      <th>mape_train</th>\n",
       "      <th>r2_test</th>\n",
       "      <th>r2_train</th>\n",
       "      <th>rms_test</th>\n",
       "      <th>rms_train</th>\n",
       "    </tr>\n",
       "  </thead>\n",
       "  <tbody>\n",
       "    <tr>\n",
       "      <th>0</th>\n",
       "      <td>tsfresh</td>\n",
       "      <td>LinearRegression(copy_X=True, fit_intercept=Tr...</td>\n",
       "      <td>53.021210</td>\n",
       "      <td>52.843056</td>\n",
       "      <td>62.392016</td>\n",
       "      <td>60.635439</td>\n",
       "      <td>0.168859</td>\n",
       "      <td>0.171669</td>\n",
       "      <td>92.536131</td>\n",
       "      <td>93.703534</td>\n",
       "    </tr>\n",
       "    <tr>\n",
       "      <th>0</th>\n",
       "      <td>tsfresh</td>\n",
       "      <td>(DecisionTreeRegressor(criterion='mse', max_de...</td>\n",
       "      <td>32.592461</td>\n",
       "      <td>12.334478</td>\n",
       "      <td>32.352695</td>\n",
       "      <td>12.024886</td>\n",
       "      <td>0.546053</td>\n",
       "      <td>0.934848</td>\n",
       "      <td>68.387492</td>\n",
       "      <td>26.279544</td>\n",
       "    </tr>\n",
       "    <tr>\n",
       "      <th>0</th>\n",
       "      <td>tsfresh</td>\n",
       "      <td>MLPRegressor(activation='relu', alpha=0.55, ba...</td>\n",
       "      <td>48.811336</td>\n",
       "      <td>48.148924</td>\n",
       "      <td>51.915857</td>\n",
       "      <td>49.460150</td>\n",
       "      <td>0.181200</td>\n",
       "      <td>0.193453</td>\n",
       "      <td>91.846514</td>\n",
       "      <td>92.463200</td>\n",
       "    </tr>\n",
       "  </tbody>\n",
       "</table>\n",
       "</div>"
      ],
      "text/plain": [
       "     Model                                          ModelType   mae_test  \\\n",
       "0  tsfresh  LinearRegression(copy_X=True, fit_intercept=Tr...  53.021210   \n",
       "0  tsfresh  (DecisionTreeRegressor(criterion='mse', max_de...  32.592461   \n",
       "0  tsfresh  MLPRegressor(activation='relu', alpha=0.55, ba...  48.811336   \n",
       "\n",
       "   mae_train  mape_test  mape_train   r2_test  r2_train   rms_test  rms_train  \n",
       "0  52.843056  62.392016   60.635439  0.168859  0.171669  92.536131  93.703534  \n",
       "0  12.334478  32.352695   12.024886  0.546053  0.934848  68.387492  26.279544  \n",
       "0  48.148924  51.915857   49.460150  0.181200  0.193453  91.846514  92.463200  "
      ]
     },
     "execution_count": 19,
     "metadata": {},
     "output_type": "execute_result"
    }
   ],
   "source": [
    "tsfresh "
   ]
  },
  {
   "cell_type": "markdown",
   "metadata": {},
   "source": [
    "#### 1.4.2 After scaling tsfresh"
   ]
  },
  {
   "cell_type": "code",
   "execution_count": 20,
   "metadata": {
    "collapsed": true
   },
   "outputs": [],
   "source": [
    "from sklearn.preprocessing import StandardScaler\n",
    "scaler = StandardScaler()\n",
    "# Fit only to the training data\n",
    "scaler.fit(X_train)\n",
    "# Now apply the transformations to the data:\n",
    "X_train = scaler.transform(X_train)\n",
    "X_test = scaler.transform(X_test)"
   ]
  },
  {
   "cell_type": "code",
   "execution_count": 21,
   "metadata": {},
   "outputs": [
    {
     "name": "stdout",
     "output_type": "stream",
     "text": [
      "LINEAR\n",
      "                   Model                                          ModelType  \\\n",
      "0  After Scaling_tsfresh  LinearRegression(copy_X=True, fit_intercept=Tr...   \n",
      "\n",
      "    mae_test  mae_train  mape_test  mape_train   r2_test  r2_train   rms_test  \\\n",
      "0  52.968279  52.847314  62.388528   60.725148  0.169117  0.171448  92.521727   \n",
      "\n",
      "   rms_train  \n",
      "0  93.716054  \n"
     ]
    }
   ],
   "source": [
    "teston = models('After Scaling_tsfresh',X_train, y_train, X_test, y_test)"
   ]
  },
  {
   "cell_type": "code",
   "execution_count": 22,
   "metadata": {},
   "outputs": [
    {
     "data": {
      "text/html": [
       "<div>\n",
       "<style scoped>\n",
       "    .dataframe tbody tr th:only-of-type {\n",
       "        vertical-align: middle;\n",
       "    }\n",
       "\n",
       "    .dataframe tbody tr th {\n",
       "        vertical-align: top;\n",
       "    }\n",
       "\n",
       "    .dataframe thead th {\n",
       "        text-align: right;\n",
       "    }\n",
       "</style>\n",
       "<table border=\"1\" class=\"dataframe\">\n",
       "  <thead>\n",
       "    <tr style=\"text-align: right;\">\n",
       "      <th></th>\n",
       "      <th>Model</th>\n",
       "      <th>ModelType</th>\n",
       "      <th>mae_test</th>\n",
       "      <th>mae_train</th>\n",
       "      <th>mape_test</th>\n",
       "      <th>mape_train</th>\n",
       "      <th>r2_test</th>\n",
       "      <th>r2_train</th>\n",
       "      <th>rms_test</th>\n",
       "      <th>rms_train</th>\n",
       "    </tr>\n",
       "  </thead>\n",
       "  <tbody>\n",
       "    <tr>\n",
       "      <th>0</th>\n",
       "      <td>tsfresh</td>\n",
       "      <td>LinearRegression(copy_X=True, fit_intercept=Tr...</td>\n",
       "      <td>53.021210</td>\n",
       "      <td>52.843056</td>\n",
       "      <td>62.392016</td>\n",
       "      <td>60.635439</td>\n",
       "      <td>0.168859</td>\n",
       "      <td>0.171669</td>\n",
       "      <td>92.536131</td>\n",
       "      <td>93.703534</td>\n",
       "    </tr>\n",
       "    <tr>\n",
       "      <th>0</th>\n",
       "      <td>tsfresh</td>\n",
       "      <td>(DecisionTreeRegressor(criterion='mse', max_de...</td>\n",
       "      <td>32.592461</td>\n",
       "      <td>12.334478</td>\n",
       "      <td>32.352695</td>\n",
       "      <td>12.024886</td>\n",
       "      <td>0.546053</td>\n",
       "      <td>0.934848</td>\n",
       "      <td>68.387492</td>\n",
       "      <td>26.279544</td>\n",
       "    </tr>\n",
       "    <tr>\n",
       "      <th>0</th>\n",
       "      <td>tsfresh</td>\n",
       "      <td>MLPRegressor(activation='relu', alpha=0.55, ba...</td>\n",
       "      <td>48.811336</td>\n",
       "      <td>48.148924</td>\n",
       "      <td>51.915857</td>\n",
       "      <td>49.460150</td>\n",
       "      <td>0.181200</td>\n",
       "      <td>0.193453</td>\n",
       "      <td>91.846514</td>\n",
       "      <td>92.463200</td>\n",
       "    </tr>\n",
       "    <tr>\n",
       "      <th>0</th>\n",
       "      <td>After Scaling_tsfresh</td>\n",
       "      <td>LinearRegression(copy_X=True, fit_intercept=Tr...</td>\n",
       "      <td>52.968279</td>\n",
       "      <td>52.847314</td>\n",
       "      <td>62.388528</td>\n",
       "      <td>60.725148</td>\n",
       "      <td>0.169117</td>\n",
       "      <td>0.171448</td>\n",
       "      <td>92.521727</td>\n",
       "      <td>93.716054</td>\n",
       "    </tr>\n",
       "    <tr>\n",
       "      <th>0</th>\n",
       "      <td>After Scaling_tsfresh</td>\n",
       "      <td>(DecisionTreeRegressor(criterion='mse', max_de...</td>\n",
       "      <td>32.630809</td>\n",
       "      <td>12.328393</td>\n",
       "      <td>32.378313</td>\n",
       "      <td>12.030228</td>\n",
       "      <td>0.545768</td>\n",
       "      <td>0.934940</td>\n",
       "      <td>68.408937</td>\n",
       "      <td>26.261072</td>\n",
       "    </tr>\n",
       "    <tr>\n",
       "      <th>0</th>\n",
       "      <td>After Scaling_tsfresh</td>\n",
       "      <td>MLPRegressor(activation='relu', alpha=0.55, ba...</td>\n",
       "      <td>48.645106</td>\n",
       "      <td>47.000525</td>\n",
       "      <td>55.551459</td>\n",
       "      <td>52.965478</td>\n",
       "      <td>0.301070</td>\n",
       "      <td>0.361856</td>\n",
       "      <td>84.857588</td>\n",
       "      <td>82.245725</td>\n",
       "    </tr>\n",
       "  </tbody>\n",
       "</table>\n",
       "</div>"
      ],
      "text/plain": [
       "                   Model                                          ModelType  \\\n",
       "0                tsfresh  LinearRegression(copy_X=True, fit_intercept=Tr...   \n",
       "0                tsfresh  (DecisionTreeRegressor(criterion='mse', max_de...   \n",
       "0                tsfresh  MLPRegressor(activation='relu', alpha=0.55, ba...   \n",
       "0  After Scaling_tsfresh  LinearRegression(copy_X=True, fit_intercept=Tr...   \n",
       "0  After Scaling_tsfresh  (DecisionTreeRegressor(criterion='mse', max_de...   \n",
       "0  After Scaling_tsfresh  MLPRegressor(activation='relu', alpha=0.55, ba...   \n",
       "\n",
       "    mae_test  mae_train  mape_test  mape_train   r2_test  r2_train   rms_test  \\\n",
       "0  53.021210  52.843056  62.392016   60.635439  0.168859  0.171669  92.536131   \n",
       "0  32.592461  12.334478  32.352695   12.024886  0.546053  0.934848  68.387492   \n",
       "0  48.811336  48.148924  51.915857   49.460150  0.181200  0.193453  91.846514   \n",
       "0  52.968279  52.847314  62.388528   60.725148  0.169117  0.171448  92.521727   \n",
       "0  32.630809  12.328393  32.378313   12.030228  0.545768  0.934940  68.408937   \n",
       "0  48.645106  47.000525  55.551459   52.965478  0.301070  0.361856  84.857588   \n",
       "\n",
       "   rms_train  \n",
       "0  93.703534  \n",
       "0  26.279544  \n",
       "0  92.463200  \n",
       "0  93.716054  \n",
       "0  26.261072  \n",
       "0  82.245725  "
      ]
     },
     "execution_count": 22,
     "metadata": {},
     "output_type": "execute_result"
    }
   ],
   "source": [
    "teston"
   ]
  },
  {
   "cell_type": "markdown",
   "metadata": {},
   "source": [
    "## 1.5 tpot "
   ]
  },
  {
   "cell_type": "markdown",
   "metadata": {},
   "source": [
    "### 1.5.1 training testing spliting"
   ]
  },
  {
   "cell_type": "code",
   "execution_count": 8,
   "metadata": {
    "collapsed": true
   },
   "outputs": [],
   "source": [
    "X_tpot = phase.drop(['Appliances'],axis=1)\n",
    "y_tpot = phase['Appliances']"
   ]
  },
  {
   "cell_type": "code",
   "execution_count": 9,
   "metadata": {
    "collapsed": true
   },
   "outputs": [],
   "source": [
    "# Test and Train Split\n",
    "X_train, X_test, y_train, y_test = train_test_split(X_tpot, y_tpot, test_size=0.3, random_state=42)"
   ]
  },
  {
   "cell_type": "markdown",
   "metadata": {
    "collapsed": true
   },
   "source": [
    "### 1.5.2 pipeline"
   ]
  },
  {
   "cell_type": "code",
   "execution_count": 10,
   "metadata": {},
   "outputs": [
    {
     "name": "stderr",
     "output_type": "stream",
     "text": [
      "/Users/rishabhjain/anaconda3/lib/python3.6/site-packages/deap/tools/_hypervolume/pyhv.py:33: ImportWarning: Falling back to the python version of hypervolume module. Expect this to be very slow.\n",
      "  \"module. Expect this to be very slow.\", ImportWarning)\n",
      "/Users/rishabhjain/anaconda3/lib/python3.6/importlib/_bootstrap.py:219: ImportWarning: can't resolve package from __spec__ or __package__, falling back on __name__ and __path__\n",
      "  return f(*args, **kwds)\n",
      "/Users/rishabhjain/anaconda3/lib/python3.6/site-packages/sklearn/cross_validation.py:41: DeprecationWarning: This module was deprecated in version 0.18 in favor of the model_selection module into which all the refactored classes and functions are moved. Also note that the interface of the new CV iterators are different from that of this module. This module will be removed in 0.20.\n",
      "  \"This module will be removed in 0.20.\", DeprecationWarning)\n"
     ]
    }
   ],
   "source": [
    "from tpot import TPOTRegressor\n",
    "pipeline_optimizer = TPOTRegressor()"
   ]
  },
  {
   "cell_type": "code",
   "execution_count": 12,
   "metadata": {
    "collapsed": true
   },
   "outputs": [],
   "source": [
    "pipeline_optimizer = TPOTRegressor(generations=10, population_size=20, cv = 3,\n",
    "                                    random_state=42, verbosity=2)"
   ]
  },
  {
   "cell_type": "code",
   "execution_count": 13,
   "metadata": {
    "scrolled": true
   },
   "outputs": [
    {
     "name": "stderr",
     "output_type": "stream",
     "text": [
      "Optimization Progress:  18%|█▊        | 40/220 [04:58<15:25,  5.14s/pipeline] "
     ]
    },
    {
     "name": "stdout",
     "output_type": "stream",
     "text": [
      "Generation 1 - Current best internal CV score: -5462.105355916628\n"
     ]
    },
    {
     "name": "stderr",
     "output_type": "stream",
     "text": [
      "Optimization Progress:  27%|██▋       | 60/220 [16:49<31:25, 11.78s/pipeline]  "
     ]
    },
    {
     "name": "stdout",
     "output_type": "stream",
     "text": [
      "Generation 2 - Current best internal CV score: -5462.105355916628\n"
     ]
    },
    {
     "name": "stderr",
     "output_type": "stream",
     "text": [
      "Optimization Progress:  38%|███▊      | 84/220 [40:09<47:38, 21.02s/pipeline]   "
     ]
    },
    {
     "name": "stdout",
     "output_type": "stream",
     "text": [
      "Generation 3 - Current best internal CV score: -5462.105355916628\n"
     ]
    },
    {
     "name": "stderr",
     "output_type": "stream",
     "text": [
      "Optimization Progress:  47%|████▋     | 104/220 [44:18<24:14, 12.54s/pipeline] "
     ]
    },
    {
     "name": "stdout",
     "output_type": "stream",
     "text": [
      "Generation 4 - Current best internal CV score: -5462.105355916628\n"
     ]
    },
    {
     "name": "stderr",
     "output_type": "stream",
     "text": [
      "Optimization Progress:  56%|█████▋    | 124/220 [49:54<33:31, 20.95s/pipeline]"
     ]
    },
    {
     "name": "stdout",
     "output_type": "stream",
     "text": [
      "Generation 5 - Current best internal CV score: -5462.105355916628\n"
     ]
    },
    {
     "name": "stderr",
     "output_type": "stream",
     "text": [
      "Optimization Progress:  65%|██████▌   | 144/220 [56:14<27:25, 21.65s/pipeline]  "
     ]
    },
    {
     "name": "stdout",
     "output_type": "stream",
     "text": [
      "Generation 6 - Current best internal CV score: -5447.387656797821\n"
     ]
    },
    {
     "name": "stderr",
     "output_type": "stream",
     "text": [
      "Optimization Progress:  75%|███████▍  | 164/220 [1:02:53<18:57, 20.31s/pipeline]"
     ]
    },
    {
     "name": "stdout",
     "output_type": "stream",
     "text": [
      "Generation 7 - Current best internal CV score: -5447.313903685393\n"
     ]
    },
    {
     "name": "stderr",
     "output_type": "stream",
     "text": [
      "Optimization Progress:  84%|████████▎ | 184/220 [1:08:37<12:10, 20.30s/pipeline]"
     ]
    },
    {
     "name": "stdout",
     "output_type": "stream",
     "text": [
      "Generation 8 - Current best internal CV score: -5447.313903685393\n"
     ]
    },
    {
     "name": "stderr",
     "output_type": "stream",
     "text": [
      "Optimization Progress:  93%|█████████▎| 205/220 [1:19:28<19:18, 77.26s/pipeline] "
     ]
    },
    {
     "name": "stdout",
     "output_type": "stream",
     "text": [
      "Generation 9 - Current best internal CV score: -5330.967706336275\n"
     ]
    },
    {
     "name": "stderr",
     "output_type": "stream",
     "text": [
      "                                                                                \r"
     ]
    },
    {
     "name": "stdout",
     "output_type": "stream",
     "text": [
      "Generation 10 - Current best internal CV score: -5330.967706336275\n",
      "\n",
      "Best pipeline: ElasticNetCV(RandomForestRegressor(input_matrix, bootstrap=False, max_features=0.15, min_samples_leaf=1, min_samples_split=2, n_estimators=100), l1_ratio=0.95, tol=0.001)\n"
     ]
    },
    {
     "data": {
      "text/plain": [
       "TPOTRegressor(config_dict={'sklearn.linear_model.ElasticNetCV': {'l1_ratio': array([ 0.  ,  0.05,  0.1 ,  0.15,  0.2 ,  0.25,  0.3 ,  0.35,  0.4 ,\n",
       "        0.45,  0.5 ,  0.55,  0.6 ,  0.65,  0.7 ,  0.75,  0.8 ,  0.85,\n",
       "        0.9 ,  0.95,  1.  ]), 'tol': [1e-05, 0.0001, 0.001, 0.01, 0.1]}, 'sklearn.ensemble.ExtraT....45,\n",
       "        0.5 ,  0.55,  0.6 ,  0.65,  0.7 ,  0.75,  0.8 ,  0.85,  0.9 ,\n",
       "        0.95,  1.  ])}}}},\n",
       "       crossover_rate=0.1, cv=3, disable_update_check=False,\n",
       "       early_stop=None, generations=10, max_eval_time_mins=5,\n",
       "       max_time_mins=None, memory=None, mutation_rate=0.9, n_jobs=1,\n",
       "       offspring_size=20, periodic_checkpoint_folder=None,\n",
       "       population_size=20, random_state=42, scoring=None, subsample=1.0,\n",
       "       verbosity=2, warm_start=False)"
      ]
     },
     "execution_count": 13,
     "metadata": {},
     "output_type": "execute_result"
    }
   ],
   "source": [
    "pipeline_optimizer.fit(X_train,y_train)"
   ]
  },
  {
   "cell_type": "code",
   "execution_count": 14,
   "metadata": {},
   "outputs": [
    {
     "name": "stdout",
     "output_type": "stream",
     "text": [
      "-4178.76640353\n"
     ]
    }
   ],
   "source": [
    "print(pipeline_optimizer.score(X_test, y_test))"
   ]
  }
 ],
 "metadata": {
  "kernelspec": {
   "display_name": "Python 3",
   "language": "python",
   "name": "python3"
  },
  "language_info": {
   "codemirror_mode": {
    "name": "ipython",
    "version": 3
   },
   "file_extension": ".py",
   "mimetype": "text/x-python",
   "name": "python",
   "nbconvert_exporter": "python",
   "pygments_lexer": "ipython3",
   "version": "3.6.4"
  }
 },
 "nbformat": 4,
 "nbformat_minor": 2
}
