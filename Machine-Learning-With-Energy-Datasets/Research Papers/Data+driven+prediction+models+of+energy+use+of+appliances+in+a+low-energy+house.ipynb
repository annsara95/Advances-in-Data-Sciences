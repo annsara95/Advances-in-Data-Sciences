{
 "cells": [
  {
   "cell_type": "markdown",
   "metadata": {},
   "source": [
    "## Data driven prediction models of energy use of appliances in a low-energy house\n",
    "\n",
    "This jupyter notebook is based on the paper: __[Data driven prediction models of energy use of appliances in a low-energy house](https://www.sciencedirect.com/science/article/pii/S0378778816308970?via%3Dihub)__\n",
    "\n",
    "This paper presents and discusses data driven prediction of energy consumption of appliances. It builds using statistical models and does cross validation using different machine learning algorithms namely : \n",
    "\n",
    "- Multiple linear regression\n",
    "- Support vector machine using radical kernel\n",
    "- Random forest\n",
    "- Gradient boosting machines\n",
    "\n",
    "The paper states that the best model <font color=blue>Gradient boosting machines(GBM)</font> has about <font color=blue>97% variance</font> with about <font color=blue>57% data in testing set.</font>\n",
    "It states that using the weather data, atmospheric pressure was considered to have high relevance of all the weather data varaibles in the prediction.\n",
    "Hence, atmospheric pressure is one of the most important variable for energy prediction model and performance variable."
   ]
  },
  {
   "cell_type": "markdown",
   "metadata": {},
   "source": [
    "### 1. INTRODUCTION:\n",
    "***\n",
    "\n",
    "The use of appliances in everyday life results in the electricity consumption to be increase. Hence, it is very important to understand the contribution of appliances to the energy consumption and predict the future needs to determine adequate sizing of\n",
    "photovoltaics and energy storage to diminish power flow into the\n",
    "grid, to detect abnormal energy use patterns, to be part of an energy management system for load control, to model predictive control applications where the loads are needed, for demand side management (DSM) and demand side response\n",
    "(DSR) and as an inputfor building performance simulation analysis.\n",
    "\n",
    "To understand the contribution of the appliances towards energy consumption we need to understand the no. of appliances and its type. Indoor factors like area of the house, no. of occupants and outdoor factors like humidity, temperature, vibrations, light, noise etc. should be considered when we predict the energy consumption be the appliances.\n",
    "\n"
   ]
  },
  {
   "cell_type": "markdown",
   "metadata": {},
   "source": [
    "### BRIEF STUDY\n",
    "***\n",
    "\n",
    "#### 1.1 - Appliances and their load:\n",
    "\n",
    "The different appliances used in a house would be television,PC, laptop, TV, refrigerator, cooking stove,laundry, dishwasher, lights and other small appliances. Of these, refrigerator has a very uniform load profile. However, laptops, cooking stove, dishwasher, lights and other appliances have very user dependent usage and differs from house to house.\n",
    "\n",
    "#### 1.2 - Electricity load prediction:\n",
    "\n",
    "<font color=red>Energy consumption by appliances accounts for about 30% of the total electricity demands from the residential sector.</font> Hence, it is very important to understand the appliances energy consumption and try to reduce the energy demand.Prediction of electricity consumption can be done by the past consumption per hour, day or even month. However, the <font color= red> last 24 hr is presumed to be the most prominent in terms of electricity prediction.</font>\n",
    "\n",
    "Typically studies have used models such as multiple regression,neural networks, forecasting methods, engineering methods,support vector machines, time series techniques and forecasting methods to predict the electricity demand. The models usually have considered parameters such as the time of day, outdoor temperature, month, weekend, holidays, yesterday’s consumption, rainfall index, global solar radiation, wind speed and occupancy.\n",
    "\n",
    "An extensive list of variables was studied in recent study: weather,location (ZIP code), age of building, ownership, presence of double pane windows, energy efficientlight fixtures, floor area, pet ownership,number of refrigerators and entertainment devices, number of occupants and income level. It concluded that the most important variables are weather, location and floor plan.\n",
    "Among the appliances, the most important ones in terms of electricity consumption is the refrigerator and entertainment appliances (TV, video games, airconditioner, heater etc.). It also states that the high usage of appliances results in low appliance efficiency. \n",
    "\n",
    "<font color= blue>How appliances affect energy consumption:</font>\n",
    "\n",
    "- Increased no. of appliances results in more energy consumption\n",
    "- Some appliances like heater, air conditioner contribute significantly while some others like lights, charger etc contribute less\n",
    "\n",
    "- Pattern of energy use by appliance - refrigerator has nearly flat consumption rate while laundry(washer and dryer) has varying energy consumption\n",
    "\n",
    "- Weather parameters like too hot or too cold will affect the use of heaters and air conditioner which affect the energy consumption significantly\n",
    "\n",
    "- For highly insulated buildings, the thermal influence of appliances on internal gains become more important and relevant in building energy performance\n"
   ]
  },
  {
   "cell_type": "markdown",
   "metadata": {},
   "source": [
    "This paper emphasizes on the relationship between energy consumption by appliances and the different factors that affect it. It focuses on using different machine learning models (linear regression, random forest, support vector machine, GBM) to understand the prediction and best model is the one which has good performance to predict energy consumption."
   ]
  },
  {
   "cell_type": "markdown",
   "metadata": {},
   "source": [
    "### 2. House Description:\n",
    "***\n",
    "\n",
    "House is located in Stambruges about 24 km from the City of Mons in Belgium. The construction of the house was done by December 2015. The building is designed for an annual heating load of not more than 15 kWh/m2 per year according to the Passive House Planning Package (PHPP) software design tool. There is wooden chimney in the house which acts as the heating load in the house.\n",
    "The air leakage is about 0.6 air changes per hour at 50 Pa as measured in September 2016. Triple glazed windows are used with \n",
    "Ug = 0.5W/m2 K and Uf < 0.9W/m2 K.The total floor area is 280 m2 and the total heated area is 220 m2.The facade of the house is\n",
    "oriented +10◦ (Southwest) from due South. There are usually 4 occupants in the house: 2 adults and 2 teenager."
   ]
  },
  {
   "cell_type": "markdown",
   "metadata": {},
   "source": [
    "### 2.1- Energy metric and ZigBee nodes:\n",
    "\n",
    "The electricity consumption is measured using energy metrics and ZigBee nodes.The electric metering is measured using M-BUS energy counters. The data is recorded in evrey 10 mins and is collected by internet connected monitoring system and mailed in every 12 hr. From the data we can understand that the maximum energy consumption is by appliances and it accounts for about 70-79%. The house temperature and humidity conditions were monitored\n",
    "with a ZigBee wireless sensor network. There are two XBee radio which acts as a router for effective communication since the house is too large. The study found that the appliances and lights consume between 5.7 and 6.7 more than the DHW energy use."
   ]
  },
  {
   "cell_type": "markdown",
   "metadata": {},
   "source": [
    "### 3. Recorded data and description:\n",
    "***\n",
    "\n",
    "The data is recorded in every 10 mins by its date and time. The total time period of dataset is 137 day which is baout 4.5 months.The median of data is found at 60 Wh adn the upper whisker is about 170 Wh.This shows that the data above the median\n",
    "is more dispersed and that there are several outliers in the data.\n",
    "Weather information is collected by nearby airport- Chièvres Airport, Belgium which is about 12 km away. Linear interpolation is used to fill in the gaps of weather data collected.\n",
    "From the date time variable, NSM (No. of seconds from midnight for each day) and week status is calculated .\n"
   ]
  },
  {
   "cell_type": "markdown",
   "metadata": {},
   "source": [
    "### 3.1 - Data set and Exploratory data analysis:\n",
    "\n",
    "The dataset is made up of energy consumption details per 10 mins period. The dataset is split into training and testing dataset by 75%. Exploratory data analysis is performed to get valuable insights form the data. Many plots are plotted to understand the relationship between all variables with respect to energy consumption by appliances.\n",
    "A bi-variate scatter plot is used to understand correlation between different variables. Highest correlation is obtained between appliances and lights(0.19) followed by appliances and T2(0.12).High correlation between indoor temperature (T1 and T3) is found i.e about 0.89.Most of the correlation between temperature variables like T1,T3,T5,T7,T9 are seen to be positive. Negative correlation w.r.t appliances is found by T_out(-0.15) and pressure(-0.03).Heatmao is also used to show hourly consumption over a period of four consecutive weeks."
   ]
  },
  {
   "cell_type": "markdown",
   "metadata": {},
   "source": [
    "### 3.2 - Data feature filtering and importance:\n",
    "\n",
    "#### Boruta package:\n",
    "\n",
    "The dataset contains about 30 variables out of which only few are of high importance. Hence we have to do feature selection in order to apply it to our machine learning models.variable selection helps in model interpretability and reduces complexity of the model.Bortua is a good package available in R which is used specifically for feature selection.In order to test Boruta alogrithm, two random variables (rv1 and rv2) were introduced.The Boruta package compares importance of attributes with importance of shadow attributes that are created by shuffling original ones. The Boruta algorithm is capable to detect the two random variables and were shown to be between Boruta created shdow attributes of shadow min, shadow max and shadow median.The Boruta package detects NSM to be the most important while Week status to be the least important."
   ]
  },
  {
   "cell_type": "markdown",
   "metadata": {},
   "source": [
    "#### Recursive feature elimination:\n",
    "We also use RFE(Recursive feature elimination) for selecting variables on the basis of RMSE values.We use Classification and Regression Training package(CARET) which has a RFE algorithm to select features. In order to use this algorithm we have to create dummy variables for NSM and Week Status features using r dummies package. RFE uses Random forest regressor and has 10 cross validation sets.\n",
    "Hence, the aim of any regression model(Linear, SVM, Random forest, GBM) is to minimize the RMSE value."
   ]
  },
  {
   "cell_type": "markdown",
   "metadata": {},
   "source": [
    "### 3.3 - Regressor Models:\n",
    "\n",
    "There are 4 regressor models which will be used in this paper:\n",
    "- Linear\n",
    "- SVM\n",
    "- Random Forest\n",
    "- GBM\n",
    "\n",
    "All of these regressor models have to be trained with 10 K-fold cross validation in order to  get best results.DoParallel package is used for parallel computation.\n",
    "\n",
    "#### Performance metrics:\n",
    "In order to understand different regression models, different performance metrics are used:\n",
    " - RMSE ( Root mean square error)\n",
    " - R2 ( R squared / coefficient of determination)\n",
    " - MAE (Mean absolute error)\n",
    " - MAPE ( Mean absolute percentage error)\n",
    " "
   ]
  },
  {
   "cell_type": "markdown",
   "metadata": {},
   "source": [
    "#### Mulitple linear regressor:\n",
    "\n",
    "A multiple linear regression model uses all the variables in order to predict the energy consumption.A residual plot is plotted for linear regressor model in order to understand relation between the appliance energy consumption real values and predicted values.The graph shows it is not normally distribution.\n",
    "\n",
    "#### Support Vector Machine (SVM):\n",
    "\n",
    "SVM with radial-kernel is used for prediction of energy consumption.It has two tuning parameters - sigma and cost variables, besides the predictors. The optimal values for sigma is 0.4 and the cost (12) variables were obtained with a grid search.\n",
    "\n",
    "#### Random forest Regressor(RF):\n",
    "\n",
    "It is a tree based model which is based on output from multiple regression trees. The trees are build with random samples of selected predictors. Hence, the random forest model is build by the decorrelation of trees and improve the prediction. The optimal number of random selected predictors is 18.\n",
    "\n",
    "#### GBM:\n",
    "\n",
    "The GBM models try to improve the prediction by using information from the first trees and also require the selection of\n",
    "optimal parameters for the number of trees (10,900) and maximum tree depth (5)."
   ]
  },
  {
   "cell_type": "markdown",
   "metadata": {},
   "source": [
    "### 3.4 - Model Selection:\n",
    "\n",
    "<font color=red>The best models are the ones that provide the lower RMSE and highest R2 values.</font>\n",
    "From the results that we get, we see that the RF and GBM models have very similar performance based on their RMSE and R-squared values and confidence intervals. The SVM radial model also shows a significant reduction of the RMSE compared to the linear regression model."
   ]
  },
  {
   "cell_type": "markdown",
   "metadata": {},
   "source": [
    "### 3.4.1. Evaluating the prediction with different data subsets:\n",
    "\n",
    "<font color=blue>The GBM model provides the best RMSE and R2.</font> The model was build with different prediction performance and predictor subsets of variables - no light, no weather data, removing temperature and humidity from the wireless sensor network and only use weather and time information. The performance of the GBM model without the light predictors is quite accurate. Testing data accuracy for R2 is about 0.58 for this model. The model with R2 0.58 is without lights and weather data while with weather data and light data it is as much as it is with only weather data i.e. about 0.49."
   ]
  },
  {
   "cell_type": "markdown",
   "metadata": {},
   "source": [
    "### 3.5 - Discussion of results:\n",
    "\n",
    "We know that <font color=blue>appliances consumes most of the energy consumption i.e. about 70-79%.</font> The appliance profile is highly variating with about most of the consumption to be constant with some high sparks.After doing exploratory data analysis, we found that <font color=red>high correlations exist between:T1 and T2 (0.84), T2 andT3 (0.74), T4 and T5 (0.87), T5 and T6 (0.63), T7 and T8 (0.88), and T8 with T9 (0.86). </font>\n",
    "\n",
    "The humudity varies with no. of occupants in the room. Hence, higher humidity indicates high occupancy.\n",
    "- RH1( kitchen area) has high correlation with appliances (0.06) because of humidity\n",
    "- RH2 (living room) has negative correlation of -0.06 with appliances energy consumption\n",
    "- RH3(laundry room) has correlation with appliances (0.04)\n",
    "- RH4 (downstairs office) and RH5 (upstairs bathroom) have small positive correlation of 0.02 and 0.01 respectively\n",
    "- RH7(−0.06)\n",
    "- RH8 (-0.09)\n",
    "- RH9 (−0.05)\n",
    "\n",
    "The rooms have lower energy consumption because of less human activity most of the day.\n",
    "- Atmospheric Pressure(-0.03)\n",
    "- Atmospheric pressure and wind speed has negative correlation(-0.23)\n",
    "\n",
    "Fair weather usually corresponds with high atmospheric pressure and pressure drop trends or low pressure may correspond to foul or rainy weather.\n",
    "\n",
    "The data filtering is relevant because it helps to reduce no.of features and predictors based on accuracy. The Boruta algorithm was able to pick up the inserted two random variables in the data set. This shows that it is efficient to find important features and select it.\n",
    "\n",
    "<font color=blue>According to RFE algorithm, there are 6 most important parameters: : NSM, lights, pressure, RH5, T3 and RH3.</font>\n",
    "\n",
    "Coming to model selection,the best models are the RF and GBM according to the RMSE and R2.\n",
    "All the three models predicted NSM to be the most important feature.\n",
    "The second most important feature was lights according to RF and SVM while according to GBM it is atmospheric pressure.\n",
    "Also,the wireless data is highly correlated with the other predictors, it is better to study this data subset separately to have a better appreciation for the different ranks.\n",
    "\n",
    "According to GBM, thetop predictors are NSM, Pressure, RH1, RH2, RH3, RH5, T6, RH6, RH4, RH9, T8, T4 and T2.\n",
    "Hence, we conclude that information from the kitchen, living room, laundry room, bathroom, outdoors, office, and bedrooms are the most important.\n"
   ]
  },
  {
   "cell_type": "markdown",
   "metadata": {},
   "source": [
    "### 3.6 - Research limitations:\n",
    "\n",
    "Some of the limitations are:  only one house was studied. Multiple houses from neighbourhood had to be studied to understand consumption better.\n",
    "Other factors like no. of occupants,occupants age, building's geometry etc. should have been taken into consideration.\n",
    "The time period for reading is very short(4.5 months). It hsould have been for a longer time.\n",
    "The weather data from airport was not that relevant. If it would have been closer, it would have been more significant contribution.\n",
    "Optimal location of wireless indoor sensors and more sensors, better sensor accurancy can significantly help to improve the energy prediction."
   ]
  },
  {
   "cell_type": "markdown",
   "metadata": {},
   "source": [
    "### 4. CONCLUSION:\n",
    "\n",
    "Statistical analysis includes exploratory data analysis as well as predictive modelling. For exploratory analysis, <font color=blue>pairwise plots play an important role to understand the relationship between variables and appliances energy consumption through correlation.</font> The GBM and RF models improve the RSME and R2 of predictions compared to the SVM-radial and multiple linear regression lm.For all the models, the <font color=blue>time information (NSM) was ranked as the most important to predict the appliances’ consumption.</font>\n",
    "For weather related variables, pressure was ranked the most followed by outdoor temperature, dew point temperature, outdoor relative humidity, wind speed and visibility.\n",
    "Data from a wireless sensor network that measures humidity and temperature has helped to increase the prediction accuracy.\n",
    "Data analysis shows that the appliances from laundry, kitchen and living rooms have high energy consumption that any other rooms.This shows that wireless network usage was very helpful to understand the energy consumption location better."
   ]
  },
  {
   "cell_type": "markdown",
   "metadata": {},
   "source": [
    "### SCOPE FOR THE FUTURE:\n",
    "\n",
    "This study helps in understanding relationships better among the variables. Further improvement can be done by incorporating solar radiation and precipitation, occupants information which can be predicted throw amount of CO2 and noise factor through wireless networks."
   ]
  }
 ],
 "metadata": {
  "kernelspec": {
   "display_name": "Python 3",
   "language": "python",
   "name": "python3"
  },
  "language_info": {
   "codemirror_mode": {
    "name": "ipython",
    "version": 3
   },
   "file_extension": ".py",
   "mimetype": "text/x-python",
   "name": "python",
   "nbconvert_exporter": "python",
   "pygments_lexer": "ipython3",
   "version": "3.6.3"
  }
 },
 "nbformat": 4,
 "nbformat_minor": 2
}
