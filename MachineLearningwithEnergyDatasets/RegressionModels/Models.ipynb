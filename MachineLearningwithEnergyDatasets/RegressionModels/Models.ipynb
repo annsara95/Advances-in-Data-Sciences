{
 "cells": [
  {
   "cell_type": "code",
   "execution_count": 1,
   "metadata": {
    "collapsed": true
   },
   "outputs": [],
   "source": [
    "%matplotlib inline\n",
    "%config InlineBackend.figure_format='retina'\n",
    "import matplotlib.pyplot as plt\n",
    "import pandas as pd\n",
    "import numpy as np\n",
    "import seaborn as sns\n",
    "from datetime import date\n",
    "import calendar\n",
    "from sklearn.metrics import r2_score\n",
    "from sklearn.metrics import mean_squared_error,mean_absolute_error\n",
    "from sklearn.model_selection import train_test_split\n",
    "import operator"
   ]
  },
  {
   "cell_type": "code",
   "execution_count": 2,
   "metadata": {
    "collapsed": true
   },
   "outputs": [],
   "source": [
    "df=pd.read_csv('../Data/energydata_complete.csv',index_col='date',header=0)\n",
    "df['datetime'] = df.index\n",
    "df['datetime'] = pd.to_datetime(df['datetime'])\n",
    "df['day_of_week']=df['datetime'].dt.strftime('%w').astype('int64')\n",
    "df['month']=df['datetime'].dt.strftime('%m').astype('int64')\n",
    "df['hour']=df['datetime'].dt.hour\n",
    "df['day_number']=df['datetime'].dt.day\n",
    "df['Week_no'] = df['datetime'].dt.strftime('%W').astype('int64')\n",
    "df['min'] = df['datetime'].dt.minute\n",
    "df['day_of_week']=df['day_of_week'].apply(str)\n",
    "df['hour']=df['hour'].apply(str)\n",
    "df['min']=df['min'].apply(str)\n",
    "df['period']=df[['day_of_week','hour','min']].apply(lambda x:''.join(x),axis=1)\n"
   ]
  },
  {
   "cell_type": "code",
   "execution_count": 3,
   "metadata": {
    "collapsed": true
   },
   "outputs": [],
   "source": [
    "phase = df.groupby(['date','month','day_of_week','hour','day_number','min','datetime','period']).mean()\n",
    "phase[\"Total\"]=phase[\"Appliances\"] + phase[\"lights\"]\n",
    "phase = phase.reset_index()\n",
    "phase.set_index('date', inplace=True)\n",
    "phase['datetime'] = df.index\n",
    "phase['datetime'] = pd.to_datetime(phase['datetime'])\n",
    "phase['day_of_week']=phase['day_of_week'].apply(int)\n",
    "phase['hour']=phase['hour'].apply(int)\n",
    "phase['min']=phase['min'].apply(int)\n",
    "phase['period']=phase['period'].apply(int)\n",
    "phase['Press_mm_hg'] = np.log(phase['Press_mm_hg'])\n",
    "phase['Visibility'] = np.log(phase['Visibility'])"
   ]
  },
  {
   "cell_type": "code",
   "execution_count": 4,
   "metadata": {
    "collapsed": true
   },
   "outputs": [],
   "source": [
    "phase1 = phase\n",
    "phase1.drop(['datetime','Total','rv1','rv2'],axis=1,inplace=True)\n",
    "y = phase1[\"Appliances\"]\n",
    "X=phase1.drop(\"Appliances\",axis=1)"
   ]
  },
  {
   "cell_type": "markdown",
   "metadata": {},
   "source": [
    "# 1.1 Features Selected Using EDA"
   ]
  },
  {
   "cell_type": "markdown",
   "metadata": {},
   "source": [
    "## 1.1.1 RMSE,MAPE,R2,MAE calculation"
   ]
  },
  {
   "cell_type": "code",
   "execution_count": 5,
   "metadata": {
    "collapsed": true
   },
   "outputs": [],
   "source": [
    "rmse_dict = {}    \n",
    "def rmse(correct,estimated):\n",
    "    rmse_val = np.sqrt(mean_squared_error(correct,estimated)) \n",
    "    return rmse_val\n",
    "\n",
    "def calc_error_metric(name,modelname, model, X_train, y_train, X_test, y_test):\n",
    "    \n",
    "    y_train_predicted = model.predict(X_train)\n",
    "    y_test_predicted = model.predict(X_test)\n",
    "        \n",
    "    #MAE, RMS, MAPE, R2\n",
    "    \n",
    "    r2_train = r2_score(y_train, y_train_predicted)\n",
    "    r2_test = r2_score(y_test, y_test_predicted)\n",
    "    \n",
    "    rms_train = rmse(y_train, y_train_predicted)\n",
    "    rms_test = rmse(y_test, y_test_predicted)\n",
    "        \n",
    "    mae_train = mean_absolute_error(y_train, y_train_predicted)\n",
    "    mae_test = mean_absolute_error(y_test, y_test_predicted)\n",
    "        \n",
    "    mape_train = np.mean(np.abs((y_train - y_train_predicted) / y_train)) * 100\n",
    "    mape_test = np.mean(np.abs((y_test - y_test_predicted) / y_test)) * 100\n",
    "    \n",
    "    rmse_dict[modelname] = rms_test\n",
    "        \n",
    "    df_local = pd.DataFrame({'Model':[name],\n",
    "                            'ModelType':[modelname],\n",
    "                            'r2_train': [r2_train],\n",
    "                            'r2_test': [r2_test],\n",
    "                            'rms_train':[rms_train], \n",
    "                            'rms_test': [rms_test],\n",
    "                            'mae_train': [mae_train],\n",
    "                            'mae_test': [mae_test],\n",
    "                            'mape_train':[mape_train],\n",
    "                            'mape_test':[mape_test]})\n",
    "\n",
    "    error_metric = pd.concat([df_local])\n",
    " \n",
    "    return error_metric"
   ]
  },
  {
   "cell_type": "markdown",
   "metadata": {},
   "source": [
    "## 1.1.2 RandomForest,LinearRegression,NeuralNetwork "
   ]
  },
  {
   "cell_type": "code",
   "execution_count": 6,
   "metadata": {
    "collapsed": true
   },
   "outputs": [],
   "source": [
    "from sklearn import linear_model\n",
    "from sklearn.ensemble import RandomForestRegressor\n",
    "from sklearn.neural_network import MLPRegressor\n",
    "\n",
    "metric = pd.DataFrame({'Model':[],\n",
    "                            'ModelType':[],\n",
    "                            'r2_train': [],\n",
    "                            'r2_test': [],\n",
    "                            'rms_train':[], \n",
    "                            'rms_test': [],\n",
    "                            'mae_train': [],\n",
    "                            'mae_test': [],\n",
    "                            'mape_train':[],\n",
    "                            'mape_test':[]})\n",
    "\n",
    "\n",
    "def models(name,X_train, y_train, X_test, y_test):\n",
    "    global metric\n",
    "    n = name\n",
    "\n",
    "    # Linear Regression\n",
    "    lm = linear_model.LinearRegression()\n",
    "    modellinear = lm.fit(X_train,y_train)\n",
    "    linear = calc_error_metric(n ,modellinear,lm, X_train, y_train, X_test, y_test)\n",
    "    print(\"LINEAR\")\n",
    "    print(linear)\n",
    "    \n",
    "    # Random Forest\n",
    "    rf = RandomForestRegressor(n_estimators =500, random_state = 1)\n",
    "    modelrandomforest = rf.fit(X_train,y_train)\n",
    "    randomforest = calc_error_metric(name,modelrandomforest,rf, X_train, y_train, X_test, y_test)\n",
    "\n",
    "    # Neural Network\n",
    "    nn = MLPRegressor(activation='relu',learning_rate='adaptive',alpha=0.55)\n",
    "    modelneuralnetwork = nn.fit(X_train, y_train)\n",
    "    neuralnetwork = calc_error_metric(name,modelneuralnetwork, nn, X_train, y_train, X_test, y_test)\n",
    "    \n",
    "    \n",
    "    metric = pd.concat([metric,linear,randomforest,neuralnetwork])\n",
    "    return metric"
   ]
  },
  {
   "cell_type": "markdown",
   "metadata": {},
   "source": [
    "## 1.1.3 Training Testing split"
   ]
  },
  {
   "cell_type": "markdown",
   "metadata": {},
   "source": [
    "#### 1.1.3.1  Selected Features from Exploratory Data Analysis"
   ]
  },
  {
   "cell_type": "code",
   "execution_count": 8,
   "metadata": {
    "collapsed": true
   },
   "outputs": [],
   "source": [
    "X = phase[['lights','hour','T1','RH_1','RH_5','RH_6','RH_8','T_out','Windspeed','Visibility','Tdewpoint']]\n",
    "y = phase['Appliances']"
   ]
  },
  {
   "cell_type": "code",
   "execution_count": 9,
   "metadata": {
    "collapsed": true
   },
   "outputs": [],
   "source": [
    "# Test and Train Split\n",
    "X_train, X_test, y_train, y_test = train_test_split(X, y, test_size=0.30, random_state=42)"
   ]
  },
  {
   "cell_type": "code",
   "execution_count": 9,
   "metadata": {},
   "outputs": [
    {
     "name": "stdout",
     "output_type": "stream",
     "text": [
      "LINEAR\n",
      "  Model                                          ModelType   mae_test  \\\n",
      "0   EDA  LinearRegression(copy_X=True, fit_intercept=Tr...  54.738137   \n",
      "\n",
      "   mae_train  mape_test  mape_train   r2_test  r2_train   rms_test  rms_train  \n",
      "0  54.655463  64.403084   62.843287  0.108627  0.109353  95.830482   97.16432  \n"
     ]
    }
   ],
   "source": [
    "teston = models('EDA',X_train, y_train, X_test, y_test)"
   ]
  },
  {
   "cell_type": "code",
   "execution_count": 10,
   "metadata": {},
   "outputs": [
    {
     "data": {
      "text/html": [
       "<div>\n",
       "<style scoped>\n",
       "    .dataframe tbody tr th:only-of-type {\n",
       "        vertical-align: middle;\n",
       "    }\n",
       "\n",
       "    .dataframe tbody tr th {\n",
       "        vertical-align: top;\n",
       "    }\n",
       "\n",
       "    .dataframe thead th {\n",
       "        text-align: right;\n",
       "    }\n",
       "</style>\n",
       "<table border=\"1\" class=\"dataframe\">\n",
       "  <thead>\n",
       "    <tr style=\"text-align: right;\">\n",
       "      <th></th>\n",
       "      <th>Model</th>\n",
       "      <th>ModelType</th>\n",
       "      <th>mae_test</th>\n",
       "      <th>mae_train</th>\n",
       "      <th>mape_test</th>\n",
       "      <th>mape_train</th>\n",
       "      <th>r2_test</th>\n",
       "      <th>r2_train</th>\n",
       "      <th>rms_test</th>\n",
       "      <th>rms_train</th>\n",
       "    </tr>\n",
       "  </thead>\n",
       "  <tbody>\n",
       "    <tr>\n",
       "      <th>0</th>\n",
       "      <td>EDA</td>\n",
       "      <td>LinearRegression(copy_X=True, fit_intercept=Tr...</td>\n",
       "      <td>54.738137</td>\n",
       "      <td>54.655463</td>\n",
       "      <td>64.403084</td>\n",
       "      <td>62.843287</td>\n",
       "      <td>0.108627</td>\n",
       "      <td>0.109353</td>\n",
       "      <td>95.830482</td>\n",
       "      <td>97.164320</td>\n",
       "    </tr>\n",
       "    <tr>\n",
       "      <th>0</th>\n",
       "      <td>EDA</td>\n",
       "      <td>(DecisionTreeRegressor(criterion='mse', max_de...</td>\n",
       "      <td>33.896720</td>\n",
       "      <td>12.718226</td>\n",
       "      <td>34.569303</td>\n",
       "      <td>12.628072</td>\n",
       "      <td>0.529036</td>\n",
       "      <td>0.933345</td>\n",
       "      <td>69.657464</td>\n",
       "      <td>26.580979</td>\n",
       "    </tr>\n",
       "    <tr>\n",
       "      <th>0</th>\n",
       "      <td>EDA</td>\n",
       "      <td>MLPRegressor(activation='relu', alpha=0.55, ba...</td>\n",
       "      <td>52.358385</td>\n",
       "      <td>52.000473</td>\n",
       "      <td>59.838727</td>\n",
       "      <td>57.854782</td>\n",
       "      <td>0.170511</td>\n",
       "      <td>0.175338</td>\n",
       "      <td>92.444114</td>\n",
       "      <td>93.495818</td>\n",
       "    </tr>\n",
       "  </tbody>\n",
       "</table>\n",
       "</div>"
      ],
      "text/plain": [
       "  Model                                          ModelType   mae_test  \\\n",
       "0   EDA  LinearRegression(copy_X=True, fit_intercept=Tr...  54.738137   \n",
       "0   EDA  (DecisionTreeRegressor(criterion='mse', max_de...  33.896720   \n",
       "0   EDA  MLPRegressor(activation='relu', alpha=0.55, ba...  52.358385   \n",
       "\n",
       "   mae_train  mape_test  mape_train   r2_test  r2_train   rms_test  rms_train  \n",
       "0  54.655463  64.403084   62.843287  0.108627  0.109353  95.830482  97.164320  \n",
       "0  12.718226  34.569303   12.628072  0.529036  0.933345  69.657464  26.580979  \n",
       "0  52.000473  59.838727   57.854782  0.170511  0.175338  92.444114  93.495818  "
      ]
     },
     "execution_count": 10,
     "metadata": {},
     "output_type": "execute_result"
    }
   ],
   "source": [
    "teston"
   ]
  },
  {
   "cell_type": "markdown",
   "metadata": {},
   "source": [
    "#### 1.1.3.2 Selecting Features After Scaling"
   ]
  },
  {
   "cell_type": "code",
   "execution_count": 10,
   "metadata": {},
   "outputs": [],
   "source": [
    "from sklearn.preprocessing import StandardScaler\n",
    "scaler = StandardScaler()\n",
    "# Fit only to the training data\n",
    "scaler.fit(X_train)\n",
    "# Now apply the transformations to the data:\n",
    "X_train = scaler.transform(X_train)\n",
    "X_test = scaler.transform(X_test)"
   ]
  },
  {
   "cell_type": "code",
   "execution_count": 11,
   "metadata": {},
   "outputs": [
    {
     "name": "stdout",
     "output_type": "stream",
     "text": [
      "LINEAR\n",
      "           Model                                          ModelType  \\\n",
      "0  After Scaling  LinearRegression(copy_X=True, fit_intercept=Tr...   \n",
      "\n",
      "    mae_test  mae_train  mape_test  mape_train   r2_test  r2_train   rms_test  \\\n",
      "0  54.738137  54.655463  64.403084   62.843287  0.108627  0.109353  95.830482   \n",
      "\n",
      "   rms_train  \n",
      "0   97.16432  \n"
     ]
    },
    {
     "name": "stderr",
     "output_type": "stream",
     "text": [
      "/Users/rishabhjain/anaconda3/lib/python3.6/site-packages/sklearn/neural_network/multilayer_perceptron.py:564: ConvergenceWarning: Stochastic Optimizer: Maximum iterations (200) reached and the optimization hasn't converged yet.\n",
      "  % self.max_iter, ConvergenceWarning)\n"
     ]
    }
   ],
   "source": [
    "teston = models('After Scaling',X_train, y_train, X_test, y_test)"
   ]
  },
  {
   "cell_type": "code",
   "execution_count": 12,
   "metadata": {},
   "outputs": [
    {
     "data": {
      "text/html": [
       "<div>\n",
       "<style scoped>\n",
       "    .dataframe tbody tr th:only-of-type {\n",
       "        vertical-align: middle;\n",
       "    }\n",
       "\n",
       "    .dataframe tbody tr th {\n",
       "        vertical-align: top;\n",
       "    }\n",
       "\n",
       "    .dataframe thead th {\n",
       "        text-align: right;\n",
       "    }\n",
       "</style>\n",
       "<table border=\"1\" class=\"dataframe\">\n",
       "  <thead>\n",
       "    <tr style=\"text-align: right;\">\n",
       "      <th></th>\n",
       "      <th>Model</th>\n",
       "      <th>ModelType</th>\n",
       "      <th>mae_test</th>\n",
       "      <th>mae_train</th>\n",
       "      <th>mape_test</th>\n",
       "      <th>mape_train</th>\n",
       "      <th>r2_test</th>\n",
       "      <th>r2_train</th>\n",
       "      <th>rms_test</th>\n",
       "      <th>rms_train</th>\n",
       "    </tr>\n",
       "  </thead>\n",
       "  <tbody>\n",
       "    <tr>\n",
       "      <th>0</th>\n",
       "      <td>After Scaling</td>\n",
       "      <td>LinearRegression(copy_X=True, fit_intercept=Tr...</td>\n",
       "      <td>54.738137</td>\n",
       "      <td>54.655463</td>\n",
       "      <td>64.403084</td>\n",
       "      <td>62.843287</td>\n",
       "      <td>0.108627</td>\n",
       "      <td>0.109353</td>\n",
       "      <td>95.830482</td>\n",
       "      <td>97.164320</td>\n",
       "    </tr>\n",
       "    <tr>\n",
       "      <th>0</th>\n",
       "      <td>After Scaling</td>\n",
       "      <td>(DecisionTreeRegressor(criterion='mse', max_de...</td>\n",
       "      <td>33.912640</td>\n",
       "      <td>12.717627</td>\n",
       "      <td>34.588777</td>\n",
       "      <td>12.635847</td>\n",
       "      <td>0.528682</td>\n",
       "      <td>0.933351</td>\n",
       "      <td>69.683667</td>\n",
       "      <td>26.579837</td>\n",
       "    </tr>\n",
       "    <tr>\n",
       "      <th>0</th>\n",
       "      <td>After Scaling</td>\n",
       "      <td>MLPRegressor(activation='relu', alpha=0.55, ba...</td>\n",
       "      <td>51.975635</td>\n",
       "      <td>51.233277</td>\n",
       "      <td>59.803273</td>\n",
       "      <td>57.245475</td>\n",
       "      <td>0.188296</td>\n",
       "      <td>0.205471</td>\n",
       "      <td>91.447702</td>\n",
       "      <td>91.771756</td>\n",
       "    </tr>\n",
       "  </tbody>\n",
       "</table>\n",
       "</div>"
      ],
      "text/plain": [
       "           Model                                          ModelType  \\\n",
       "0  After Scaling  LinearRegression(copy_X=True, fit_intercept=Tr...   \n",
       "0  After Scaling  (DecisionTreeRegressor(criterion='mse', max_de...   \n",
       "0  After Scaling  MLPRegressor(activation='relu', alpha=0.55, ba...   \n",
       "\n",
       "    mae_test  mae_train  mape_test  mape_train   r2_test  r2_train   rms_test  \\\n",
       "0  54.738137  54.655463  64.403084   62.843287  0.108627  0.109353  95.830482   \n",
       "0  33.912640  12.717627  34.588777   12.635847  0.528682  0.933351  69.683667   \n",
       "0  51.975635  51.233277  59.803273   57.245475  0.188296  0.205471  91.447702   \n",
       "\n",
       "   rms_train  \n",
       "0  97.164320  \n",
       "0  26.579837  \n",
       "0  91.771756  "
      ]
     },
     "execution_count": 12,
     "metadata": {},
     "output_type": "execute_result"
    }
   ],
   "source": [
    "teston"
   ]
  },
  {
   "cell_type": "markdown",
   "metadata": {},
   "source": [
    "## 1.1.4 Best Model"
   ]
  },
  {
   "cell_type": "code",
   "execution_count": 14,
   "metadata": {},
   "outputs": [
    {
     "name": "stdout",
     "output_type": "stream",
     "text": [
      "Best Model is  RandomForestRegressor(bootstrap=True, criterion='mse', max_depth=None,\n",
      "           max_features='auto', max_leaf_nodes=None,\n",
      "           min_impurity_decrease=0.0, min_impurity_split=None,\n",
      "           min_samples_leaf=1, min_samples_split=2,\n",
      "           min_weight_fraction_leaf=0.0, n_estimators=500, n_jobs=1,\n",
      "           oob_score=False, random_state=1, verbose=0, warm_start=False)\n"
     ]
    }
   ],
   "source": [
    "best_model =  min(rmse_dict.items(),key=operator.itemgetter(1))[0]\n",
    "print('Best Model is ', best_model)"
   ]
  },
  {
   "cell_type": "code",
   "execution_count": null,
   "metadata": {
    "collapsed": true
   },
   "outputs": [],
   "source": []
  },
  {
   "cell_type": "markdown",
   "metadata": {},
   "source": [
    "# Feature Selection"
   ]
  },
  {
   "cell_type": "markdown",
   "metadata": {},
   "source": [
    "# 1.2 Using Boruto Python Package"
   ]
  },
  {
   "cell_type": "code",
   "execution_count": 7,
   "metadata": {
    "collapsed": true
   },
   "outputs": [],
   "source": [
    "X_boruta = phase1\n",
    "X_boruta = X_boruta.drop(['Appliances'],axis=1)\n",
    "X_boruta = X_boruta.values"
   ]
  },
  {
   "cell_type": "code",
   "execution_count": 8,
   "metadata": {
    "collapsed": true
   },
   "outputs": [],
   "source": [
    "y_boruta = phase1\n",
    "y_boruta = y_boruta['Appliances']\n",
    "y_boruta = y.values"
   ]
  },
  {
   "cell_type": "code",
   "execution_count": null,
   "metadata": {},
   "outputs": [
    {
     "name": "stdout",
     "output_type": "stream",
     "text": [
      "Iteration: \t1 / 100\n",
      "Confirmed: \t0\n",
      "Tentative: \t32\n",
      "Rejected: \t0\n",
      "Iteration: \t2 / 100\n",
      "Confirmed: \t0\n",
      "Tentative: \t32\n",
      "Rejected: \t0\n",
      "Iteration: \t3 / 100\n",
      "Confirmed: \t0\n",
      "Tentative: \t32\n",
      "Rejected: \t0\n",
      "Iteration: \t4 / 100\n",
      "Confirmed: \t0\n",
      "Tentative: \t32\n",
      "Rejected: \t0\n",
      "Iteration: \t5 / 100\n",
      "Confirmed: \t0\n",
      "Tentative: \t32\n",
      "Rejected: \t0\n",
      "Iteration: \t6 / 100\n",
      "Confirmed: \t0\n",
      "Tentative: \t32\n",
      "Rejected: \t0\n",
      "Iteration: \t7 / 100\n",
      "Confirmed: \t0\n",
      "Tentative: \t32\n",
      "Rejected: \t0\n",
      "Iteration: \t8 / 100\n",
      "Confirmed: \t11\n",
      "Tentative: \t10\n",
      "Rejected: \t11\n"
     ]
    },
    {
     "name": "stderr",
     "output_type": "stream",
     "text": [
      "/Users/rishabhjain/anaconda3/lib/python3.6/site-packages/boruta/boruta_py.py:418: RuntimeWarning: invalid value encountered in greater\n",
      "  hits = np.where(cur_imp[0] > imp_sha_max)[0]\n"
     ]
    },
    {
     "name": "stdout",
     "output_type": "stream",
     "text": [
      "Iteration: \t9 / 100\n",
      "Confirmed: \t11\n",
      "Tentative: \t10\n",
      "Rejected: \t11\n"
     ]
    },
    {
     "name": "stderr",
     "output_type": "stream",
     "text": [
      "/Users/rishabhjain/anaconda3/lib/python3.6/site-packages/boruta/boruta_py.py:418: RuntimeWarning: invalid value encountered in greater\n",
      "  hits = np.where(cur_imp[0] > imp_sha_max)[0]\n"
     ]
    },
    {
     "name": "stdout",
     "output_type": "stream",
     "text": [
      "Iteration: \t10 / 100\n",
      "Confirmed: \t11\n",
      "Tentative: \t10\n",
      "Rejected: \t11\n"
     ]
    },
    {
     "name": "stderr",
     "output_type": "stream",
     "text": [
      "/Users/rishabhjain/anaconda3/lib/python3.6/site-packages/boruta/boruta_py.py:418: RuntimeWarning: invalid value encountered in greater\n",
      "  hits = np.where(cur_imp[0] > imp_sha_max)[0]\n"
     ]
    },
    {
     "name": "stdout",
     "output_type": "stream",
     "text": [
      "Iteration: \t11 / 100\n",
      "Confirmed: \t11\n",
      "Tentative: \t10\n",
      "Rejected: \t11\n"
     ]
    },
    {
     "name": "stderr",
     "output_type": "stream",
     "text": [
      "/Users/rishabhjain/anaconda3/lib/python3.6/site-packages/boruta/boruta_py.py:418: RuntimeWarning: invalid value encountered in greater\n",
      "  hits = np.where(cur_imp[0] > imp_sha_max)[0]\n"
     ]
    },
    {
     "name": "stdout",
     "output_type": "stream",
     "text": [
      "Iteration: \t12 / 100\n",
      "Confirmed: \t12\n",
      "Tentative: \t9\n",
      "Rejected: \t11\n"
     ]
    },
    {
     "name": "stderr",
     "output_type": "stream",
     "text": [
      "/Users/rishabhjain/anaconda3/lib/python3.6/site-packages/boruta/boruta_py.py:418: RuntimeWarning: invalid value encountered in greater\n",
      "  hits = np.where(cur_imp[0] > imp_sha_max)[0]\n"
     ]
    },
    {
     "name": "stdout",
     "output_type": "stream",
     "text": [
      "Iteration: \t13 / 100\n",
      "Confirmed: \t12\n",
      "Tentative: \t9\n",
      "Rejected: \t11\n"
     ]
    },
    {
     "name": "stderr",
     "output_type": "stream",
     "text": [
      "/Users/rishabhjain/anaconda3/lib/python3.6/site-packages/boruta/boruta_py.py:418: RuntimeWarning: invalid value encountered in greater\n",
      "  hits = np.where(cur_imp[0] > imp_sha_max)[0]\n"
     ]
    },
    {
     "name": "stdout",
     "output_type": "stream",
     "text": [
      "Iteration: \t14 / 100\n",
      "Confirmed: \t12\n",
      "Tentative: \t9\n",
      "Rejected: \t11\n"
     ]
    },
    {
     "name": "stderr",
     "output_type": "stream",
     "text": [
      "/Users/rishabhjain/anaconda3/lib/python3.6/site-packages/boruta/boruta_py.py:418: RuntimeWarning: invalid value encountered in greater\n",
      "  hits = np.where(cur_imp[0] > imp_sha_max)[0]\n"
     ]
    },
    {
     "name": "stdout",
     "output_type": "stream",
     "text": [
      "Iteration: \t15 / 100\n",
      "Confirmed: \t12\n",
      "Tentative: \t9\n",
      "Rejected: \t11\n"
     ]
    },
    {
     "name": "stderr",
     "output_type": "stream",
     "text": [
      "/Users/rishabhjain/anaconda3/lib/python3.6/site-packages/boruta/boruta_py.py:418: RuntimeWarning: invalid value encountered in greater\n",
      "  hits = np.where(cur_imp[0] > imp_sha_max)[0]\n"
     ]
    },
    {
     "name": "stdout",
     "output_type": "stream",
     "text": [
      "Iteration: \t16 / 100\n",
      "Confirmed: \t13\n",
      "Tentative: \t8\n",
      "Rejected: \t11\n"
     ]
    },
    {
     "name": "stderr",
     "output_type": "stream",
     "text": [
      "/Users/rishabhjain/anaconda3/lib/python3.6/site-packages/boruta/boruta_py.py:418: RuntimeWarning: invalid value encountered in greater\n",
      "  hits = np.where(cur_imp[0] > imp_sha_max)[0]\n"
     ]
    },
    {
     "name": "stdout",
     "output_type": "stream",
     "text": [
      "Iteration: \t17 / 100\n",
      "Confirmed: \t13\n",
      "Tentative: \t8\n",
      "Rejected: \t11\n"
     ]
    },
    {
     "name": "stderr",
     "output_type": "stream",
     "text": [
      "/Users/rishabhjain/anaconda3/lib/python3.6/site-packages/boruta/boruta_py.py:418: RuntimeWarning: invalid value encountered in greater\n",
      "  hits = np.where(cur_imp[0] > imp_sha_max)[0]\n"
     ]
    },
    {
     "name": "stdout",
     "output_type": "stream",
     "text": [
      "Iteration: \t18 / 100\n",
      "Confirmed: \t13\n",
      "Tentative: \t8\n",
      "Rejected: \t11\n"
     ]
    },
    {
     "name": "stderr",
     "output_type": "stream",
     "text": [
      "/Users/rishabhjain/anaconda3/lib/python3.6/site-packages/boruta/boruta_py.py:418: RuntimeWarning: invalid value encountered in greater\n",
      "  hits = np.where(cur_imp[0] > imp_sha_max)[0]\n"
     ]
    },
    {
     "name": "stdout",
     "output_type": "stream",
     "text": [
      "Iteration: \t19 / 100\n",
      "Confirmed: \t13\n",
      "Tentative: \t7\n",
      "Rejected: \t12\n"
     ]
    },
    {
     "name": "stderr",
     "output_type": "stream",
     "text": [
      "/Users/rishabhjain/anaconda3/lib/python3.6/site-packages/boruta/boruta_py.py:418: RuntimeWarning: invalid value encountered in greater\n",
      "  hits = np.where(cur_imp[0] > imp_sha_max)[0]\n"
     ]
    },
    {
     "name": "stdout",
     "output_type": "stream",
     "text": [
      "Iteration: \t20 / 100\n",
      "Confirmed: \t13\n",
      "Tentative: \t7\n",
      "Rejected: \t12\n"
     ]
    },
    {
     "name": "stderr",
     "output_type": "stream",
     "text": [
      "/Users/rishabhjain/anaconda3/lib/python3.6/site-packages/boruta/boruta_py.py:418: RuntimeWarning: invalid value encountered in greater\n",
      "  hits = np.where(cur_imp[0] > imp_sha_max)[0]\n"
     ]
    },
    {
     "name": "stdout",
     "output_type": "stream",
     "text": [
      "Iteration: \t21 / 100\n",
      "Confirmed: \t13\n",
      "Tentative: \t7\n",
      "Rejected: \t12\n"
     ]
    },
    {
     "name": "stderr",
     "output_type": "stream",
     "text": [
      "/Users/rishabhjain/anaconda3/lib/python3.6/site-packages/boruta/boruta_py.py:418: RuntimeWarning: invalid value encountered in greater\n",
      "  hits = np.where(cur_imp[0] > imp_sha_max)[0]\n"
     ]
    },
    {
     "name": "stdout",
     "output_type": "stream",
     "text": [
      "Iteration: \t22 / 100\n",
      "Confirmed: \t13\n",
      "Tentative: \t7\n",
      "Rejected: \t12\n"
     ]
    }
   ],
   "source": [
    "import pandas as pd\n",
    "#from sklearn.ensemble import RandomForestClassifier\n",
    "from sklearn.ensemble import RandomForestRegressor\n",
    "from boruta import BorutaPy\n",
    "\n",
    "# NOTE BorutaPy accepts numpy arrays only, hence the .values attribute\n",
    "y_boruta = y_boruta.ravel()\n",
    "\n",
    "# define random forest classifier, with utilising all cores and\n",
    "# sampling in proportion to y labels\n",
    "rf1 = RandomForestRegressor(n_jobs=-1, max_depth=5)\n",
    "\n",
    "# define Boruta feature selection method\n",
    "feat_selector = BorutaPy(rf1, n_estimators='auto', verbose=5, random_state=1)\n",
    "\n",
    "# find all relevant features - 5 features should be selected\n",
    "feat_selector.fit(X_boruta,y_boruta)\n",
    "\n",
    "# check selected features - first 5 features are selected\n",
    "feat_selector.support_\n",
    "\n",
    "# check ranking of features\n",
    "feat_selector.ranking_\n",
    "\n",
    "# call transform() on X to filter it down to selected features\n",
    "#X_filtered = feat_selector.transform(X)"
   ]
  },
  {
   "cell_type": "code",
   "execution_count": null,
   "metadata": {},
   "outputs": [],
   "source": [
    "print(feat_selector.ranking_)"
   ]
  },
  {
   "cell_type": "code",
   "execution_count": null,
   "metadata": {},
   "outputs": [],
   "source": [
    "phase.dtypes"
   ]
  },
  {
   "cell_type": "code",
   "execution_count": null,
   "metadata": {
    "collapsed": true
   },
   "outputs": [],
   "source": [
    "5->lights\n",
    "4->T1\n",
    "1->RH_2\n",
    "8->RH_3\n",
    "2->RH_4\n",
    "5->T5\n",
    "7->Press_mm_hg\n",
    "3->Visibility"
   ]
  },
  {
   "cell_type": "markdown",
   "metadata": {},
   "source": [
    "### 1.2.1 Feature Selected "
   ]
  },
  {
   "cell_type": "markdown",
   "metadata": {},
   "source": [
    "#### 12.1.1 Training Testing Spliting"
   ]
  },
  {
   "cell_type": "code",
   "execution_count": null,
   "metadata": {
    "collapsed": true
   },
   "outputs": [],
   "source": [
    "X = phase1[['lights','T1','RH_2','RH_3','RH_4','T5','Press_mm_hg','Visibility']]\n",
    "y = phase1['Appliances']"
   ]
  },
  {
   "cell_type": "code",
   "execution_count": null,
   "metadata": {
    "collapsed": true
   },
   "outputs": [],
   "source": [
    "# Test and Train Split\n",
    "X_train, X_test, y_train, y_test = train_test_split(X, y, test_size=0.3, random_state=42)"
   ]
  },
  {
   "cell_type": "code",
   "execution_count": null,
   "metadata": {},
   "outputs": [],
   "source": [
    "teston = models('Boruta',X_train, y_train, X_test, y_test)"
   ]
  },
  {
   "cell_type": "code",
   "execution_count": null,
   "metadata": {},
   "outputs": [],
   "source": [
    "teston"
   ]
  },
  {
   "cell_type": "code",
   "execution_count": null,
   "metadata": {},
   "outputs": [],
   "source": [
    "#### After scaling boruta\n",
    "\n",
    "from sklearn.preprocessing import StandardScaler\n",
    "scaler = StandardScaler()\n",
    "# Fit only to the training data\n",
    "scaler.fit(X_train)\n",
    "# Now apply the transformations to the data:\n",
    "X_train = scaler.transform(X_train)\n",
    "X_test = scaler.transform(X_test)\n",
    "\n",
    "teston = models('After Scaling_boruta',X_train, y_train, X_test, y_test)\n"
   ]
  },
  {
   "cell_type": "code",
   "execution_count": null,
   "metadata": {},
   "outputs": [],
   "source": [
    "teston"
   ]
  },
  {
   "cell_type": "markdown",
   "metadata": {},
   "source": [
    "## 1.3 Using featuretools\n",
    "### It is a framework to perform automated feature engineering. It excels at transforming transactional and relational datasets into feature matrices for machine learning."
   ]
  },
  {
   "cell_type": "code",
   "execution_count": 7,
   "metadata": {
    "collapsed": true
   },
   "outputs": [],
   "source": [
    "import featuretools as ft"
   ]
  },
  {
   "cell_type": "code",
   "execution_count": 8,
   "metadata": {
    "collapsed": true
   },
   "outputs": [],
   "source": [
    "phase_featuretools = df.groupby(['date','month','day_of_week','hour','day_number','min','period']).mean()\n",
    "phase_featuretools = phase_featuretools.reset_index()\n",
    "phase_featuretools['day_of_week']=phase_featuretools['day_of_week'].apply(int)\n",
    "phase_featuretools['hour']=phase_featuretools['hour'].apply(int)\n",
    "phase_featuretools['min']=phase_featuretools['min'].apply(int)\n",
    "phase_featuretools['period']=phase_featuretools['period'].apply(int)\n",
    "phase_featuretools['date'] = pd.to_datetime(phase_featuretools['date'])\n",
    "phase_featuretools['Press_mm_hg'] = np.log(phase_featuretools['Press_mm_hg'])\n",
    "phase_featuretools['Visibility'] = np.log(phase_featuretools['Visibility'])\n",
    "phase_featuretools = phase_featuretools.drop(['rv1','rv2'],axis=1)"
   ]
  },
  {
   "cell_type": "code",
   "execution_count": 9,
   "metadata": {
    "collapsed": true
   },
   "outputs": [],
   "source": [
    "y_featuretools = phase_featuretools[['date','Appliances']]\n",
    "X_featuretools = phase_featuretools.drop(['Appliances'],axis=1)\n",
    "entities ={\"appliances\" :(y_featuretools,\"date\"),\n",
    "          \"rest\" :(X_featuretools,\"date\")}\n",
    "relationships = [(\"appliances\",\"date\",\"rest\",\"date\")]"
   ]
  },
  {
   "cell_type": "code",
   "execution_count": 10,
   "metadata": {
    "collapsed": true
   },
   "outputs": [],
   "source": [
    "feature_matrix_app,features_defs = ft.dfs(entities=entities,relationships=relationships,target_entity=\"appliances\")"
   ]
  },
  {
   "cell_type": "code",
   "execution_count": 11,
   "metadata": {
    "collapsed": true
   },
   "outputs": [],
   "source": [
    "feature_matrix_app1 = feature_matrix_app"
   ]
  },
  {
   "cell_type": "code",
   "execution_count": 12,
   "metadata": {},
   "outputs": [
    {
     "data": {
      "text/plain": [
       "Appliances                  int64\n",
       "SUM(rest.month)             int64\n",
       "SUM(rest.day_of_week)       int64\n",
       "SUM(rest.hour)              int64\n",
       "SUM(rest.day_number)        int64\n",
       "SUM(rest.min)               int64\n",
       "SUM(rest.period)            int64\n",
       "SUM(rest.lights)            int64\n",
       "SUM(rest.T1)              float64\n",
       "SUM(rest.RH_1)            float64\n",
       "SUM(rest.T2)              float64\n",
       "SUM(rest.RH_2)            float64\n",
       "SUM(rest.T3)              float64\n",
       "SUM(rest.RH_3)            float64\n",
       "SUM(rest.T4)              float64\n",
       "SUM(rest.RH_4)            float64\n",
       "SUM(rest.T5)              float64\n",
       "SUM(rest.RH_5)            float64\n",
       "SUM(rest.T6)              float64\n",
       "SUM(rest.RH_6)            float64\n",
       "SUM(rest.T7)              float64\n",
       "SUM(rest.RH_7)            float64\n",
       "SUM(rest.T8)              float64\n",
       "SUM(rest.RH_8)            float64\n",
       "SUM(rest.T9)              float64\n",
       "SUM(rest.RH_9)            float64\n",
       "SUM(rest.T_out)           float64\n",
       "SUM(rest.Press_mm_hg)     float64\n",
       "SUM(rest.RH_out)          float64\n",
       "SUM(rest.Windspeed)       float64\n",
       "                           ...   \n",
       "MEAN(rest.hour)             int64\n",
       "MEAN(rest.day_number)       int64\n",
       "MEAN(rest.min)              int64\n",
       "MEAN(rest.period)           int64\n",
       "MEAN(rest.lights)           int64\n",
       "MEAN(rest.T1)             float64\n",
       "MEAN(rest.RH_1)           float64\n",
       "MEAN(rest.T2)             float64\n",
       "MEAN(rest.RH_2)           float64\n",
       "MEAN(rest.T3)             float64\n",
       "MEAN(rest.RH_3)           float64\n",
       "MEAN(rest.T4)             float64\n",
       "MEAN(rest.RH_4)           float64\n",
       "MEAN(rest.T5)             float64\n",
       "MEAN(rest.RH_5)           float64\n",
       "MEAN(rest.T6)             float64\n",
       "MEAN(rest.RH_6)           float64\n",
       "MEAN(rest.T7)             float64\n",
       "MEAN(rest.RH_7)           float64\n",
       "MEAN(rest.T8)             float64\n",
       "MEAN(rest.RH_8)           float64\n",
       "MEAN(rest.T9)             float64\n",
       "MEAN(rest.RH_9)           float64\n",
       "MEAN(rest.T_out)          float64\n",
       "MEAN(rest.Press_mm_hg)    float64\n",
       "MEAN(rest.RH_out)         float64\n",
       "MEAN(rest.Windspeed)      float64\n",
       "MEAN(rest.Visibility)     float64\n",
       "MEAN(rest.Tdewpoint)      float64\n",
       "MEAN(rest.Week_no)          int64\n",
       "Length: 193, dtype: object"
      ]
     },
     "execution_count": 12,
     "metadata": {},
     "output_type": "execute_result"
    }
   ],
   "source": [
    "feature_matrix_app1.dtypes"
   ]
  },
  {
   "cell_type": "markdown",
   "metadata": {
    "collapsed": true
   },
   "source": [
    "#### 1.3.1 Test Train Split"
   ]
  },
  {
   "cell_type": "code",
   "execution_count": 13,
   "metadata": {
    "collapsed": true
   },
   "outputs": [],
   "source": [
    "y_featuretools = y_featuretools.drop('date',axis=1)\n",
    "y_featuretools = y_featuretools.values"
   ]
  },
  {
   "cell_type": "code",
   "execution_count": 14,
   "metadata": {
    "collapsed": true
   },
   "outputs": [],
   "source": [
    "X_train, X_test, y_train, y_test = train_test_split(feature_matrix_app1, y_featuretools, test_size=0.30, random_state=42)"
   ]
  },
  {
   "cell_type": "code",
   "execution_count": 15,
   "metadata": {},
   "outputs": [
    {
     "name": "stdout",
     "output_type": "stream",
     "text": [
      "LINEAR\n",
      "          Model                                          ModelType  \\\n",
      "0  featuretools  LinearRegression(copy_X=True, fit_intercept=Tr...   \n",
      "\n",
      "       mae_test     mae_train     mape_test    mape_train  r2_test  r2_train  \\\n",
      "0  3.100581e-13  3.079378e-13  4.730477e-13  4.692747e-13      1.0       1.0   \n",
      "\n",
      "       rms_test     rms_train  \n",
      "0  4.023106e-13  3.991463e-13  \n"
     ]
    },
    {
     "name": "stderr",
     "output_type": "stream",
     "text": [
      "/Users/rishabhjain/anaconda3/lib/python3.6/site-packages/ipykernel_launcher.py:30: DataConversionWarning: A column-vector y was passed when a 1d array was expected. Please change the shape of y to (n_samples,), for example using ravel().\n"
     ]
    },
    {
     "ename": "KeyboardInterrupt",
     "evalue": "",
     "output_type": "error",
     "traceback": [
      "\u001b[0;31m---------------------------------------------------------------------------\u001b[0m",
      "\u001b[0;31mKeyboardInterrupt\u001b[0m                         Traceback (most recent call last)",
      "\u001b[0;32m<ipython-input-15-43ccf8c79f90>\u001b[0m in \u001b[0;36m<module>\u001b[0;34m()\u001b[0m\n\u001b[0;32m----> 1\u001b[0;31m \u001b[0mteston\u001b[0m \u001b[0;34m=\u001b[0m \u001b[0mmodels\u001b[0m\u001b[0;34m(\u001b[0m\u001b[0;34m'featuretools'\u001b[0m\u001b[0;34m,\u001b[0m\u001b[0mX_train\u001b[0m\u001b[0;34m,\u001b[0m \u001b[0my_train\u001b[0m\u001b[0;34m,\u001b[0m \u001b[0mX_test\u001b[0m\u001b[0;34m,\u001b[0m \u001b[0my_test\u001b[0m\u001b[0;34m)\u001b[0m\u001b[0;34m\u001b[0m\u001b[0m\n\u001b[0m",
      "\u001b[0;32m<ipython-input-6-27788f0ceb1a>\u001b[0m in \u001b[0;36mmodels\u001b[0;34m(name, X_train, y_train, X_test, y_test)\u001b[0m\n\u001b[1;32m     28\u001b[0m     \u001b[0;31m# Random Forest\u001b[0m\u001b[0;34m\u001b[0m\u001b[0;34m\u001b[0m\u001b[0m\n\u001b[1;32m     29\u001b[0m     \u001b[0mrf\u001b[0m \u001b[0;34m=\u001b[0m \u001b[0mRandomForestRegressor\u001b[0m\u001b[0;34m(\u001b[0m\u001b[0mn_estimators\u001b[0m \u001b[0;34m=\u001b[0m\u001b[0;36m500\u001b[0m\u001b[0;34m,\u001b[0m \u001b[0mrandom_state\u001b[0m \u001b[0;34m=\u001b[0m \u001b[0;36m1\u001b[0m\u001b[0;34m)\u001b[0m\u001b[0;34m\u001b[0m\u001b[0m\n\u001b[0;32m---> 30\u001b[0;31m     \u001b[0mmodelrandomforest\u001b[0m \u001b[0;34m=\u001b[0m \u001b[0mrf\u001b[0m\u001b[0;34m.\u001b[0m\u001b[0mfit\u001b[0m\u001b[0;34m(\u001b[0m\u001b[0mX_train\u001b[0m\u001b[0;34m,\u001b[0m\u001b[0my_train\u001b[0m\u001b[0;34m)\u001b[0m\u001b[0;34m\u001b[0m\u001b[0m\n\u001b[0m\u001b[1;32m     31\u001b[0m     \u001b[0mrandomforest\u001b[0m \u001b[0;34m=\u001b[0m \u001b[0mcalc_error_metric\u001b[0m\u001b[0;34m(\u001b[0m\u001b[0mname\u001b[0m\u001b[0;34m,\u001b[0m\u001b[0mmodelrandomforest\u001b[0m\u001b[0;34m,\u001b[0m\u001b[0mrf\u001b[0m\u001b[0;34m,\u001b[0m \u001b[0mX_train\u001b[0m\u001b[0;34m,\u001b[0m \u001b[0my_train\u001b[0m\u001b[0;34m,\u001b[0m \u001b[0mX_test\u001b[0m\u001b[0;34m,\u001b[0m \u001b[0my_test\u001b[0m\u001b[0;34m)\u001b[0m\u001b[0;34m\u001b[0m\u001b[0m\n\u001b[1;32m     32\u001b[0m \u001b[0;34m\u001b[0m\u001b[0m\n",
      "\u001b[0;32m~/anaconda3/lib/python3.6/site-packages/sklearn/ensemble/forest.py\u001b[0m in \u001b[0;36mfit\u001b[0;34m(self, X, y, sample_weight)\u001b[0m\n\u001b[1;32m    326\u001b[0m                     \u001b[0mt\u001b[0m\u001b[0;34m,\u001b[0m \u001b[0mself\u001b[0m\u001b[0;34m,\u001b[0m \u001b[0mX\u001b[0m\u001b[0;34m,\u001b[0m \u001b[0my\u001b[0m\u001b[0;34m,\u001b[0m \u001b[0msample_weight\u001b[0m\u001b[0;34m,\u001b[0m \u001b[0mi\u001b[0m\u001b[0;34m,\u001b[0m \u001b[0mlen\u001b[0m\u001b[0;34m(\u001b[0m\u001b[0mtrees\u001b[0m\u001b[0;34m)\u001b[0m\u001b[0;34m,\u001b[0m\u001b[0;34m\u001b[0m\u001b[0m\n\u001b[1;32m    327\u001b[0m                     verbose=self.verbose, class_weight=self.class_weight)\n\u001b[0;32m--> 328\u001b[0;31m                 for i, t in enumerate(trees))\n\u001b[0m\u001b[1;32m    329\u001b[0m \u001b[0;34m\u001b[0m\u001b[0m\n\u001b[1;32m    330\u001b[0m             \u001b[0;31m# Collect newly grown trees\u001b[0m\u001b[0;34m\u001b[0m\u001b[0;34m\u001b[0m\u001b[0m\n",
      "\u001b[0;32m~/anaconda3/lib/python3.6/site-packages/sklearn/externals/joblib/parallel.py\u001b[0m in \u001b[0;36m__call__\u001b[0;34m(self, iterable)\u001b[0m\n\u001b[1;32m    777\u001b[0m             \u001b[0;31m# was dispatched. In particular this covers the edge\u001b[0m\u001b[0;34m\u001b[0m\u001b[0;34m\u001b[0m\u001b[0m\n\u001b[1;32m    778\u001b[0m             \u001b[0;31m# case of Parallel used with an exhausted iterator.\u001b[0m\u001b[0;34m\u001b[0m\u001b[0;34m\u001b[0m\u001b[0m\n\u001b[0;32m--> 779\u001b[0;31m             \u001b[0;32mwhile\u001b[0m \u001b[0mself\u001b[0m\u001b[0;34m.\u001b[0m\u001b[0mdispatch_one_batch\u001b[0m\u001b[0;34m(\u001b[0m\u001b[0miterator\u001b[0m\u001b[0;34m)\u001b[0m\u001b[0;34m:\u001b[0m\u001b[0;34m\u001b[0m\u001b[0m\n\u001b[0m\u001b[1;32m    780\u001b[0m                 \u001b[0mself\u001b[0m\u001b[0;34m.\u001b[0m\u001b[0m_iterating\u001b[0m \u001b[0;34m=\u001b[0m \u001b[0;32mTrue\u001b[0m\u001b[0;34m\u001b[0m\u001b[0m\n\u001b[1;32m    781\u001b[0m             \u001b[0;32melse\u001b[0m\u001b[0;34m:\u001b[0m\u001b[0;34m\u001b[0m\u001b[0m\n",
      "\u001b[0;32m~/anaconda3/lib/python3.6/site-packages/sklearn/externals/joblib/parallel.py\u001b[0m in \u001b[0;36mdispatch_one_batch\u001b[0;34m(self, iterator)\u001b[0m\n\u001b[1;32m    623\u001b[0m                 \u001b[0;32mreturn\u001b[0m \u001b[0;32mFalse\u001b[0m\u001b[0;34m\u001b[0m\u001b[0m\n\u001b[1;32m    624\u001b[0m             \u001b[0;32melse\u001b[0m\u001b[0;34m:\u001b[0m\u001b[0;34m\u001b[0m\u001b[0m\n\u001b[0;32m--> 625\u001b[0;31m                 \u001b[0mself\u001b[0m\u001b[0;34m.\u001b[0m\u001b[0m_dispatch\u001b[0m\u001b[0;34m(\u001b[0m\u001b[0mtasks\u001b[0m\u001b[0;34m)\u001b[0m\u001b[0;34m\u001b[0m\u001b[0m\n\u001b[0m\u001b[1;32m    626\u001b[0m                 \u001b[0;32mreturn\u001b[0m \u001b[0;32mTrue\u001b[0m\u001b[0;34m\u001b[0m\u001b[0m\n\u001b[1;32m    627\u001b[0m \u001b[0;34m\u001b[0m\u001b[0m\n",
      "\u001b[0;32m~/anaconda3/lib/python3.6/site-packages/sklearn/externals/joblib/parallel.py\u001b[0m in \u001b[0;36m_dispatch\u001b[0;34m(self, batch)\u001b[0m\n\u001b[1;32m    586\u001b[0m         \u001b[0mdispatch_timestamp\u001b[0m \u001b[0;34m=\u001b[0m \u001b[0mtime\u001b[0m\u001b[0;34m.\u001b[0m\u001b[0mtime\u001b[0m\u001b[0;34m(\u001b[0m\u001b[0;34m)\u001b[0m\u001b[0;34m\u001b[0m\u001b[0m\n\u001b[1;32m    587\u001b[0m         \u001b[0mcb\u001b[0m \u001b[0;34m=\u001b[0m \u001b[0mBatchCompletionCallBack\u001b[0m\u001b[0;34m(\u001b[0m\u001b[0mdispatch_timestamp\u001b[0m\u001b[0;34m,\u001b[0m \u001b[0mlen\u001b[0m\u001b[0;34m(\u001b[0m\u001b[0mbatch\u001b[0m\u001b[0;34m)\u001b[0m\u001b[0;34m,\u001b[0m \u001b[0mself\u001b[0m\u001b[0;34m)\u001b[0m\u001b[0;34m\u001b[0m\u001b[0m\n\u001b[0;32m--> 588\u001b[0;31m         \u001b[0mjob\u001b[0m \u001b[0;34m=\u001b[0m \u001b[0mself\u001b[0m\u001b[0;34m.\u001b[0m\u001b[0m_backend\u001b[0m\u001b[0;34m.\u001b[0m\u001b[0mapply_async\u001b[0m\u001b[0;34m(\u001b[0m\u001b[0mbatch\u001b[0m\u001b[0;34m,\u001b[0m \u001b[0mcallback\u001b[0m\u001b[0;34m=\u001b[0m\u001b[0mcb\u001b[0m\u001b[0;34m)\u001b[0m\u001b[0;34m\u001b[0m\u001b[0m\n\u001b[0m\u001b[1;32m    589\u001b[0m         \u001b[0mself\u001b[0m\u001b[0;34m.\u001b[0m\u001b[0m_jobs\u001b[0m\u001b[0;34m.\u001b[0m\u001b[0mappend\u001b[0m\u001b[0;34m(\u001b[0m\u001b[0mjob\u001b[0m\u001b[0;34m)\u001b[0m\u001b[0;34m\u001b[0m\u001b[0m\n\u001b[1;32m    590\u001b[0m \u001b[0;34m\u001b[0m\u001b[0m\n",
      "\u001b[0;32m~/anaconda3/lib/python3.6/site-packages/sklearn/externals/joblib/_parallel_backends.py\u001b[0m in \u001b[0;36mapply_async\u001b[0;34m(self, func, callback)\u001b[0m\n\u001b[1;32m    109\u001b[0m     \u001b[0;32mdef\u001b[0m \u001b[0mapply_async\u001b[0m\u001b[0;34m(\u001b[0m\u001b[0mself\u001b[0m\u001b[0;34m,\u001b[0m \u001b[0mfunc\u001b[0m\u001b[0;34m,\u001b[0m \u001b[0mcallback\u001b[0m\u001b[0;34m=\u001b[0m\u001b[0;32mNone\u001b[0m\u001b[0;34m)\u001b[0m\u001b[0;34m:\u001b[0m\u001b[0;34m\u001b[0m\u001b[0m\n\u001b[1;32m    110\u001b[0m         \u001b[0;34m\"\"\"Schedule a func to be run\"\"\"\u001b[0m\u001b[0;34m\u001b[0m\u001b[0m\n\u001b[0;32m--> 111\u001b[0;31m         \u001b[0mresult\u001b[0m \u001b[0;34m=\u001b[0m \u001b[0mImmediateResult\u001b[0m\u001b[0;34m(\u001b[0m\u001b[0mfunc\u001b[0m\u001b[0;34m)\u001b[0m\u001b[0;34m\u001b[0m\u001b[0m\n\u001b[0m\u001b[1;32m    112\u001b[0m         \u001b[0;32mif\u001b[0m \u001b[0mcallback\u001b[0m\u001b[0;34m:\u001b[0m\u001b[0;34m\u001b[0m\u001b[0m\n\u001b[1;32m    113\u001b[0m             \u001b[0mcallback\u001b[0m\u001b[0;34m(\u001b[0m\u001b[0mresult\u001b[0m\u001b[0;34m)\u001b[0m\u001b[0;34m\u001b[0m\u001b[0m\n",
      "\u001b[0;32m~/anaconda3/lib/python3.6/site-packages/sklearn/externals/joblib/_parallel_backends.py\u001b[0m in \u001b[0;36m__init__\u001b[0;34m(self, batch)\u001b[0m\n\u001b[1;32m    330\u001b[0m         \u001b[0;31m# Don't delay the application, to avoid keeping the input\u001b[0m\u001b[0;34m\u001b[0m\u001b[0;34m\u001b[0m\u001b[0m\n\u001b[1;32m    331\u001b[0m         \u001b[0;31m# arguments in memory\u001b[0m\u001b[0;34m\u001b[0m\u001b[0;34m\u001b[0m\u001b[0m\n\u001b[0;32m--> 332\u001b[0;31m         \u001b[0mself\u001b[0m\u001b[0;34m.\u001b[0m\u001b[0mresults\u001b[0m \u001b[0;34m=\u001b[0m \u001b[0mbatch\u001b[0m\u001b[0;34m(\u001b[0m\u001b[0;34m)\u001b[0m\u001b[0;34m\u001b[0m\u001b[0m\n\u001b[0m\u001b[1;32m    333\u001b[0m \u001b[0;34m\u001b[0m\u001b[0m\n\u001b[1;32m    334\u001b[0m     \u001b[0;32mdef\u001b[0m \u001b[0mget\u001b[0m\u001b[0;34m(\u001b[0m\u001b[0mself\u001b[0m\u001b[0;34m)\u001b[0m\u001b[0;34m:\u001b[0m\u001b[0;34m\u001b[0m\u001b[0m\n",
      "\u001b[0;32m~/anaconda3/lib/python3.6/site-packages/sklearn/externals/joblib/parallel.py\u001b[0m in \u001b[0;36m__call__\u001b[0;34m(self)\u001b[0m\n\u001b[1;32m    129\u001b[0m \u001b[0;34m\u001b[0m\u001b[0m\n\u001b[1;32m    130\u001b[0m     \u001b[0;32mdef\u001b[0m \u001b[0m__call__\u001b[0m\u001b[0;34m(\u001b[0m\u001b[0mself\u001b[0m\u001b[0;34m)\u001b[0m\u001b[0;34m:\u001b[0m\u001b[0;34m\u001b[0m\u001b[0m\n\u001b[0;32m--> 131\u001b[0;31m         \u001b[0;32mreturn\u001b[0m \u001b[0;34m[\u001b[0m\u001b[0mfunc\u001b[0m\u001b[0;34m(\u001b[0m\u001b[0;34m*\u001b[0m\u001b[0margs\u001b[0m\u001b[0;34m,\u001b[0m \u001b[0;34m**\u001b[0m\u001b[0mkwargs\u001b[0m\u001b[0;34m)\u001b[0m \u001b[0;32mfor\u001b[0m \u001b[0mfunc\u001b[0m\u001b[0;34m,\u001b[0m \u001b[0margs\u001b[0m\u001b[0;34m,\u001b[0m \u001b[0mkwargs\u001b[0m \u001b[0;32min\u001b[0m \u001b[0mself\u001b[0m\u001b[0;34m.\u001b[0m\u001b[0mitems\u001b[0m\u001b[0;34m]\u001b[0m\u001b[0;34m\u001b[0m\u001b[0m\n\u001b[0m\u001b[1;32m    132\u001b[0m \u001b[0;34m\u001b[0m\u001b[0m\n\u001b[1;32m    133\u001b[0m     \u001b[0;32mdef\u001b[0m \u001b[0m__len__\u001b[0m\u001b[0;34m(\u001b[0m\u001b[0mself\u001b[0m\u001b[0;34m)\u001b[0m\u001b[0;34m:\u001b[0m\u001b[0;34m\u001b[0m\u001b[0m\n",
      "\u001b[0;32m~/anaconda3/lib/python3.6/site-packages/sklearn/externals/joblib/parallel.py\u001b[0m in \u001b[0;36m<listcomp>\u001b[0;34m(.0)\u001b[0m\n\u001b[1;32m    129\u001b[0m \u001b[0;34m\u001b[0m\u001b[0m\n\u001b[1;32m    130\u001b[0m     \u001b[0;32mdef\u001b[0m \u001b[0m__call__\u001b[0m\u001b[0;34m(\u001b[0m\u001b[0mself\u001b[0m\u001b[0;34m)\u001b[0m\u001b[0;34m:\u001b[0m\u001b[0;34m\u001b[0m\u001b[0m\n\u001b[0;32m--> 131\u001b[0;31m         \u001b[0;32mreturn\u001b[0m \u001b[0;34m[\u001b[0m\u001b[0mfunc\u001b[0m\u001b[0;34m(\u001b[0m\u001b[0;34m*\u001b[0m\u001b[0margs\u001b[0m\u001b[0;34m,\u001b[0m \u001b[0;34m**\u001b[0m\u001b[0mkwargs\u001b[0m\u001b[0;34m)\u001b[0m \u001b[0;32mfor\u001b[0m \u001b[0mfunc\u001b[0m\u001b[0;34m,\u001b[0m \u001b[0margs\u001b[0m\u001b[0;34m,\u001b[0m \u001b[0mkwargs\u001b[0m \u001b[0;32min\u001b[0m \u001b[0mself\u001b[0m\u001b[0;34m.\u001b[0m\u001b[0mitems\u001b[0m\u001b[0;34m]\u001b[0m\u001b[0;34m\u001b[0m\u001b[0m\n\u001b[0m\u001b[1;32m    132\u001b[0m \u001b[0;34m\u001b[0m\u001b[0m\n\u001b[1;32m    133\u001b[0m     \u001b[0;32mdef\u001b[0m \u001b[0m__len__\u001b[0m\u001b[0;34m(\u001b[0m\u001b[0mself\u001b[0m\u001b[0;34m)\u001b[0m\u001b[0;34m:\u001b[0m\u001b[0;34m\u001b[0m\u001b[0m\n",
      "\u001b[0;32m~/anaconda3/lib/python3.6/site-packages/sklearn/ensemble/forest.py\u001b[0m in \u001b[0;36m_parallel_build_trees\u001b[0;34m(tree, forest, X, y, sample_weight, tree_idx, n_trees, verbose, class_weight)\u001b[0m\n\u001b[1;32m    119\u001b[0m             \u001b[0mcurr_sample_weight\u001b[0m \u001b[0;34m*=\u001b[0m \u001b[0mcompute_sample_weight\u001b[0m\u001b[0;34m(\u001b[0m\u001b[0;34m'balanced'\u001b[0m\u001b[0;34m,\u001b[0m \u001b[0my\u001b[0m\u001b[0;34m,\u001b[0m \u001b[0mindices\u001b[0m\u001b[0;34m)\u001b[0m\u001b[0;34m\u001b[0m\u001b[0m\n\u001b[1;32m    120\u001b[0m \u001b[0;34m\u001b[0m\u001b[0m\n\u001b[0;32m--> 121\u001b[0;31m         \u001b[0mtree\u001b[0m\u001b[0;34m.\u001b[0m\u001b[0mfit\u001b[0m\u001b[0;34m(\u001b[0m\u001b[0mX\u001b[0m\u001b[0;34m,\u001b[0m \u001b[0my\u001b[0m\u001b[0;34m,\u001b[0m \u001b[0msample_weight\u001b[0m\u001b[0;34m=\u001b[0m\u001b[0mcurr_sample_weight\u001b[0m\u001b[0;34m,\u001b[0m \u001b[0mcheck_input\u001b[0m\u001b[0;34m=\u001b[0m\u001b[0;32mFalse\u001b[0m\u001b[0;34m)\u001b[0m\u001b[0;34m\u001b[0m\u001b[0m\n\u001b[0m\u001b[1;32m    122\u001b[0m     \u001b[0;32melse\u001b[0m\u001b[0;34m:\u001b[0m\u001b[0;34m\u001b[0m\u001b[0m\n\u001b[1;32m    123\u001b[0m         \u001b[0mtree\u001b[0m\u001b[0;34m.\u001b[0m\u001b[0mfit\u001b[0m\u001b[0;34m(\u001b[0m\u001b[0mX\u001b[0m\u001b[0;34m,\u001b[0m \u001b[0my\u001b[0m\u001b[0;34m,\u001b[0m \u001b[0msample_weight\u001b[0m\u001b[0;34m=\u001b[0m\u001b[0msample_weight\u001b[0m\u001b[0;34m,\u001b[0m \u001b[0mcheck_input\u001b[0m\u001b[0;34m=\u001b[0m\u001b[0;32mFalse\u001b[0m\u001b[0;34m)\u001b[0m\u001b[0;34m\u001b[0m\u001b[0m\n",
      "\u001b[0;32m~/anaconda3/lib/python3.6/site-packages/sklearn/tree/tree.py\u001b[0m in \u001b[0;36mfit\u001b[0;34m(self, X, y, sample_weight, check_input, X_idx_sorted)\u001b[0m\n\u001b[1;32m   1122\u001b[0m             \u001b[0msample_weight\u001b[0m\u001b[0;34m=\u001b[0m\u001b[0msample_weight\u001b[0m\u001b[0;34m,\u001b[0m\u001b[0;34m\u001b[0m\u001b[0m\n\u001b[1;32m   1123\u001b[0m             \u001b[0mcheck_input\u001b[0m\u001b[0;34m=\u001b[0m\u001b[0mcheck_input\u001b[0m\u001b[0;34m,\u001b[0m\u001b[0;34m\u001b[0m\u001b[0m\n\u001b[0;32m-> 1124\u001b[0;31m             X_idx_sorted=X_idx_sorted)\n\u001b[0m\u001b[1;32m   1125\u001b[0m         \u001b[0;32mreturn\u001b[0m \u001b[0mself\u001b[0m\u001b[0;34m\u001b[0m\u001b[0m\n\u001b[1;32m   1126\u001b[0m \u001b[0;34m\u001b[0m\u001b[0m\n",
      "\u001b[0;32m~/anaconda3/lib/python3.6/site-packages/sklearn/tree/tree.py\u001b[0m in \u001b[0;36mfit\u001b[0;34m(self, X, y, sample_weight, check_input, X_idx_sorted)\u001b[0m\n\u001b[1;32m    360\u001b[0m                                            min_impurity_split)\n\u001b[1;32m    361\u001b[0m \u001b[0;34m\u001b[0m\u001b[0m\n\u001b[0;32m--> 362\u001b[0;31m         \u001b[0mbuilder\u001b[0m\u001b[0;34m.\u001b[0m\u001b[0mbuild\u001b[0m\u001b[0;34m(\u001b[0m\u001b[0mself\u001b[0m\u001b[0;34m.\u001b[0m\u001b[0mtree_\u001b[0m\u001b[0;34m,\u001b[0m \u001b[0mX\u001b[0m\u001b[0;34m,\u001b[0m \u001b[0my\u001b[0m\u001b[0;34m,\u001b[0m \u001b[0msample_weight\u001b[0m\u001b[0;34m,\u001b[0m \u001b[0mX_idx_sorted\u001b[0m\u001b[0;34m)\u001b[0m\u001b[0;34m\u001b[0m\u001b[0m\n\u001b[0m\u001b[1;32m    363\u001b[0m \u001b[0;34m\u001b[0m\u001b[0m\n\u001b[1;32m    364\u001b[0m         \u001b[0;32mif\u001b[0m \u001b[0mself\u001b[0m\u001b[0;34m.\u001b[0m\u001b[0mn_outputs_\u001b[0m \u001b[0;34m==\u001b[0m \u001b[0;36m1\u001b[0m\u001b[0;34m:\u001b[0m\u001b[0;34m\u001b[0m\u001b[0m\n",
      "\u001b[0;31mKeyboardInterrupt\u001b[0m: "
     ]
    }
   ],
   "source": [
    "teston = models('featuretools',X_train, y_train, X_test, y_test)"
   ]
  },
  {
   "cell_type": "code",
   "execution_count": null,
   "metadata": {},
   "outputs": [],
   "source": [
    "teston"
   ]
  },
  {
   "cell_type": "markdown",
   "metadata": {
    "collapsed": true
   },
   "source": [
    "#### 1.3.2 After scaling featuretools"
   ]
  },
  {
   "cell_type": "code",
   "execution_count": null,
   "metadata": {
    "collapsed": true
   },
   "outputs": [],
   "source": [
    "from sklearn.preprocessing import StandardScaler\n",
    "scaler = StandardScaler()\n",
    "# Fit only to the training data\n",
    "scaler.fit(X_train)\n",
    "# Now apply the transformations to the data:\n",
    "X_train = scaler.transform(X_train)\n",
    "X_test = scaler.transform(X_test)"
   ]
  },
  {
   "cell_type": "code",
   "execution_count": null,
   "metadata": {},
   "outputs": [],
   "source": [
    "teston = models('After Scaling_featuretools',X_train, y_train, X_test, y_test)"
   ]
  },
  {
   "cell_type": "code",
   "execution_count": null,
   "metadata": {},
   "outputs": [],
   "source": [
    "teston"
   ]
  },
  {
   "cell_type": "markdown",
   "metadata": {},
   "source": [
    "## 1.4 Using tsfresh"
   ]
  },
  {
   "cell_type": "code",
   "execution_count": 10,
   "metadata": {
    "collapsed": true
   },
   "outputs": [],
   "source": [
    "phase_tsfresh = phase_featuretools"
   ]
  },
  {
   "cell_type": "code",
   "execution_count": 11,
   "metadata": {},
   "outputs": [
    {
     "name": "stderr",
     "output_type": "stream",
     "text": [
      "/Users/rishabhjain/anaconda3/lib/python3.6/site-packages/statsmodels/compat/pandas.py:56: FutureWarning: The pandas.core.datetools module is deprecated and will be removed in a future version. Please use the pandas.tseries module instead.\n",
      "  from pandas.core import datetools\n"
     ]
    }
   ],
   "source": [
    "from tsfresh import extract_features"
   ]
  },
  {
   "cell_type": "code",
   "execution_count": 12,
   "metadata": {
    "collapsed": true
   },
   "outputs": [],
   "source": [
    "X_tsfresh = phase_tsfresh.drop('Appliances',axis=1)\n",
    "y_tsfresh = phase_tsfresh['Appliances']"
   ]
  },
  {
   "cell_type": "code",
   "execution_count": 13,
   "metadata": {
    "collapsed": true
   },
   "outputs": [],
   "source": [
    "from tsfresh import extract_features\n",
    "from tsfresh import select_features\n",
    "from tsfresh.utilities.dataframe_functions import impute\n",
    "\n",
    "\n"
   ]
  },
  {
   "cell_type": "code",
   "execution_count": 14,
   "metadata": {
    "collapsed": true
   },
   "outputs": [],
   "source": [
    "p = phase_featuretools.drop('Appliances',axis=1)"
   ]
  },
  {
   "cell_type": "code",
   "execution_count": 15,
   "metadata": {},
   "outputs": [
    {
     "name": "stderr",
     "output_type": "stream",
     "text": [
      "Feature Extraction: 100%|██████████| 20/20 [00:56<00:00,  2.84s/it]\n"
     ]
    }
   ],
   "source": [
    "# For Extracing Minimal Features\n",
    "from tsfresh.feature_extraction import MinimalFCParameters\n",
    "extracted_features = extract_features(p, column_id=\"date\", column_sort=\"period\",show_warnings=False, default_fc_parameters=MinimalFCParameters())"
   ]
  },
  {
   "cell_type": "code",
   "execution_count": 16,
   "metadata": {},
   "outputs": [
    {
     "name": "stderr",
     "output_type": "stream",
     "text": [
      "WARNING:tsfresh.feature_selection.relevance:Infered classification as machine learning task\n",
      "WARNING:tsfresh.feature_selection.relevance:[test_feature_significance] Feature Press_mm_hg__length is constant\n",
      "WARNING:tsfresh.feature_selection.relevance:[test_feature_significance] Feature Press_mm_hg__standard_deviation is constant\n",
      "WARNING:tsfresh.feature_selection.relevance:[test_feature_significance] Feature Press_mm_hg__variance is constant\n",
      "WARNING:tsfresh.feature_selection.relevance:[test_feature_significance] Feature RH_2__length is constant\n",
      "WARNING:tsfresh.feature_selection.relevance:[test_feature_significance] Feature RH_1__length is constant\n",
      "WARNING:tsfresh.feature_selection.relevance:[test_feature_significance] Feature RH_2__standard_deviation is constant\n",
      "WARNING:tsfresh.feature_selection.relevance:[test_feature_significance] Feature RH_4__length is constant\n",
      "WARNING:tsfresh.feature_selection.relevance:[test_feature_significance] Feature RH_1__standard_deviation is constant\n",
      "WARNING:tsfresh.feature_selection.relevance:[test_feature_significance] Feature RH_2__variance is constant\n",
      "WARNING:tsfresh.feature_selection.relevance:[test_feature_significance] Feature RH_3__length is constant\n",
      "WARNING:tsfresh.feature_selection.relevance:[test_feature_significance] Feature RH_1__variance is constant\n",
      "WARNING:tsfresh.feature_selection.relevance:[test_feature_significance] Feature RH_4__standard_deviation is constant\n",
      "WARNING:tsfresh.feature_selection.relevance:[test_feature_significance] Feature RH_5__length is constant\n",
      "WARNING:tsfresh.feature_selection.relevance:[test_feature_significance] Feature RH_3__standard_deviation is constant\n",
      "WARNING:tsfresh.feature_selection.relevance:[test_feature_significance] Feature RH_4__variance is constant\n",
      "WARNING:tsfresh.feature_selection.relevance:[test_feature_significance] Feature RH_3__variance is constant\n",
      "WARNING:tsfresh.feature_selection.relevance:[test_feature_significance] Feature RH_6__length is constant\n",
      "WARNING:tsfresh.feature_selection.relevance:[test_feature_significance] Feature RH_5__variance is constant\n",
      "WARNING:tsfresh.feature_selection.relevance:[test_feature_significance] Feature RH_8__length is constant\n",
      "WARNING:tsfresh.feature_selection.relevance:[test_feature_significance] Feature RH_5__standard_deviation is constant\n",
      "WARNING:tsfresh.feature_selection.relevance:[test_feature_significance] Feature RH_6__standard_deviation is constant\n",
      "WARNING:tsfresh.feature_selection.relevance:[test_feature_significance] Feature RH_8__standard_deviation is constant\n",
      "WARNING:tsfresh.feature_selection.relevance:[test_feature_significance] Feature RH_9__length is constant\n",
      "WARNING:tsfresh.feature_selection.relevance:[test_feature_significance] Feature RH_6__variance is constant\n",
      "WARNING:tsfresh.feature_selection.relevance:[test_feature_significance] Feature RH_7__length is constant\n",
      "WARNING:tsfresh.feature_selection.relevance:[test_feature_significance] Feature RH_8__variance is constant\n",
      "WARNING:tsfresh.feature_selection.relevance:[test_feature_significance] Feature RH_out__length is constant\n",
      "WARNING:tsfresh.feature_selection.relevance:[test_feature_significance] Feature RH_7__standard_deviation is constant\n",
      "WARNING:tsfresh.feature_selection.relevance:[test_feature_significance] Feature RH_9__variance is constant\n",
      "WARNING:tsfresh.feature_selection.relevance:[test_feature_significance] Feature RH_out__standard_deviation is constant\n",
      "WARNING:tsfresh.feature_selection.relevance:[test_feature_significance] Feature RH_7__variance is constant\n",
      "WARNING:tsfresh.feature_selection.relevance:[test_feature_significance] Feature RH_9__standard_deviation is constant\n",
      "WARNING:tsfresh.feature_selection.relevance:[test_feature_significance] Feature T2__length is constant\n",
      "WARNING:tsfresh.feature_selection.relevance:[test_feature_significance] Feature RH_out__variance is constant\n",
      "WARNING:tsfresh.feature_selection.relevance:[test_feature_significance] Feature T1__length is constant\n",
      "WARNING:tsfresh.feature_selection.relevance:[test_feature_significance] Feature T2__standard_deviation is constant\n",
      "WARNING:tsfresh.feature_selection.relevance:[test_feature_significance] Feature T3__length is constant\n",
      "WARNING:tsfresh.feature_selection.relevance:[test_feature_significance] Feature T1__standard_deviation is constant\n",
      "WARNING:tsfresh.feature_selection.relevance:[test_feature_significance] Feature T4__length is constant\n",
      "WARNING:tsfresh.feature_selection.relevance:[test_feature_significance] Feature T2__variance is constant\n",
      "WARNING:tsfresh.feature_selection.relevance:[test_feature_significance] Feature T1__variance is constant\n",
      "WARNING:tsfresh.feature_selection.relevance:[test_feature_significance] Feature T4__standard_deviation is constant\n",
      "WARNING:tsfresh.feature_selection.relevance:[test_feature_significance] Feature T5__length is constant\n",
      "WARNING:tsfresh.feature_selection.relevance:[test_feature_significance] Feature T3__standard_deviation is constant\n",
      "WARNING:tsfresh.feature_selection.relevance:[test_feature_significance] Feature T4__variance is constant\n",
      "WARNING:tsfresh.feature_selection.relevance:[test_feature_significance] Feature T6__length is constant\n",
      "WARNING:tsfresh.feature_selection.relevance:[test_feature_significance] Feature T3__variance is constant\n",
      "WARNING:tsfresh.feature_selection.relevance:[test_feature_significance] Feature T6__standard_deviation is constant\n",
      "WARNING:tsfresh.feature_selection.relevance:[test_feature_significance] Feature T7__length is constant\n",
      "WARNING:tsfresh.feature_selection.relevance:[test_feature_significance] Feature T5__standard_deviation is constant\n",
      "WARNING:tsfresh.feature_selection.relevance:[test_feature_significance] Feature T6__variance is constant\n",
      "WARNING:tsfresh.feature_selection.relevance:[test_feature_significance] Feature T8__length is constant\n",
      "WARNING:tsfresh.feature_selection.relevance:[test_feature_significance] Feature T5__variance is constant\n",
      "WARNING:tsfresh.feature_selection.relevance:[test_feature_significance] Feature T8__standard_deviation is constant\n",
      "WARNING:tsfresh.feature_selection.relevance:[test_feature_significance] Feature T9__length is constant\n",
      "WARNING:tsfresh.feature_selection.relevance:[test_feature_significance] Feature T7__standard_deviation is constant\n",
      "WARNING:tsfresh.feature_selection.relevance:[test_feature_significance] Feature T8__variance is constant\n",
      "WARNING:tsfresh.feature_selection.relevance:[test_feature_significance] Feature T_out__length is constant\n",
      "WARNING:tsfresh.feature_selection.relevance:[test_feature_significance] Feature T7__variance is constant\n",
      "WARNING:tsfresh.feature_selection.relevance:[test_feature_significance] Feature T_out__standard_deviation is constant\n",
      "WARNING:tsfresh.feature_selection.relevance:[test_feature_significance] Feature T9__standard_deviation is constant\n",
      "WARNING:tsfresh.feature_selection.relevance:[test_feature_significance] Feature T9__variance is constant\n",
      "WARNING:tsfresh.feature_selection.relevance:[test_feature_significance] Feature Tdewpoint__length is constant\n",
      "WARNING:tsfresh.feature_selection.relevance:[test_feature_significance] Feature T_out__variance is constant\n",
      "WARNING:tsfresh.feature_selection.relevance:[test_feature_significance] Feature Visibility__length is constant\n",
      "WARNING:tsfresh.feature_selection.relevance:[test_feature_significance] Feature Visibility__standard_deviation is constant\n",
      "WARNING:tsfresh.feature_selection.relevance:[test_feature_significance] Feature Windspeed__length is constant\n",
      "WARNING:tsfresh.feature_selection.relevance:[test_feature_significance] Feature Tdewpoint__standard_deviation is constant\n",
      "WARNING:tsfresh.feature_selection.relevance:[test_feature_significance] Feature Visibility__variance is constant\n",
      "WARNING:tsfresh.feature_selection.relevance:[test_feature_significance] Feature Tdewpoint__variance is constant\n",
      "WARNING:tsfresh.feature_selection.relevance:[test_feature_significance] Feature Week_no__length is constant\n",
      "WARNING:tsfresh.feature_selection.relevance:[test_feature_significance] Feature Week_no__standard_deviation is constant\n",
      "WARNING:tsfresh.feature_selection.relevance:[test_feature_significance] Feature Windspeed__standard_deviation is constant\n",
      "WARNING:tsfresh.feature_selection.relevance:[test_feature_significance] Feature Week_no__variance is constant\n"
     ]
    },
    {
     "name": "stderr",
     "output_type": "stream",
     "text": [
      "WARNING:tsfresh.feature_selection.relevance:[test_feature_significance] Feature day_number__standard_deviation is constant\n",
      "WARNING:tsfresh.feature_selection.relevance:[test_feature_significance] Feature Windspeed__variance is constant\n",
      "WARNING:tsfresh.feature_selection.relevance:[test_feature_significance] Feature day_number__length is constant\n",
      "WARNING:tsfresh.feature_selection.relevance:[test_feature_significance] Feature day_of_week__length is constant\n",
      "WARNING:tsfresh.feature_selection.relevance:[test_feature_significance] Feature day_of_week__standard_deviation is constant\n",
      "WARNING:tsfresh.feature_selection.relevance:[test_feature_significance] Feature day_number__variance is constant\n",
      "WARNING:tsfresh.feature_selection.relevance:[test_feature_significance] Feature hour__length is constant\n",
      "WARNING:tsfresh.feature_selection.relevance:[test_feature_significance] Feature day_of_week__variance is constant\n",
      "WARNING:tsfresh.feature_selection.relevance:[test_feature_significance] Feature lights__length is constant\n",
      "WARNING:tsfresh.feature_selection.relevance:[test_feature_significance] Feature month__length is constant\n",
      "WARNING:tsfresh.feature_selection.relevance:[test_feature_significance] Feature hour__standard_deviation is constant\n",
      "WARNING:tsfresh.feature_selection.relevance:[test_feature_significance] Feature lights__standard_deviation is constant\n",
      "WARNING:tsfresh.feature_selection.relevance:[test_feature_significance] Feature lights__variance is constant\n",
      "WARNING:tsfresh.feature_selection.relevance:[test_feature_significance] Feature hour__variance is constant\n",
      "WARNING:tsfresh.feature_selection.relevance:[test_feature_significance] Feature month__standard_deviation is constant\n",
      "WARNING:tsfresh.feature_selection.relevance:[test_feature_significance] Feature min__length is constant\n",
      "WARNING:tsfresh.feature_selection.relevance:[test_feature_significance] Feature month__variance is constant\n",
      "WARNING:tsfresh.feature_selection.relevance:[test_feature_significance] Feature min__standard_deviation is constant\n",
      "WARNING:tsfresh.feature_selection.relevance:[test_feature_significance] Feature min__variance is constant\n"
     ]
    }
   ],
   "source": [
    "from tsfresh import select_features\n",
    "from tsfresh.utilities.dataframe_functions import impute\n",
    "# for extracting relevant features\n",
    "impute(extracted_features)\n",
    "features_filtered = select_features(extracted_features, y)"
   ]
  },
  {
   "cell_type": "markdown",
   "metadata": {},
   "source": [
    "#### 1.4.1 Test and Train Split"
   ]
  },
  {
   "cell_type": "code",
   "execution_count": 17,
   "metadata": {
    "collapsed": true
   },
   "outputs": [],
   "source": [
    "X_train, X_test, y_train, y_test = train_test_split(features_filtered, y, test_size=0.30, random_state=42)"
   ]
  },
  {
   "cell_type": "code",
   "execution_count": 18,
   "metadata": {},
   "outputs": [
    {
     "name": "stdout",
     "output_type": "stream",
     "text": [
      "LINEAR\n",
      "     Model                                          ModelType  mae_test  \\\n",
      "0  tsfresh  LinearRegression(copy_X=True, fit_intercept=Tr...  53.02121   \n",
      "\n",
      "   mae_train  mape_test  mape_train   r2_test  r2_train   rms_test  rms_train  \n",
      "0  52.843056  62.392016   60.635439  0.168859  0.171669  92.536131  93.703534  \n"
     ]
    }
   ],
   "source": [
    "tsfresh = models('tsfresh',X_train, y_train, X_test, y_test)"
   ]
  },
  {
   "cell_type": "code",
   "execution_count": 19,
   "metadata": {},
   "outputs": [
    {
     "data": {
      "text/html": [
       "<div>\n",
       "<style scoped>\n",
       "    .dataframe tbody tr th:only-of-type {\n",
       "        vertical-align: middle;\n",
       "    }\n",
       "\n",
       "    .dataframe tbody tr th {\n",
       "        vertical-align: top;\n",
       "    }\n",
       "\n",
       "    .dataframe thead th {\n",
       "        text-align: right;\n",
       "    }\n",
       "</style>\n",
       "<table border=\"1\" class=\"dataframe\">\n",
       "  <thead>\n",
       "    <tr style=\"text-align: right;\">\n",
       "      <th></th>\n",
       "      <th>Model</th>\n",
       "      <th>ModelType</th>\n",
       "      <th>mae_test</th>\n",
       "      <th>mae_train</th>\n",
       "      <th>mape_test</th>\n",
       "      <th>mape_train</th>\n",
       "      <th>r2_test</th>\n",
       "      <th>r2_train</th>\n",
       "      <th>rms_test</th>\n",
       "      <th>rms_train</th>\n",
       "    </tr>\n",
       "  </thead>\n",
       "  <tbody>\n",
       "    <tr>\n",
       "      <th>0</th>\n",
       "      <td>tsfresh</td>\n",
       "      <td>LinearRegression(copy_X=True, fit_intercept=Tr...</td>\n",
       "      <td>53.021210</td>\n",
       "      <td>52.843056</td>\n",
       "      <td>62.392016</td>\n",
       "      <td>60.635439</td>\n",
       "      <td>0.168859</td>\n",
       "      <td>0.171669</td>\n",
       "      <td>92.536131</td>\n",
       "      <td>93.703534</td>\n",
       "    </tr>\n",
       "    <tr>\n",
       "      <th>0</th>\n",
       "      <td>tsfresh</td>\n",
       "      <td>(DecisionTreeRegressor(criterion='mse', max_de...</td>\n",
       "      <td>32.592461</td>\n",
       "      <td>12.334478</td>\n",
       "      <td>32.352695</td>\n",
       "      <td>12.024886</td>\n",
       "      <td>0.546053</td>\n",
       "      <td>0.934848</td>\n",
       "      <td>68.387492</td>\n",
       "      <td>26.279544</td>\n",
       "    </tr>\n",
       "    <tr>\n",
       "      <th>0</th>\n",
       "      <td>tsfresh</td>\n",
       "      <td>MLPRegressor(activation='relu', alpha=0.55, ba...</td>\n",
       "      <td>48.811336</td>\n",
       "      <td>48.148924</td>\n",
       "      <td>51.915857</td>\n",
       "      <td>49.460150</td>\n",
       "      <td>0.181200</td>\n",
       "      <td>0.193453</td>\n",
       "      <td>91.846514</td>\n",
       "      <td>92.463200</td>\n",
       "    </tr>\n",
       "  </tbody>\n",
       "</table>\n",
       "</div>"
      ],
      "text/plain": [
       "     Model                                          ModelType   mae_test  \\\n",
       "0  tsfresh  LinearRegression(copy_X=True, fit_intercept=Tr...  53.021210   \n",
       "0  tsfresh  (DecisionTreeRegressor(criterion='mse', max_de...  32.592461   \n",
       "0  tsfresh  MLPRegressor(activation='relu', alpha=0.55, ba...  48.811336   \n",
       "\n",
       "   mae_train  mape_test  mape_train   r2_test  r2_train   rms_test  rms_train  \n",
       "0  52.843056  62.392016   60.635439  0.168859  0.171669  92.536131  93.703534  \n",
       "0  12.334478  32.352695   12.024886  0.546053  0.934848  68.387492  26.279544  \n",
       "0  48.148924  51.915857   49.460150  0.181200  0.193453  91.846514  92.463200  "
      ]
     },
     "execution_count": 19,
     "metadata": {},
     "output_type": "execute_result"
    }
   ],
   "source": [
    "tsfresh "
   ]
  },
  {
   "cell_type": "markdown",
   "metadata": {},
   "source": [
    "#### 1.4.2 After scaling tsfresh"
   ]
  },
  {
   "cell_type": "code",
   "execution_count": 20,
   "metadata": {
    "collapsed": true
   },
   "outputs": [],
   "source": [
    "from sklearn.preprocessing import StandardScaler\n",
    "scaler = StandardScaler()\n",
    "# Fit only to the training data\n",
    "scaler.fit(X_train)\n",
    "# Now apply the transformations to the data:\n",
    "X_train = scaler.transform(X_train)\n",
    "X_test = scaler.transform(X_test)"
   ]
  },
  {
   "cell_type": "code",
   "execution_count": 21,
   "metadata": {},
   "outputs": [
    {
     "name": "stdout",
     "output_type": "stream",
     "text": [
      "LINEAR\n",
      "                   Model                                          ModelType  \\\n",
      "0  After Scaling_tsfresh  LinearRegression(copy_X=True, fit_intercept=Tr...   \n",
      "\n",
      "    mae_test  mae_train  mape_test  mape_train   r2_test  r2_train   rms_test  \\\n",
      "0  52.968279  52.847314  62.388528   60.725148  0.169117  0.171448  92.521727   \n",
      "\n",
      "   rms_train  \n",
      "0  93.716054  \n"
     ]
    }
   ],
   "source": [
    "teston = models('After Scaling_tsfresh',X_train, y_train, X_test, y_test)"
   ]
  },
  {
   "cell_type": "code",
   "execution_count": 22,
   "metadata": {},
   "outputs": [
    {
     "data": {
      "text/html": [
       "<div>\n",
       "<style scoped>\n",
       "    .dataframe tbody tr th:only-of-type {\n",
       "        vertical-align: middle;\n",
       "    }\n",
       "\n",
       "    .dataframe tbody tr th {\n",
       "        vertical-align: top;\n",
       "    }\n",
       "\n",
       "    .dataframe thead th {\n",
       "        text-align: right;\n",
       "    }\n",
       "</style>\n",
       "<table border=\"1\" class=\"dataframe\">\n",
       "  <thead>\n",
       "    <tr style=\"text-align: right;\">\n",
       "      <th></th>\n",
       "      <th>Model</th>\n",
       "      <th>ModelType</th>\n",
       "      <th>mae_test</th>\n",
       "      <th>mae_train</th>\n",
       "      <th>mape_test</th>\n",
       "      <th>mape_train</th>\n",
       "      <th>r2_test</th>\n",
       "      <th>r2_train</th>\n",
       "      <th>rms_test</th>\n",
       "      <th>rms_train</th>\n",
       "    </tr>\n",
       "  </thead>\n",
       "  <tbody>\n",
       "    <tr>\n",
       "      <th>0</th>\n",
       "      <td>tsfresh</td>\n",
       "      <td>LinearRegression(copy_X=True, fit_intercept=Tr...</td>\n",
       "      <td>53.021210</td>\n",
       "      <td>52.843056</td>\n",
       "      <td>62.392016</td>\n",
       "      <td>60.635439</td>\n",
       "      <td>0.168859</td>\n",
       "      <td>0.171669</td>\n",
       "      <td>92.536131</td>\n",
       "      <td>93.703534</td>\n",
       "    </tr>\n",
       "    <tr>\n",
       "      <th>0</th>\n",
       "      <td>tsfresh</td>\n",
       "      <td>(DecisionTreeRegressor(criterion='mse', max_de...</td>\n",
       "      <td>32.592461</td>\n",
       "      <td>12.334478</td>\n",
       "      <td>32.352695</td>\n",
       "      <td>12.024886</td>\n",
       "      <td>0.546053</td>\n",
       "      <td>0.934848</td>\n",
       "      <td>68.387492</td>\n",
       "      <td>26.279544</td>\n",
       "    </tr>\n",
       "    <tr>\n",
       "      <th>0</th>\n",
       "      <td>tsfresh</td>\n",
       "      <td>MLPRegressor(activation='relu', alpha=0.55, ba...</td>\n",
       "      <td>48.811336</td>\n",
       "      <td>48.148924</td>\n",
       "      <td>51.915857</td>\n",
       "      <td>49.460150</td>\n",
       "      <td>0.181200</td>\n",
       "      <td>0.193453</td>\n",
       "      <td>91.846514</td>\n",
       "      <td>92.463200</td>\n",
       "    </tr>\n",
       "    <tr>\n",
       "      <th>0</th>\n",
       "      <td>After Scaling_tsfresh</td>\n",
       "      <td>LinearRegression(copy_X=True, fit_intercept=Tr...</td>\n",
       "      <td>52.968279</td>\n",
       "      <td>52.847314</td>\n",
       "      <td>62.388528</td>\n",
       "      <td>60.725148</td>\n",
       "      <td>0.169117</td>\n",
       "      <td>0.171448</td>\n",
       "      <td>92.521727</td>\n",
       "      <td>93.716054</td>\n",
       "    </tr>\n",
       "    <tr>\n",
       "      <th>0</th>\n",
       "      <td>After Scaling_tsfresh</td>\n",
       "      <td>(DecisionTreeRegressor(criterion='mse', max_de...</td>\n",
       "      <td>32.630809</td>\n",
       "      <td>12.328393</td>\n",
       "      <td>32.378313</td>\n",
       "      <td>12.030228</td>\n",
       "      <td>0.545768</td>\n",
       "      <td>0.934940</td>\n",
       "      <td>68.408937</td>\n",
       "      <td>26.261072</td>\n",
       "    </tr>\n",
       "    <tr>\n",
       "      <th>0</th>\n",
       "      <td>After Scaling_tsfresh</td>\n",
       "      <td>MLPRegressor(activation='relu', alpha=0.55, ba...</td>\n",
       "      <td>48.645106</td>\n",
       "      <td>47.000525</td>\n",
       "      <td>55.551459</td>\n",
       "      <td>52.965478</td>\n",
       "      <td>0.301070</td>\n",
       "      <td>0.361856</td>\n",
       "      <td>84.857588</td>\n",
       "      <td>82.245725</td>\n",
       "    </tr>\n",
       "  </tbody>\n",
       "</table>\n",
       "</div>"
      ],
      "text/plain": [
       "                   Model                                          ModelType  \\\n",
       "0                tsfresh  LinearRegression(copy_X=True, fit_intercept=Tr...   \n",
       "0                tsfresh  (DecisionTreeRegressor(criterion='mse', max_de...   \n",
       "0                tsfresh  MLPRegressor(activation='relu', alpha=0.55, ba...   \n",
       "0  After Scaling_tsfresh  LinearRegression(copy_X=True, fit_intercept=Tr...   \n",
       "0  After Scaling_tsfresh  (DecisionTreeRegressor(criterion='mse', max_de...   \n",
       "0  After Scaling_tsfresh  MLPRegressor(activation='relu', alpha=0.55, ba...   \n",
       "\n",
       "    mae_test  mae_train  mape_test  mape_train   r2_test  r2_train   rms_test  \\\n",
       "0  53.021210  52.843056  62.392016   60.635439  0.168859  0.171669  92.536131   \n",
       "0  32.592461  12.334478  32.352695   12.024886  0.546053  0.934848  68.387492   \n",
       "0  48.811336  48.148924  51.915857   49.460150  0.181200  0.193453  91.846514   \n",
       "0  52.968279  52.847314  62.388528   60.725148  0.169117  0.171448  92.521727   \n",
       "0  32.630809  12.328393  32.378313   12.030228  0.545768  0.934940  68.408937   \n",
       "0  48.645106  47.000525  55.551459   52.965478  0.301070  0.361856  84.857588   \n",
       "\n",
       "   rms_train  \n",
       "0  93.703534  \n",
       "0  26.279544  \n",
       "0  92.463200  \n",
       "0  93.716054  \n",
       "0  26.261072  \n",
       "0  82.245725  "
      ]
     },
     "execution_count": 22,
     "metadata": {},
     "output_type": "execute_result"
    }
   ],
   "source": [
    "teston"
   ]
  },
  {
   "cell_type": "markdown",
   "metadata": {},
   "source": [
    "## 1.5 tpot "
   ]
  },
  {
   "cell_type": "markdown",
   "metadata": {},
   "source": [
    "### 1.5.1 training testing spliting"
   ]
  },
  {
   "cell_type": "code",
   "execution_count": 8,
   "metadata": {
    "collapsed": true
   },
   "outputs": [],
   "source": [
    "X_tpot = phase.drop(['Appliances'],axis=1)\n",
    "y_tpot = phase['Appliances']"
   ]
  },
  {
   "cell_type": "code",
   "execution_count": 9,
   "metadata": {
    "collapsed": true
   },
   "outputs": [],
   "source": [
    "# Test and Train Split\n",
    "X_train, X_test, y_train, y_test = train_test_split(X_tpot, y_tpot, test_size=0.3, random_state=42)"
   ]
  },
  {
   "cell_type": "markdown",
   "metadata": {
    "collapsed": true
   },
   "source": [
    "### 1.5.2 pipeline"
   ]
  },
  {
   "cell_type": "code",
   "execution_count": 10,
   "metadata": {},
   "outputs": [
    {
     "name": "stderr",
     "output_type": "stream",
     "text": [
      "/Users/rishabhjain/anaconda3/lib/python3.6/site-packages/deap/tools/_hypervolume/pyhv.py:33: ImportWarning: Falling back to the python version of hypervolume module. Expect this to be very slow.\n",
      "  \"module. Expect this to be very slow.\", ImportWarning)\n",
      "/Users/rishabhjain/anaconda3/lib/python3.6/importlib/_bootstrap.py:219: ImportWarning: can't resolve package from __spec__ or __package__, falling back on __name__ and __path__\n",
      "  return f(*args, **kwds)\n",
      "/Users/rishabhjain/anaconda3/lib/python3.6/site-packages/sklearn/cross_validation.py:41: DeprecationWarning: This module was deprecated in version 0.18 in favor of the model_selection module into which all the refactored classes and functions are moved. Also note that the interface of the new CV iterators are different from that of this module. This module will be removed in 0.20.\n",
      "  \"This module will be removed in 0.20.\", DeprecationWarning)\n"
     ]
    }
   ],
   "source": [
    "from tpot import TPOTRegressor\n",
    "pipeline_optimizer = TPOTRegressor()"
   ]
  },
  {
   "cell_type": "code",
   "execution_count": 12,
   "metadata": {},
   "outputs": [],
   "source": [
    "pipeline_optimizer = TPOTRegressor(generations=10, population_size=20, cv = 3,\n",
    "                                    random_state=42, verbosity=2)"
   ]
  },
  {
   "cell_type": "code",
   "execution_count": 13,
   "metadata": {},
   "outputs": [
    {
     "name": "stderr",
     "output_type": "stream",
     "text": [
      "Optimization Progress:  18%|█▊        | 40/220 [04:58<15:25,  5.14s/pipeline] "
     ]
    },
    {
     "name": "stdout",
     "output_type": "stream",
     "text": [
      "Generation 1 - Current best internal CV score: -5462.105355916628\n"
     ]
    },
    {
     "name": "stderr",
     "output_type": "stream",
     "text": [
      "Optimization Progress:  27%|██▋       | 60/220 [16:49<31:25, 11.78s/pipeline]  "
     ]
    },
    {
     "name": "stdout",
     "output_type": "stream",
     "text": [
      "Generation 2 - Current best internal CV score: -5462.105355916628\n"
     ]
    },
    {
     "name": "stderr",
     "output_type": "stream",
     "text": [
      "Optimization Progress:  38%|███▊      | 84/220 [40:09<47:38, 21.02s/pipeline]   "
     ]
    },
    {
     "name": "stdout",
     "output_type": "stream",
     "text": [
      "Generation 3 - Current best internal CV score: -5462.105355916628\n"
     ]
    },
    {
     "name": "stderr",
     "output_type": "stream",
     "text": [
      "Optimization Progress:  47%|████▋     | 104/220 [44:18<24:14, 12.54s/pipeline] "
     ]
    },
    {
     "name": "stdout",
     "output_type": "stream",
     "text": [
      "Generation 4 - Current best internal CV score: -5462.105355916628\n"
     ]
    },
    {
     "name": "stderr",
     "output_type": "stream",
     "text": [
      "Optimization Progress:  56%|█████▋    | 124/220 [49:54<33:31, 20.95s/pipeline]"
     ]
    },
    {
     "name": "stdout",
     "output_type": "stream",
     "text": [
      "Generation 5 - Current best internal CV score: -5462.105355916628\n"
     ]
    },
    {
     "name": "stderr",
     "output_type": "stream",
     "text": [
      "Optimization Progress:  65%|██████▌   | 144/220 [56:14<27:25, 21.65s/pipeline]  "
     ]
    },
    {
     "name": "stdout",
     "output_type": "stream",
     "text": [
      "Generation 6 - Current best internal CV score: -5447.387656797821\n"
     ]
    },
    {
     "name": "stderr",
     "output_type": "stream",
     "text": [
      "Optimization Progress:  75%|███████▍  | 164/220 [1:02:53<18:57, 20.31s/pipeline]"
     ]
    },
    {
     "name": "stdout",
     "output_type": "stream",
     "text": [
      "Generation 7 - Current best internal CV score: -5447.313903685393\n"
     ]
    },
    {
     "name": "stderr",
     "output_type": "stream",
     "text": [
      "Optimization Progress:  84%|████████▎ | 184/220 [1:08:37<12:10, 20.30s/pipeline]"
     ]
    },
    {
     "name": "stdout",
     "output_type": "stream",
     "text": [
      "Generation 8 - Current best internal CV score: -5447.313903685393\n"
     ]
    },
    {
     "name": "stderr",
     "output_type": "stream",
     "text": [
      "Optimization Progress:  93%|█████████▎| 205/220 [1:19:28<19:18, 77.26s/pipeline] "
     ]
    },
    {
     "name": "stdout",
     "output_type": "stream",
     "text": [
      "Generation 9 - Current best internal CV score: -5330.967706336275\n"
     ]
    },
    {
     "name": "stderr",
     "output_type": "stream",
     "text": [
      "                                                                                \r"
     ]
    },
    {
     "name": "stdout",
     "output_type": "stream",
     "text": [
      "Generation 10 - Current best internal CV score: -5330.967706336275\n",
      "\n",
      "Best pipeline: ElasticNetCV(RandomForestRegressor(input_matrix, bootstrap=False, max_features=0.15, min_samples_leaf=1, min_samples_split=2, n_estimators=100), l1_ratio=0.95, tol=0.001)\n"
     ]
    },
    {
     "data": {
      "text/plain": [
       "TPOTRegressor(config_dict={'sklearn.linear_model.ElasticNetCV': {'l1_ratio': array([ 0.  ,  0.05,  0.1 ,  0.15,  0.2 ,  0.25,  0.3 ,  0.35,  0.4 ,\n",
       "        0.45,  0.5 ,  0.55,  0.6 ,  0.65,  0.7 ,  0.75,  0.8 ,  0.85,\n",
       "        0.9 ,  0.95,  1.  ]), 'tol': [1e-05, 0.0001, 0.001, 0.01, 0.1]}, 'sklearn.ensemble.ExtraT....45,\n",
       "        0.5 ,  0.55,  0.6 ,  0.65,  0.7 ,  0.75,  0.8 ,  0.85,  0.9 ,\n",
       "        0.95,  1.  ])}}}},\n",
       "       crossover_rate=0.1, cv=3, disable_update_check=False,\n",
       "       early_stop=None, generations=10, max_eval_time_mins=5,\n",
       "       max_time_mins=None, memory=None, mutation_rate=0.9, n_jobs=1,\n",
       "       offspring_size=20, periodic_checkpoint_folder=None,\n",
       "       population_size=20, random_state=42, scoring=None, subsample=1.0,\n",
       "       verbosity=2, warm_start=False)"
      ]
     },
     "execution_count": 13,
     "metadata": {},
     "output_type": "execute_result"
    }
   ],
   "source": [
    "pipeline_optimizer.fit(X_train,y_train)"
   ]
  },
  {
   "cell_type": "code",
   "execution_count": 14,
   "metadata": {},
   "outputs": [
    {
     "name": "stdout",
     "output_type": "stream",
     "text": [
      "-4178.76640353\n"
     ]
    }
   ],
   "source": [
    "print(pipeline_optimizer.score(X_test, y_test))"
   ]
  },
  {
   "cell_type": "code",
   "execution_count": null,
   "metadata": {
    "collapsed": true
   },
   "outputs": [],
   "source": []
  },
  {
   "cell_type": "markdown",
   "metadata": {},
   "source": [
    "# 2. Final Pipeline"
   ]
  },
  {
   "cell_type": "code",
   "execution_count": null,
   "metadata": {
    "collapsed": true
   },
   "outputs": [],
   "source": [
    "from sklearn.pipeline import Pipeline\n",
    ">>> from sklearn.svm import SVC\n",
    ">>> from sklearn.decomposition import PCA\n",
    ">>> estimators = [('reduce_dim', PCA()), ('clf', SVC())]\n",
    ">>> pipe = Pipeline(estimators)\n",
    ">>> pipe \n",
    "Pipeline(memory=None,\n",
    "         steps=[('reduce_dim', PCA(copy=True,...)),\n",
    "                ('clf', SVC(C=1.0,...))])"
   ]
  },
  {
   "cell_type": "code",
   "execution_count": null,
   "metadata": {
    "collapsed": true
   },
   "outputs": [],
   "source": [
    "from sklearn.pipeline import Pipeline\n"
   ]
  },
  {
   "cell_type": "code",
   "execution_count": null,
   "metadata": {
    "collapsed": true
   },
   "outputs": [],
   "source": []
  },
  {
   "cell_type": "code",
   "execution_count": null,
   "metadata": {
    "collapsed": true
   },
   "outputs": [],
   "source": []
  },
  {
   "cell_type": "code",
   "execution_count": null,
   "metadata": {
    "collapsed": true
   },
   "outputs": [],
   "source": []
  },
  {
   "cell_type": "code",
   "execution_count": 5,
   "metadata": {
    "collapsed": true
   },
   "outputs": [],
   "source": [
    "# Create a pipeline that extracts features from the data then creates a model\n",
    "from pandas import read_csv\n",
    "from sklearn.model_selection import KFold\n",
    "from sklearn.model_selection import cross_val_score\n",
    "from sklearn.pipeline import Pipeline\n",
    "from sklearn.pipeline import FeatureUnion\n",
    "from sklearn.linear_model import LogisticRegression\n",
    "from sklearn.decomposition import PCA\n",
    "from sklearn.feature_selection import SelectKBest"
   ]
  },
  {
   "cell_type": "code",
   "execution_count": 6,
   "metadata": {
    "collapsed": true
   },
   "outputs": [],
   "source": [
    "# load data\n",
    "df=pd.read_csv('../Data/energydata_complete.csv',index_col='date',header=0)"
   ]
  },
  {
   "cell_type": "code",
   "execution_count": 14,
   "metadata": {},
   "outputs": [
    {
     "data": {
      "text/plain": [
       "(19735, 28)"
      ]
     },
     "execution_count": 14,
     "metadata": {},
     "output_type": "execute_result"
    }
   ],
   "source": [
    "df.shape"
   ]
  },
  {
   "cell_type": "code",
   "execution_count": 15,
   "metadata": {},
   "outputs": [
    {
     "data": {
      "text/plain": [
       "Appliances       int64\n",
       "lights           int64\n",
       "T1             float64\n",
       "RH_1           float64\n",
       "T2             float64\n",
       "RH_2           float64\n",
       "T3             float64\n",
       "RH_3           float64\n",
       "T4             float64\n",
       "RH_4           float64\n",
       "T5             float64\n",
       "RH_5           float64\n",
       "T6             float64\n",
       "RH_6           float64\n",
       "T7             float64\n",
       "RH_7           float64\n",
       "T8             float64\n",
       "RH_8           float64\n",
       "T9             float64\n",
       "RH_9           float64\n",
       "T_out          float64\n",
       "Press_mm_hg    float64\n",
       "RH_out         float64\n",
       "Windspeed      float64\n",
       "Visibility     float64\n",
       "Tdewpoint      float64\n",
       "rv1            float64\n",
       "rv2            float64\n",
       "dtype: object"
      ]
     },
     "execution_count": 15,
     "metadata": {},
     "output_type": "execute_result"
    }
   ],
   "source": [
    "df.dtypes"
   ]
  },
  {
   "cell_type": "code",
   "execution_count": 16,
   "metadata": {
    "collapsed": true
   },
   "outputs": [],
   "source": [
    "array = df.values"
   ]
  },
  {
   "cell_type": "code",
   "execution_count": 17,
   "metadata": {
    "collapsed": true
   },
   "outputs": [],
   "source": [
    "X = array[:,1:29]\n",
    "Y = array[:,0]"
   ]
  },
  {
   "cell_type": "code",
   "execution_count": 18,
   "metadata": {
    "collapsed": true
   },
   "outputs": [],
   "source": [
    "# create feature union\n",
    "features = []\n",
    "features.append(('Manual',featur))\n",
    "#features.append((''))\n",
    "#features.append(('pca', PCA(n_components=3)))\n",
    "#features.append(('select_best', SelectKBest(k=6)))\n",
    "#feature_union = FeatureUnion(features)"
   ]
  },
  {
   "cell_type": "code",
   "execution_count": 9,
   "metadata": {},
   "outputs": [
    {
     "data": {
      "text/plain": [
       "[('Manual', <function __main__.featur>)]"
      ]
     },
     "execution_count": 9,
     "metadata": {},
     "output_type": "execute_result"
    }
   ],
   "source": []
  },
  {
   "cell_type": "code",
   "execution_count": 19,
   "metadata": {},
   "outputs": [
    {
     "ename": "TypeError",
     "evalue": "All intermediate steps should be transformers and implement fit and transform. '[('Manual', <function featur at 0x1a1785a7b8>)]' (type <class 'list'>) doesn't",
     "output_type": "error",
     "traceback": [
      "\u001b[0;31m---------------------------------------------------------------------------\u001b[0m",
      "\u001b[0;31mTypeError\u001b[0m                                 Traceback (most recent call last)",
      "\u001b[0;32m<ipython-input-19-f07e321a7028>\u001b[0m in \u001b[0;36m<module>\u001b[0;34m()\u001b[0m\n\u001b[1;32m      4\u001b[0m \u001b[0mestimators\u001b[0m\u001b[0;34m.\u001b[0m\u001b[0mappend\u001b[0m\u001b[0;34m(\u001b[0m\u001b[0;34m(\u001b[0m\u001b[0;34m'feature_union'\u001b[0m\u001b[0;34m,\u001b[0m \u001b[0mfeatures\u001b[0m\u001b[0;34m)\u001b[0m\u001b[0;34m)\u001b[0m\u001b[0;34m\u001b[0m\u001b[0m\n\u001b[1;32m      5\u001b[0m \u001b[0mestimators\u001b[0m\u001b[0;34m.\u001b[0m\u001b[0mappend\u001b[0m\u001b[0;34m(\u001b[0m\u001b[0;34m(\u001b[0m\u001b[0;34m'linear'\u001b[0m\u001b[0;34m,\u001b[0m \u001b[0mRandomForestRegressor\u001b[0m\u001b[0;34m(\u001b[0m\u001b[0;34m)\u001b[0m\u001b[0;34m)\u001b[0m\u001b[0;34m)\u001b[0m\u001b[0;34m\u001b[0m\u001b[0m\n\u001b[0;32m----> 6\u001b[0;31m \u001b[0mmodel\u001b[0m \u001b[0;34m=\u001b[0m \u001b[0mPipeline\u001b[0m\u001b[0;34m(\u001b[0m\u001b[0mestimators\u001b[0m\u001b[0;34m)\u001b[0m\u001b[0;34m\u001b[0m\u001b[0m\n\u001b[0m",
      "\u001b[0;32m~/anaconda3/lib/python3.6/site-packages/sklearn/pipeline.py\u001b[0m in \u001b[0;36m__init__\u001b[0;34m(self, steps, memory)\u001b[0m\n\u001b[1;32m    112\u001b[0m     \u001b[0;32mdef\u001b[0m \u001b[0m__init__\u001b[0m\u001b[0;34m(\u001b[0m\u001b[0mself\u001b[0m\u001b[0;34m,\u001b[0m \u001b[0msteps\u001b[0m\u001b[0;34m,\u001b[0m \u001b[0mmemory\u001b[0m\u001b[0;34m=\u001b[0m\u001b[0;32mNone\u001b[0m\u001b[0;34m)\u001b[0m\u001b[0;34m:\u001b[0m\u001b[0;34m\u001b[0m\u001b[0m\n\u001b[1;32m    113\u001b[0m         \u001b[0mself\u001b[0m\u001b[0;34m.\u001b[0m\u001b[0msteps\u001b[0m \u001b[0;34m=\u001b[0m \u001b[0msteps\u001b[0m\u001b[0;34m\u001b[0m\u001b[0m\n\u001b[0;32m--> 114\u001b[0;31m         \u001b[0mself\u001b[0m\u001b[0;34m.\u001b[0m\u001b[0m_validate_steps\u001b[0m\u001b[0;34m(\u001b[0m\u001b[0;34m)\u001b[0m\u001b[0;34m\u001b[0m\u001b[0m\n\u001b[0m\u001b[1;32m    115\u001b[0m         \u001b[0mself\u001b[0m\u001b[0;34m.\u001b[0m\u001b[0mmemory\u001b[0m \u001b[0;34m=\u001b[0m \u001b[0mmemory\u001b[0m\u001b[0;34m\u001b[0m\u001b[0m\n\u001b[1;32m    116\u001b[0m \u001b[0;34m\u001b[0m\u001b[0m\n",
      "\u001b[0;32m~/anaconda3/lib/python3.6/site-packages/sklearn/pipeline.py\u001b[0m in \u001b[0;36m_validate_steps\u001b[0;34m(self)\u001b[0m\n\u001b[1;32m    160\u001b[0m                 raise TypeError(\"All intermediate steps should be \"\n\u001b[1;32m    161\u001b[0m                                 \u001b[0;34m\"transformers and implement fit and transform.\"\u001b[0m\u001b[0;34m\u001b[0m\u001b[0m\n\u001b[0;32m--> 162\u001b[0;31m                                 \" '%s' (type %s) doesn't\" % (t, type(t)))\n\u001b[0m\u001b[1;32m    163\u001b[0m \u001b[0;34m\u001b[0m\u001b[0m\n\u001b[1;32m    164\u001b[0m         \u001b[0;31m# We allow last estimator to be None as an identity transformation\u001b[0m\u001b[0;34m\u001b[0m\u001b[0;34m\u001b[0m\u001b[0m\n",
      "\u001b[0;31mTypeError\u001b[0m: All intermediate steps should be transformers and implement fit and transform. '[('Manual', <function featur at 0x1a1785a7b8>)]' (type <class 'list'>) doesn't"
     ]
    }
   ],
   "source": [
    "from sklearn.ensemble import RandomForestRegressor\n",
    "# create pipeline\n",
    "estimators = []\n",
    "estimators.append(('feature_union', features))\n",
    "estimators.append(('linear', RandomForestRegressor()))\n",
    "model = Pipeline(estimators)"
   ]
  },
  {
   "cell_type": "code",
   "execution_count": 12,
   "metadata": {},
   "outputs": [
    {
     "name": "stdout",
     "output_type": "stream",
     "text": [
      "-0.711387673349\n"
     ]
    }
   ],
   "source": [
    "# evaluate pipeline\n",
    "seed = 7\n",
    "kfold = KFold(n_splits=10, random_state=seed)\n",
    "results = cross_val_score(model, X, Y, cv=kfold)\n",
    "print(results.mean())"
   ]
  },
  {
   "cell_type": "code",
   "execution_count": 14,
   "metadata": {},
   "outputs": [
    {
     "data": {
      "text/plain": [
       "array([-0.54135877, -1.65368598, -0.54331015, -0.54016187, -0.29640804,\n",
       "       -0.28948392, -0.11103888, -0.1286272 , -2.59698222, -0.41281971])"
      ]
     },
     "execution_count": 14,
     "metadata": {},
     "output_type": "execute_result"
    }
   ],
   "source": [
    "results"
   ]
  },
  {
   "cell_type": "code",
   "execution_count": null,
   "metadata": {
    "collapsed": true
   },
   "outputs": [],
   "source": []
  },
  {
   "cell_type": "code",
   "execution_count": null,
   "metadata": {
    "collapsed": true
   },
   "outputs": [],
   "source": []
  },
  {
   "cell_type": "code",
   "execution_count": null,
   "metadata": {
    "collapsed": true
   },
   "outputs": [],
   "source": []
  },
  {
   "cell_type": "code",
   "execution_count": null,
   "metadata": {
    "collapsed": true
   },
   "outputs": [],
   "source": []
  },
  {
   "cell_type": "code",
   "execution_count": null,
   "metadata": {
    "collapsed": true
   },
   "outputs": [],
   "source": []
  },
  {
   "cell_type": "code",
   "execution_count": null,
   "metadata": {
    "collapsed": true
   },
   "outputs": [],
   "source": []
  },
  {
   "cell_type": "code",
   "execution_count": null,
   "metadata": {
    "collapsed": true
   },
   "outputs": [],
   "source": []
  },
  {
   "cell_type": "code",
   "execution_count": null,
   "metadata": {
    "collapsed": true
   },
   "outputs": [],
   "source": []
  },
  {
   "cell_type": "code",
   "execution_count": null,
   "metadata": {
    "collapsed": true
   },
   "outputs": [],
   "source": []
  },
  {
   "cell_type": "code",
   "execution_count": 5,
   "metadata": {
    "collapsed": true
   },
   "outputs": [],
   "source": [
    "def featur():\n",
    "    features =['lights','hour','T1','RH_1','RH_5','RH_6','RH_8','T_out','Windspeed','Visibility','Tdewpoint']\n",
    "    return features"
   ]
  },
  {
   "cell_type": "code",
   "execution_count": null,
   "metadata": {
    "collapsed": true
   },
   "outputs": [],
   "source": []
  },
  {
   "cell_type": "code",
   "execution_count": 7,
   "metadata": {
    "collapsed": true
   },
   "outputs": [],
   "source": [
    "# Create a pipeline that extracts features from the data then creates a model\n",
    "from sklearn.linear_model import LinearRegression\n",
    "from pandas import read_csv\n",
    "from sklearn.model_selection import KFold\n",
    "from sklearn.model_selection import cross_val_score\n",
    "from sklearn.pipeline import Pipeline\n",
    "from sklearn.pipeline import FeatureUnion\n",
    "from sklearn.linear_model import LogisticRegression\n",
    "from sklearn.decomposition import PCA\n",
    "from sklearn.feature_selection import SelectKBest"
   ]
  },
  {
   "cell_type": "code",
   "execution_count": 8,
   "metadata": {
    "collapsed": true
   },
   "outputs": [],
   "source": [
    "dataframe = phase"
   ]
  },
  {
   "cell_type": "code",
   "execution_count": 9,
   "metadata": {},
   "outputs": [
    {
     "data": {
      "text/plain": [
       "month            int64\n",
       "day_of_week      int64\n",
       "hour             int64\n",
       "day_number       int64\n",
       "min              int64\n",
       "period           int64\n",
       "Appliances       int64\n",
       "lights           int64\n",
       "T1             float64\n",
       "RH_1           float64\n",
       "T2             float64\n",
       "RH_2           float64\n",
       "T3             float64\n",
       "RH_3           float64\n",
       "T4             float64\n",
       "RH_4           float64\n",
       "T5             float64\n",
       "RH_5           float64\n",
       "T6             float64\n",
       "RH_6           float64\n",
       "T7             float64\n",
       "RH_7           float64\n",
       "T8             float64\n",
       "RH_8           float64\n",
       "T9             float64\n",
       "RH_9           float64\n",
       "T_out          float64\n",
       "Press_mm_hg    float64\n",
       "RH_out         float64\n",
       "Windspeed      float64\n",
       "Visibility     float64\n",
       "Tdewpoint      float64\n",
       "Week_no          int64\n",
       "dtype: object"
      ]
     },
     "execution_count": 9,
     "metadata": {},
     "output_type": "execute_result"
    }
   ],
   "source": [
    "dataframe.dtypes"
   ]
  },
  {
   "cell_type": "code",
   "execution_count": 10,
   "metadata": {},
   "outputs": [
    {
     "data": {
      "text/plain": [
       "(19735, 33)"
      ]
     },
     "execution_count": 10,
     "metadata": {},
     "output_type": "execute_result"
    }
   ],
   "source": [
    "dataframe.shape"
   ]
  },
  {
   "cell_type": "code",
   "execution_count": 11,
   "metadata": {
    "collapsed": true
   },
   "outputs": [],
   "source": [
    "array = dataframe.values"
   ]
  },
  {
   "cell_type": "code",
   "execution_count": 18,
   "metadata": {
    "collapsed": true
   },
   "outputs": [],
   "source": [
    "df = dataframe.drop('Appliances',axis=1)"
   ]
  },
  {
   "cell_type": "code",
   "execution_count": 19,
   "metadata": {},
   "outputs": [
    {
     "data": {
      "text/plain": [
       "(19735, 32)"
      ]
     },
     "execution_count": 19,
     "metadata": {},
     "output_type": "execute_result"
    }
   ],
   "source": [
    "df.shape"
   ]
  },
  {
   "cell_type": "code",
   "execution_count": 20,
   "metadata": {
    "collapsed": true
   },
   "outputs": [],
   "source": [
    "array1 = df.values"
   ]
  },
  {
   "cell_type": "code",
   "execution_count": 21,
   "metadata": {
    "collapsed": true
   },
   "outputs": [],
   "source": [
    "X = array1[0:33]"
   ]
  },
  {
   "cell_type": "code",
   "execution_count": 22,
   "metadata": {
    "collapsed": true
   },
   "outputs": [],
   "source": [
    "Y = array[6]"
   ]
  },
  {
   "cell_type": "code",
   "execution_count": 23,
   "metadata": {},
   "outputs": [
    {
     "data": {
      "text/plain": [
       "array([  1.00000000e+00,   1.00000000e+00,   1.80000000e+01,\n",
       "         1.10000000e+01,   0.00000000e+00,   1.18000000e+03,\n",
       "         6.00000000e+01,   5.00000000e+01,   1.98900000e+01,\n",
       "         4.57666667e+01,   1.92000000e+01,   4.45000000e+01,\n",
       "         1.97900000e+01,   4.49000000e+01,   1.88900000e+01,\n",
       "         4.57900000e+01,   1.71000000e+01,   5.49666667e+01,\n",
       "         6.26333333e+00,   8.60900000e+01,   1.71333333e+01,\n",
       "         4.12000000e+01,   1.81000000e+01,   4.85900000e+01,\n",
       "         1.70000000e+01,   4.52900000e+01,   5.90000000e+00,\n",
       "         6.59864526e+00,   9.20000000e+01,   5.00000000e+00,\n",
       "         3.68887945e+00,   4.70000000e+00,   2.00000000e+00])"
      ]
     },
     "execution_count": 23,
     "metadata": {},
     "output_type": "execute_result"
    }
   ],
   "source": [
    "Y"
   ]
  },
  {
   "cell_type": "code",
   "execution_count": 24,
   "metadata": {
    "collapsed": true
   },
   "outputs": [],
   "source": [
    "# create feature union\n",
    "features = []\n",
    "features.append(('pca', PCA(n_components=3)))\n",
    "#features.append(('select_best', SelectKBest(k=6)))\n",
    "feature_union = FeatureUnion(features)"
   ]
  },
  {
   "cell_type": "code",
   "execution_count": 25,
   "metadata": {
    "collapsed": true
   },
   "outputs": [],
   "source": [
    "# create pipeline\n",
    "estimators = []\n",
    "estimators.append(('feature_union', feature_union))\n",
    "estimators.append(('linear', LinearRegression()))\n",
    "model = Pipeline(estimators)"
   ]
  },
  {
   "cell_type": "code",
   "execution_count": null,
   "metadata": {
    "collapsed": true
   },
   "outputs": [],
   "source": []
  },
  {
   "cell_type": "code",
   "execution_count": 26,
   "metadata": {},
   "outputs": [
    {
     "name": "stdout",
     "output_type": "stream",
     "text": [
      "-65.9265060891\n"
     ]
    }
   ],
   "source": [
    "seed = 7\n",
    "kfold = KFold(n_splits=10, random_state=seed)\n",
    "results = cross_val_score(model, X, Y, cv=kfold)\n",
    "print(results.mean())"
   ]
  },
  {
   "cell_type": "code",
   "execution_count": null,
   "metadata": {
    "collapsed": true
   },
   "outputs": [],
   "source": []
  },
  {
   "cell_type": "code",
   "execution_count": null,
   "metadata": {
    "collapsed": true
   },
   "outputs": [],
   "source": []
  },
  {
   "cell_type": "code",
   "execution_count": null,
   "metadata": {
    "collapsed": true
   },
   "outputs": [],
   "source": []
  },
  {
   "cell_type": "code",
   "execution_count": null,
   "metadata": {
    "collapsed": true
   },
   "outputs": [],
   "source": []
  },
  {
   "cell_type": "code",
   "execution_count": null,
   "metadata": {
    "collapsed": true
   },
   "outputs": [],
   "source": []
  },
  {
   "cell_type": "code",
   "execution_count": null,
   "metadata": {
    "collapsed": true
   },
   "outputs": [],
   "source": []
  },
  {
   "cell_type": "code",
   "execution_count": null,
   "metadata": {
    "collapsed": true
   },
   "outputs": [],
   "source": []
  },
  {
   "cell_type": "markdown",
   "metadata": {
    "collapsed": true
   },
   "source": [
    "## REFER IT"
   ]
  },
  {
   "cell_type": "markdown",
   "metadata": {},
   "source": [
    "# Model Validation"
   ]
  },
  {
   "cell_type": "code",
   "execution_count": null,
   "metadata": {
    "collapsed": true
   },
   "outputs": [],
   "source": []
  },
  {
   "cell_type": "code",
   "execution_count": 51,
   "metadata": {
    "collapsed": true
   },
   "outputs": [],
   "source": [
    "X = phase1[['lights']]\n",
    "y = phase1['Appliances']\n",
    "\n",
    "### 2.2.1.2 Training Testing split\n",
    "\n",
    "X_train, X_test, y_train, y_test = train_test_split(X, y, test_size=0.30, random_state=42)"
   ]
  },
  {
   "cell_type": "markdown",
   "metadata": {},
   "source": [
    "# .1 cross Validation"
   ]
  },
  {
   "cell_type": "code",
   "execution_count": 54,
   "metadata": {
    "collapsed": true
   },
   "outputs": [],
   "source": [
    "from sklearn.ensemble import RandomForestRegressor\n",
    "rf = RandomForestRegressor(n_estimators = 50, random_state = 42)\n",
    "modelrandomforest = rf.fit(X_train,y_train)\n",
    "#randomforest = calc_error_metric(name,modelrandomforest,rf, X_train, y_train, X_test, y_test)"
   ]
  },
  {
   "cell_type": "code",
   "execution_count": 55,
   "metadata": {
    "collapsed": true
   },
   "outputs": [],
   "source": [
    "from sklearn.cross_validation import cross_val_score\n",
    "scores = cross_val_score(modelrandomforest, X, y, cv=5)"
   ]
  },
  {
   "cell_type": "code",
   "execution_count": 56,
   "metadata": {},
   "outputs": [
    {
     "data": {
      "text/plain": [
       "array([-0.45535235, -0.14005897,  0.0426136 ,  0.08509776, -1.6228854 ])"
      ]
     },
     "execution_count": 56,
     "metadata": {},
     "output_type": "execute_result"
    }
   ],
   "source": [
    "scores"
   ]
  },
  {
   "cell_type": "code",
   "execution_count": 55,
   "metadata": {},
   "outputs": [
    {
     "data": {
      "text/plain": [
       "0.021366468620544164"
      ]
     },
     "execution_count": 55,
     "metadata": {},
     "output_type": "execute_result"
    }
   ],
   "source": [
    "scores.mean()"
   ]
  },
  {
   "cell_type": "code",
   "execution_count": 58,
   "metadata": {
    "collapsed": true
   },
   "outputs": [],
   "source": [
    "from sklearn.preprocessing import PolynomialFeatures\n",
    "from sklearn.linear_model import LinearRegression\n",
    "from sklearn.pipeline import make_pipeline\n",
    "\n",
    "def PolynomialRegression(degree=2, **kwargs):\n",
    "    return make_pipeline(PolynomialFeatures(degree),\n",
    "                         LinearRegression(**kwargs))"
   ]
  },
  {
   "cell_type": "code",
   "execution_count": 59,
   "metadata": {
    "collapsed": true
   },
   "outputs": [],
   "source": [
    "import numpy as np\n",
    "\n",
    "def make_data(N, err=1.0, rseed=1):\n",
    "    # randomly sample the data\n",
    "    rng = np.random.RandomState(rseed)\n",
    "    X = rng.rand(N, 1) ** 2\n",
    "    y = 10 - 1. / (X.ravel() + 0.1)\n",
    "    if err > 0:\n",
    "        y += err * rng.randn(N)\n",
    "    return X, y\n",
    "\n",
    "X, y = make_data(40)"
   ]
  },
  {
   "cell_type": "code",
   "execution_count": 60,
   "metadata": {},
   "outputs": [
    {
     "data": {
      "image/png": "[encoded data removed]",
      "text/plain": [
       "<matplotlib.figure.Figure at 0x10b9b7f98>"
      ]
     },
     "metadata": {
      "image/png": {
       "height": 252,
       "width": 374
      }
     },
     "output_type": "display_data"
    }
   ],
   "source": [
    "%matplotlib inline\n",
    "import matplotlib.pyplot as plt\n",
    "import seaborn; seaborn.set()  # plot formatting\n",
    "\n",
    "X_test = np.linspace(-0.1, 1.1, 500)[:, None]\n",
    "\n",
    "plt.scatter(X.ravel(), y, color='black')\n",
    "axis = plt.axis()\n",
    "for degree in [1, 3, 5]:\n",
    "    y_test = PolynomialRegression(degree).fit(X, y).predict(X_test)\n",
    "    plt.plot(X_test.ravel(), y_test, label='degree={0}'.format(degree))\n",
    "plt.xlim(-0.1, 1.0)\n",
    "plt.ylim(-2, 12)\n",
    "plt.legend(loc='best');"
   ]
  },
  {
   "cell_type": "code",
   "execution_count": 61,
   "metadata": {},
   "outputs": [
    {
     "name": "stderr",
     "output_type": "stream",
     "text": [
      "/Users/rishabhjain/anaconda3/lib/python3.6/site-packages/sklearn/learning_curve.py:22: DeprecationWarning: This module was deprecated in version 0.18 in favor of the model_selection module into which all the functions are moved. This module will be removed in 0.20\n",
      "  DeprecationWarning)\n"
     ]
    },
    {
     "data": {
      "image/png": "[encoded data removed]",
      "text/plain": [
       "<matplotlib.figure.Figure at 0x1c4f00e630>"
      ]
     },
     "metadata": {
      "image/png": {
       "height": 266,
       "width": 384
      }
     },
     "output_type": "display_data"
    }
   ],
   "source": [
    "from sklearn.learning_curve import validation_curve\n",
    "degree = np.arange(0, 21)\n",
    "train_score, val_score = validation_curve(PolynomialRegression(), X, y,\n",
    "                                          'polynomialfeatures__degree', degree, cv=7)\n",
    "\n",
    "plt.plot(degree, np.median(train_score, 1), color='blue', label='training score')\n",
    "plt.plot(degree, np.median(val_score, 1), color='red', label='validation score')\n",
    "plt.legend(loc='best')\n",
    "plt.ylim(0, 1)\n",
    "plt.xlabel('degree')\n",
    "plt.ylabel('score');"
   ]
  },
  {
   "cell_type": "code",
   "execution_count": 63,
   "metadata": {},
   "outputs": [
    {
     "data": {
      "image/png": "[encoded data removed]",
      "text/plain": [
       "<matplotlib.figure.Figure at 0x1c9a545c18>"
      ]
     },
     "metadata": {
      "image/png": {
       "height": 266,
       "width": 384
      }
     },
     "output_type": "display_data"
    }
   ],
   "source": [
    "degree = np.arange(21)\n",
    "train_score2, val_score2 = validation_curve(PolynomialRegression(), X, y,\n",
    "                                            'polynomialfeatures__degree', degree, cv=7)\n",
    "\n",
    "plt.plot(degree, np.median(train_score2, 1), color='blue', label='training score')\n",
    "plt.plot(degree, np.median(val_score2, 1), color='red', label='validation score')\n",
    "plt.plot(degree, np.median(train_score, 1), color='blue', alpha=0.3, linestyle='dashed')\n",
    "plt.plot(degree, np.median(val_score, 1), color='red', alpha=0.3, linestyle='dashed')\n",
    "plt.legend(loc='lower center')\n",
    "plt.ylim(0, 1)\n",
    "plt.xlabel('degree')\n",
    "plt.ylabel('score');"
   ]
  },
  {
   "cell_type": "code",
   "execution_count": null,
   "metadata": {
    "collapsed": true
   },
   "outputs": [],
   "source": [
    "# Grid Search "
   ]
  },
  {
   "cell_type": "code",
   "execution_count": 64,
   "metadata": {},
   "outputs": [
    {
     "name": "stderr",
     "output_type": "stream",
     "text": [
      "/Users/rishabhjain/anaconda3/lib/python3.6/site-packages/sklearn/grid_search.py:42: DeprecationWarning: This module was deprecated in version 0.18 in favor of the model_selection module into which all the refactored classes and functions are moved. This module will be removed in 0.20.\n",
      "  DeprecationWarning)\n"
     ]
    }
   ],
   "source": [
    "from sklearn.grid_search import GridSearchCV\n",
    "\n",
    "param_grid = {'polynomialfeatures__degree': np.arange(21),\n",
    "              'linearregression__fit_intercept': [True, False],\n",
    "              'linearregression__normalize': [True, False]}\n",
    "\n",
    "grid = GridSearchCV(PolynomialRegression(), param_grid, cv=7)"
   ]
  },
  {
   "cell_type": "code",
   "execution_count": 65,
   "metadata": {
    "collapsed": true
   },
   "outputs": [],
   "source": [
    "grid.fit(X, y);"
   ]
  },
  {
   "cell_type": "code",
   "execution_count": 66,
   "metadata": {},
   "outputs": [
    {
     "data": {
      "text/plain": [
       "{'linearregression__fit_intercept': False,\n",
       " 'linearregression__normalize': True,\n",
       " 'polynomialfeatures__degree': 4}"
      ]
     },
     "execution_count": 66,
     "metadata": {},
     "output_type": "execute_result"
    }
   ],
   "source": [
    "grid.best_params_"
   ]
  },
  {
   "cell_type": "code",
   "execution_count": 67,
   "metadata": {},
   "outputs": [
    {
     "name": "stderr",
     "output_type": "stream",
     "text": [
      "/Users/rishabhjain/anaconda3/lib/python3.6/site-packages/matplotlib/pyplot.py:3238: MatplotlibDeprecationWarning: The 'hold' keyword argument is deprecated since 2.0.\n",
      "  mplDeprecation)\n"
     ]
    },
    {
     "data": {
      "image/png": "[encoded data removed]",
      "text/plain": [
       "<matplotlib.figure.Figure at 0x1c57d3d4a8>"
      ]
     },
     "metadata": {
      "image/png": {
       "height": 248,
       "width": 367
      }
     },
     "output_type": "display_data"
    }
   ],
   "source": [
    "model = grid.best_estimator_\n",
    "\n",
    "plt.scatter(X.ravel(), y)\n",
    "lim = plt.axis()\n",
    "y_test = model.fit(X, y).predict(X_test)\n",
    "plt.plot(X_test.ravel(), y_test, hold=True);\n",
    "plt.axis(lim);"
   ]
  },
  {
   "cell_type": "code",
   "execution_count": 69,
   "metadata": {},
   "outputs": [
    {
     "data": {
      "text/plain": [
       "array([[  1.73907352e-01],\n",
       "       [  5.18867376e-01],\n",
       "       [  1.30815988e-08],\n",
       "       [  9.14049845e-02],\n",
       "       [  2.15372915e-02],\n",
       "       [  8.52641608e-03],\n",
       "       [  3.46928663e-02],\n",
       "       [  1.19412216e-01],\n",
       "       [  1.57424429e-01],\n",
       "       [  2.90323473e-01],\n",
       "       [  1.75724041e-01],\n",
       "       [  4.69525764e-01],\n",
       "       [  4.18007224e-02],\n",
       "       [  7.71090232e-01],\n",
       "       [  7.50080261e-04],\n",
       "       [  4.49526682e-01],\n",
       "       [  1.74143298e-01],\n",
       "       [  3.12134324e-01],\n",
       "       [  1.97084925e-02],\n",
       "       [  3.92442000e-02],\n",
       "       [  6.41191864e-01],\n",
       "       [  9.37530479e-01],\n",
       "       [  9.82347155e-02],\n",
       "       [  4.79310604e-01],\n",
       "       [  7.68057946e-01],\n",
       "       [  8.00321082e-01],\n",
       "       [  7.23251789e-03],\n",
       "       [  1.52527609e-03],\n",
       "       [  2.88423714e-02],\n",
       "       [  7.71134256e-01],\n",
       "       [  9.67209972e-03],\n",
       "       [  1.77331632e-01],\n",
       "       [  9.17552352e-01],\n",
       "       [  2.84265221e-01],\n",
       "       [  4.78693941e-01],\n",
       "       [  9.95501134e-02],\n",
       "       [  4.71283524e-01],\n",
       "       [  6.96600012e-01],\n",
       "       [  3.34461088e-04],\n",
       "       [  5.62716493e-01]])"
      ]
     },
     "execution_count": 69,
     "metadata": {},
     "output_type": "execute_result"
    }
   ],
   "source": [
    "from sklearn.preprocessing import Imputer\n",
    "imp = Imputer(strategy='mean')\n",
    "X2 = imp.fit_transform(X)\n",
    "imp"
   ]
  },
  {
   "cell_type": "code",
   "execution_count": 32,
   "metadata": {},
   "outputs": [
    {
     "ename": "NameError",
     "evalue": "name 'imp' is not defined",
     "output_type": "error",
     "traceback": [
      "\u001b[0;31m---------------------------------------------------------------------------\u001b[0m",
      "\u001b[0;31mNameError\u001b[0m                                 Traceback (most recent call last)",
      "\u001b[0;32m<ipython-input-32-654497dc28ac>\u001b[0m in \u001b[0;36m<module>\u001b[0;34m()\u001b[0m\n\u001b[0;32m----> 1\u001b[0;31m \u001b[0mimp\u001b[0m\u001b[0;34m\u001b[0m\u001b[0m\n\u001b[0m",
      "\u001b[0;31mNameError\u001b[0m: name 'imp' is not defined"
     ]
    }
   ],
   "source": [
    "imp"
   ]
  },
  {
   "cell_type": "code",
   "execution_count": 70,
   "metadata": {},
   "outputs": [
    {
     "data": {
      "text/plain": [
       "array([  4.32585461,   7.62046757,   2.66491614,   3.53789847,\n",
       "         2.87061243,   2.74634934,   2.9962575 ,   3.8053874 ,\n",
       "         4.168431  ,   5.43771116,   4.34320528,   7.14922017,\n",
       "         3.06414257,  10.02937479,   2.67207982,   6.95821475,\n",
       "         4.32810806,   5.64602026,   2.8531461 ,   3.03972597,\n",
       "         8.78875322,  11.61899723,   3.60312724,   7.24267234,\n",
       "        10.00041431,  10.30855015,   2.73399169,   2.67948349,\n",
       "         2.94038113,  10.02979526,   2.75729143,   4.35855891,\n",
       "        11.42819195,   5.37985055,   7.23678277,   3.61569023,\n",
       "         7.16600803,   9.31794034,   2.66811036,   8.03925775])"
      ]
     },
     "execution_count": 70,
     "metadata": {},
     "output_type": "execute_result"
    }
   ],
   "source": [
    "model = LinearRegression().fit(X2, y)\n",
    "model.predict(X2)"
   ]
  },
  {
   "cell_type": "code",
   "execution_count": 71,
   "metadata": {
    "collapsed": true
   },
   "outputs": [],
   "source": [
    "from sklearn.pipeline import make_pipeline\n",
    "\n",
    "model = make_pipeline(Imputer(strategy='mean'),\n",
    "                      PolynomialFeatures(degree=2),\n",
    "                      LinearRegression())"
   ]
  },
  {
   "cell_type": "code",
   "execution_count": 30,
   "metadata": {
    "collapsed": true
   },
   "outputs": [],
   "source": [
    "from sklearn.linear_model import LinearRegression"
   ]
  },
  {
   "cell_type": "code",
   "execution_count": null,
   "metadata": {
    "collapsed": true
   },
   "outputs": [],
   "source": []
  },
  {
   "cell_type": "code",
   "execution_count": null,
   "metadata": {
    "collapsed": true
   },
   "outputs": [],
   "source": []
  },
  {
   "cell_type": "code",
   "execution_count": null,
   "metadata": {
    "collapsed": true
   },
   "outputs": [],
   "source": []
  },
  {
   "cell_type": "code",
   "execution_count": null,
   "metadata": {
    "collapsed": true
   },
   "outputs": [],
   "source": []
  },
  {
   "cell_type": "code",
   "execution_count": null,
   "metadata": {
    "collapsed": true
   },
   "outputs": [],
   "source": []
  },
  {
   "cell_type": "code",
   "execution_count": 72,
   "metadata": {},
   "outputs": [
    {
     "name": "stdout",
     "output_type": "stream",
     "text": [
      "[  7.24998644   7.70041705  -0.12288892   3.83970623   1.50418461\n",
      "   1.31600899   1.88404109   5.0456151    5.42819209   6.59281674\n",
      "   5.70193919   8.23148858   1.8305394    9.086429     1.73425177\n",
      "   8.92229631   6.16043712   6.68597765   0.8992155    4.51082693\n",
      "   8.70162943   8.39917725   5.14639037  10.37406543   8.96816213\n",
      "   9.50648826   0.9746409   -0.20201375   1.09605993   8.50272859\n",
      "   0.67301646   6.98083184   9.856233     8.32873282   8.55755817\n",
      "   5.87386864   7.49515774   9.997533     0.54626444   8.1929663 ]\n",
      "[ 5.21085248  9.29034256  1.3913101   3.54617659  1.92844858  1.60612545\n",
      "  2.24763109  4.14110569  4.89953144  7.10739223  5.24451566  8.99180195\n",
      "  2.41726904  9.33040045  1.41032135  8.84370491  5.21523183  7.40381263\n",
      "  1.88354261  2.35648173  9.62020808  7.99544979  3.69407937  9.05856689\n",
      "  9.34468135  9.17430945  1.57370963  1.42994641  2.10652049  9.33019047\n",
      "  1.63477347  5.27419672  8.21285237  7.02175897  9.05446967  3.72235595\n",
      "  9.00407135  9.57722696  1.39978975  9.47581628]\n"
     ]
    }
   ],
   "source": [
    "model.fit(X, y)  # X with missing values, from above\n",
    "print(y)\n",
    "print(model.predict(X))"
   ]
  },
  {
   "cell_type": "code",
   "execution_count": null,
   "metadata": {
    "collapsed": true
   },
   "outputs": [],
   "source": []
  },
  {
   "cell_type": "code",
   "execution_count": 1,
   "metadata": {},
   "outputs": [
    {
     "name": "stdout",
     "output_type": "stream",
     "text": [
      "Collecting xgboost\n",
      "  Using cached xgboost-0.7.post3.tar.gz\n",
      "    Complete output from command python setup.py egg_info:\n",
      "    ++ pwd\n",
      "    + oldpath=/private/var/folders/k3/zxzdhqsn0z9gy8x69r6h6fqr0000gn/T/pip-build-56m3wfe7/xgboost\n",
      "    + cd ./xgboost/\n",
      "    + [[ darwin17 == \\d\\a\\r\\w\\i\\n* ]]\n",
      "    + LIB_XGBOOST=libxgboost.dylib\n",
      "    + make lib/libxgboost.dylib -j4\n",
      "    Makefile:31: MAKE [/Library/Developer/CommandLineTools/usr/bin/make] - checked OK\n",
      "    c++ -std=c++11 -Wall -Wno-unknown-pragmas -Iinclude   -I/private/var/folders/k3/zxzdhqsn0z9gy8x69r6h6fqr0000gn/T/pip-build-56m3wfe7/xgboost/xgboost/dmlc-core/include -Irabit/include -I/include -O3 -funroll-loops -msse2 -fPIC -fopenmp -MM -MT build/learner.o src/learner.cc >build/learner.d\n",
      "    c++ -std=c++11 -Wall -Wno-unknown-pragmas -Iinclude   -I/private/var/folders/k3/zxzdhqsn0z9gy8x69r6h6fqr0000gn/T/pip-build-56m3wfe7/xgboost/xgboost/dmlc-core/include -Irabit/include -I/include -O3 -funroll-loops -msse2 -fPIC -fopenmp -MM -MT build/logging.o src/logging.cc >build/logging.d\n",
      "    c++ -std=c++11 -Wall -Wno-unknown-pragmas -Iinclude   -I/private/var/folders/k3/zxzdhqsn0z9gy8x69r6h6fqr0000gn/T/pip-build-56m3wfe7/xgboost/xgboost/dmlc-core/include -Irabit/include -I/include -O3 -funroll-loops -msse2 -fPIC -fopenmp -MM -MT build/c_api/c_api.o src/c_api/c_api.cc >build/c_api/c_api.d\n",
      "    c++ -std=c++11 -Wall -Wno-unknown-pragmas -Iinclude   -I/private/var/folders/k3/zxzdhqsn0z9gy8x69r6h6fqr0000gn/T/pip-build-56m3wfe7/xgboost/xgboost/dmlc-core/include -Irabit/include -I/include -O3 -funroll-loops -msse2 -fPIC -fopenmp -MM -MT build/c_api/c_api_error.o src/c_api/c_api_error.cc >build/c_api/c_api_error.d\n",
      "    clang: error: unsupported option '-fopenmp'\n",
      "    clang: error: unsupported option '-fopenmp'\n",
      "    clang: error: unsupported option '-fopenmp'\n",
      "    make: *** [build/learner.o] Error 1\n",
      "    make: *** Waiting for unfinished jobs....\n",
      "    clang: error: unsupported option '-fopenmp'\n",
      "    make: *** [build/c_api/c_api_error.o] Error 1\n",
      "    make: *** [build/logging.o] Error 1\n",
      "    make: *** [build/c_api/c_api.o] Error 1\n",
      "    + echo -----------------------------\n",
      "    -----------------------------\n",
      "    + echo 'Building multi-thread xgboost failed'\n",
      "    Building multi-thread xgboost failed\n",
      "    + echo 'Start to build single-thread xgboost'\n",
      "    Start to build single-thread xgboost\n",
      "    + make clean\n",
      "    Makefile:31: MAKE [/Library/Developer/CommandLineTools/usr/bin/make] - checked OK\n",
      "    rm -f -rf build build_plugin lib bin *~ */*~ */*/*~ */*/*/*~ */*.o */*/*.o */*/*/*.o #xgboost\n",
      "    rm -f -rf build_tests *.gcov tests/cpp/xgboost_test\n",
      "    cd R-package/src; rm -f -rf rabit src include dmlc-core amalgamation *.so *.dll; cd /private/var/folders/k3/zxzdhqsn0z9gy8x69r6h6fqr0000gn/T/pip-build-56m3wfe7/xgboost/xgboost\n",
      "    /bin/sh: line 0: cd: R-package/src: No such file or directory\n",
      "    + make lib/libxgboost.dylib -j4 USE_OPENMP=0\n",
      "    Makefile:31: MAKE [/Library/Developer/CommandLineTools/usr/bin/make] - checked OK\n",
      "    Makefile:43: /private/var/folders/k3/zxzdhqsn0z9gy8x69r6h6fqr0000gn/T/pip-build-56m3wfe7/xgboost/xgboost/dmlc-core/make/dmlc.mk: No such file or directory\n",
      "    make: *** No rule to make target `/private/var/folders/k3/zxzdhqsn0z9gy8x69r6h6fqr0000gn/T/pip-build-56m3wfe7/xgboost/xgboost/dmlc-core/make/dmlc.mk'.  Stop.\n",
      "    Traceback (most recent call last):\n",
      "      File \"<string>\", line 1, in <module>\n",
      "      File \"/private/var/folders/k3/zxzdhqsn0z9gy8x69r6h6fqr0000gn/T/pip-build-56m3wfe7/xgboost/setup.py\", line 37, in <module>\n",
      "        LIB_PATH = libpath['find_lib_path']()\n",
      "      File \"/private/var/folders/k3/zxzdhqsn0z9gy8x69r6h6fqr0000gn/T/pip-build-56m3wfe7/xgboost/xgboost/libpath.py\", line 49, in find_lib_path\n",
      "        'List of candidates:\\n' + ('\\n'.join(dll_path)))\n",
      "    XGBoostLibraryNotFound: Cannot find XGBoost Library in the candidate path, did you install compilers and run build.sh in root path?\n",
      "    List of candidates:\n",
      "    /private/var/folders/k3/zxzdhqsn0z9gy8x69r6h6fqr0000gn/T/pip-build-56m3wfe7/xgboost/xgboost/libxgboost.dylib\n",
      "    /private/var/folders/k3/zxzdhqsn0z9gy8x69r6h6fqr0000gn/T/pip-build-56m3wfe7/xgboost/xgboost/../../lib/libxgboost.dylib\n",
      "    /private/var/folders/k3/zxzdhqsn0z9gy8x69r6h6fqr0000gn/T/pip-build-56m3wfe7/xgboost/xgboost/./lib/libxgboost.dylib\n",
      "    /Users/rishabhjain/anaconda3/xgboost/libxgboost.dylib\n",
      "    \n",
      "    ----------------------------------------\n",
      "\u001b[31mCommand \"python setup.py egg_info\" failed with error code 1 in /private/var/folders/k3/zxzdhqsn0z9gy8x69r6h6fqr0000gn/T/pip-build-56m3wfe7/xgboost/\u001b[0m\n"
     ]
    }
   ],
   "source": [
    "!pip install xgboost\n"
   ]
  },
  {
   "cell_type": "code",
   "execution_count": null,
   "metadata": {
    "collapsed": true
   },
   "outputs": [],
   "source": []
  },
  {
   "cell_type": "code",
   "execution_count": null,
   "metadata": {
    "collapsed": true
   },
   "outputs": [],
   "source": []
  },
  {
   "cell_type": "code",
   "execution_count": null,
   "metadata": {
    "collapsed": true
   },
   "outputs": [],
   "source": []
  },
  {
   "cell_type": "code",
   "execution_count": null,
   "metadata": {
    "collapsed": true
   },
   "outputs": [],
   "source": []
  }
 ],
 "metadata": {
  "kernelspec": {
   "display_name": "Python 3",
   "language": "python",
   "name": "python3"
  },
  "language_info": {
   "codemirror_mode": {
    "name": "ipython",
    "version": 3
   },
   "file_extension": ".py",
   "mimetype": "text/x-python",
   "name": "python",
   "nbconvert_exporter": "python",
   "pygments_lexer": "ipython3",
   "version": "3.6.3"
  }
 },
 "nbformat": 4,
 "nbformat_minor": 2
}
